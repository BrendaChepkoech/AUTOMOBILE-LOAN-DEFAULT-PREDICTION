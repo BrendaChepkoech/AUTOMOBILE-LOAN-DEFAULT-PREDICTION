{
  "nbformat": 4,
  "nbformat_minor": 0,
  "metadata": {
    "colab": {
      "name": "INSURANCE PREDICTION PROJECT - SPEED RACERS GROUP",
      "provenance": [],
      "collapsed_sections": [
        "XecOwPNorl2W",
        "J4wfHZwQrs-t",
        "a9BPYqunry97",
        "7KMRBJ7zr9HD",
        "iUNbvIvnT7ep",
        "ckfufNrcUHeH",
        "6XC_g-zKxe-r"
      ],
      "include_colab_link": true
    },
    "kernelspec": {
      "name": "python3",
      "display_name": "Python 3"
    }
  },
  "cells": [
    {
      "cell_type": "markdown",
      "metadata": {
        "id": "view-in-github",
        "colab_type": "text"
      },
      "source": [
        "<a href=\"https://colab.research.google.com/github/BrendaChepkoech/AUTOMOBILE-LOAN-DEFAULT-PREDICTION/blob/main/INSURANCE_PREDICTION_PROJECT_SPEED_RACERS_GROUP.ipynb\" target=\"_parent\"><img src=\"https://colab.research.google.com/assets/colab-badge.svg\" alt=\"Open In Colab\"/></a>"
      ]
    },
    {
      "cell_type": "markdown",
      "metadata": {
        "id": "kLG2VTrnTvYL"
      },
      "source": [
        "## 1. Defining the Question"
      ]
    },
    {
      "cell_type": "markdown",
      "metadata": {
        "id": "XecOwPNorl2W"
      },
      "source": [
        "### a) Specifying the Question"
      ]
    },
    {
      "cell_type": "markdown",
      "metadata": {
        "id": "8l3-hBO6bODP"
      },
      "source": [
        "You have been appointed as the Lead Data Analyst to build a predictive model to determine if a building will have an insurance claim during a certain period or not. You will have to predict the probability of having at least one claim over the insured period of the building."
      ]
    },
    {
      "cell_type": "markdown",
      "metadata": {
        "id": "J4wfHZwQrs-t"
      },
      "source": [
        "### b) Defining the Metric for Success"
      ]
    },
    {
      "cell_type": "markdown",
      "source": [
        "To be able to build a tensor flow model."
      ],
      "metadata": {
        "id": "pok4EHGymL-t"
      }
    },
    {
      "cell_type": "markdown",
      "metadata": {
        "id": "a9BPYqunry97"
      },
      "source": [
        "### c) Understanding the context "
      ]
    },
    {
      "cell_type": "markdown",
      "source": [
        "Recently, there has been an increase in the number of building collapse in Lagos and major cities in Nigeria. Olusola Insurance Company offers a building insurance policy that protects buildings against damages that could be caused by a fire or vandalism, by a flood or storm"
      ],
      "metadata": {
        "id": "OJ7PGf4vqFQR"
      }
    },
    {
      "cell_type": "markdown",
      "metadata": {
        "id": "7KMRBJ7zr9HD"
      },
      "source": [
        "### d) Recording the Experimental Design"
      ]
    },
    {
      "cell_type": "markdown",
      "source": [
        "\n",
        "\n",
        "*   Import the relevant libraries that we will use in our analysis.\n",
        "\n",
        "* Read and explore the dataset we will use for our project.\n",
        "\n",
        "* Define the appropriateness of the available data with regards to the project.\n",
        "\n",
        "* Find and deal with outliers, anomalies, and missing data within the dataset.\n",
        "\n",
        "* Perform univariate and bivariate analysis while recording our observations.\n",
        "\n",
        "* Implement the solution by using tensor flow.\n",
        "\n",
        "* Challenge the solution by giving insights on how we can optimize the models to give us a better performance as compared to the baseline model.\n",
        "\n",
        "* Provide recommendations based on the whole analysis and modelling techniques used in the project."
      ],
      "metadata": {
        "id": "sJFE-jYuqhm6"
      }
    },
    {
      "cell_type": "markdown",
      "metadata": {
        "id": "zSGyg6kWsBUl"
      },
      "source": [
        "### e) Data Relevance"
      ]
    },
    {
      "cell_type": "code",
      "source": [
        "import pandas as pd\n",
        "pd.set_option(\"display.max_colwidth\", -1)\n",
        "\n",
        "def_variables = pd.read_csv('VariableDescription.csv')\n",
        "def_variables"
      ],
      "metadata": {
        "colab": {
          "base_uri": "https://localhost:8080/",
          "height": 543
        },
        "id": "-imnpjA0yVZu",
        "outputId": "50037abd-cfc7-4421-b131-d670f50b7871"
      },
      "execution_count": null,
      "outputs": [
        {
          "output_type": "stream",
          "name": "stderr",
          "text": [
            "/usr/local/lib/python3.7/dist-packages/ipykernel_launcher.py:2: FutureWarning: Passing a negative integer is deprecated in version 1.0 and will not be supported in future version. Instead, use None to not limit the column width.\n",
            "  \n"
          ]
        },
        {
          "output_type": "execute_result",
          "data": {
            "text/html": [
              "\n",
              "  <div id=\"df-77a87dca-9e74-4152-b939-43cec9636498\">\n",
              "    <div class=\"colab-df-container\">\n",
              "      <div>\n",
              "<style scoped>\n",
              "    .dataframe tbody tr th:only-of-type {\n",
              "        vertical-align: middle;\n",
              "    }\n",
              "\n",
              "    .dataframe tbody tr th {\n",
              "        vertical-align: top;\n",
              "    }\n",
              "\n",
              "    .dataframe thead th {\n",
              "        text-align: right;\n",
              "    }\n",
              "</style>\n",
              "<table border=\"1\" class=\"dataframe\">\n",
              "  <thead>\n",
              "    <tr style=\"text-align: right;\">\n",
              "      <th></th>\n",
              "      <th>Variable</th>\n",
              "      <th>Description</th>\n",
              "    </tr>\n",
              "  </thead>\n",
              "  <tbody>\n",
              "    <tr>\n",
              "      <th>0</th>\n",
              "      <td>Customer Id</td>\n",
              "      <td>Identification number for the Policy holder</td>\n",
              "    </tr>\n",
              "    <tr>\n",
              "      <th>1</th>\n",
              "      <td>YearOfObservation</td>\n",
              "      <td>year of observation for the insured policy</td>\n",
              "    </tr>\n",
              "    <tr>\n",
              "      <th>2</th>\n",
              "      <td>Insured_Period</td>\n",
              "      <td>duration of insurance policy in Olusola Insurance. (Ex: Full year insurance, Policy Duration = 1; 6 months = 0.5</td>\n",
              "    </tr>\n",
              "    <tr>\n",
              "      <th>3</th>\n",
              "      <td>Residential</td>\n",
              "      <td>is the building a residential building or not</td>\n",
              "    </tr>\n",
              "    <tr>\n",
              "      <th>4</th>\n",
              "      <td>Building_Painted</td>\n",
              "      <td>is the building painted or not (N-Painted, V-Not Painted)</td>\n",
              "    </tr>\n",
              "    <tr>\n",
              "      <th>5</th>\n",
              "      <td>Building_Fenced</td>\n",
              "      <td>is the building fence or not (N-Fenced, V-Not Fenced)</td>\n",
              "    </tr>\n",
              "    <tr>\n",
              "      <th>6</th>\n",
              "      <td>Garden</td>\n",
              "      <td>building has garden or not (V-has garden; O-no garden)</td>\n",
              "    </tr>\n",
              "    <tr>\n",
              "      <th>7</th>\n",
              "      <td>Settlement</td>\n",
              "      <td>Area where the building is located. (R- rural area; U- urban area)</td>\n",
              "    </tr>\n",
              "    <tr>\n",
              "      <th>8</th>\n",
              "      <td>Building Dimension</td>\n",
              "      <td>Size of the insured building in m2</td>\n",
              "    </tr>\n",
              "    <tr>\n",
              "      <th>9</th>\n",
              "      <td>Building_Type</td>\n",
              "      <td>The type of building (Type 1, 2, 3, 4)</td>\n",
              "    </tr>\n",
              "    <tr>\n",
              "      <th>10</th>\n",
              "      <td>Date_of_Occupancy</td>\n",
              "      <td>date building was first occupied</td>\n",
              "    </tr>\n",
              "    <tr>\n",
              "      <th>11</th>\n",
              "      <td>NumberOfWindows</td>\n",
              "      <td>number of windows in the building</td>\n",
              "    </tr>\n",
              "    <tr>\n",
              "      <th>12</th>\n",
              "      <td>Geo Code</td>\n",
              "      <td>Geographical Code of the Insured building</td>\n",
              "    </tr>\n",
              "    <tr>\n",
              "      <th>13</th>\n",
              "      <td>Claim</td>\n",
              "      <td>target variable. (0: no claim, 1: at least one claim over insured period).</td>\n",
              "    </tr>\n",
              "  </tbody>\n",
              "</table>\n",
              "</div>\n",
              "      <button class=\"colab-df-convert\" onclick=\"convertToInteractive('df-77a87dca-9e74-4152-b939-43cec9636498')\"\n",
              "              title=\"Convert this dataframe to an interactive table.\"\n",
              "              style=\"display:none;\">\n",
              "        \n",
              "  <svg xmlns=\"http://www.w3.org/2000/svg\" height=\"24px\"viewBox=\"0 0 24 24\"\n",
              "       width=\"24px\">\n",
              "    <path d=\"M0 0h24v24H0V0z\" fill=\"none\"/>\n",
              "    <path d=\"M18.56 5.44l.94 2.06.94-2.06 2.06-.94-2.06-.94-.94-2.06-.94 2.06-2.06.94zm-11 1L8.5 8.5l.94-2.06 2.06-.94-2.06-.94L8.5 2.5l-.94 2.06-2.06.94zm10 10l.94 2.06.94-2.06 2.06-.94-2.06-.94-.94-2.06-.94 2.06-2.06.94z\"/><path d=\"M17.41 7.96l-1.37-1.37c-.4-.4-.92-.59-1.43-.59-.52 0-1.04.2-1.43.59L10.3 9.45l-7.72 7.72c-.78.78-.78 2.05 0 2.83L4 21.41c.39.39.9.59 1.41.59.51 0 1.02-.2 1.41-.59l7.78-7.78 2.81-2.81c.8-.78.8-2.07 0-2.86zM5.41 20L4 18.59l7.72-7.72 1.47 1.35L5.41 20z\"/>\n",
              "  </svg>\n",
              "      </button>\n",
              "      \n",
              "  <style>\n",
              "    .colab-df-container {\n",
              "      display:flex;\n",
              "      flex-wrap:wrap;\n",
              "      gap: 12px;\n",
              "    }\n",
              "\n",
              "    .colab-df-convert {\n",
              "      background-color: #E8F0FE;\n",
              "      border: none;\n",
              "      border-radius: 50%;\n",
              "      cursor: pointer;\n",
              "      display: none;\n",
              "      fill: #1967D2;\n",
              "      height: 32px;\n",
              "      padding: 0 0 0 0;\n",
              "      width: 32px;\n",
              "    }\n",
              "\n",
              "    .colab-df-convert:hover {\n",
              "      background-color: #E2EBFA;\n",
              "      box-shadow: 0px 1px 2px rgba(60, 64, 67, 0.3), 0px 1px 3px 1px rgba(60, 64, 67, 0.15);\n",
              "      fill: #174EA6;\n",
              "    }\n",
              "\n",
              "    [theme=dark] .colab-df-convert {\n",
              "      background-color: #3B4455;\n",
              "      fill: #D2E3FC;\n",
              "    }\n",
              "\n",
              "    [theme=dark] .colab-df-convert:hover {\n",
              "      background-color: #434B5C;\n",
              "      box-shadow: 0px 1px 3px 1px rgba(0, 0, 0, 0.15);\n",
              "      filter: drop-shadow(0px 1px 2px rgba(0, 0, 0, 0.3));\n",
              "      fill: #FFFFFF;\n",
              "    }\n",
              "  </style>\n",
              "\n",
              "      <script>\n",
              "        const buttonEl =\n",
              "          document.querySelector('#df-77a87dca-9e74-4152-b939-43cec9636498 button.colab-df-convert');\n",
              "        buttonEl.style.display =\n",
              "          google.colab.kernel.accessAllowed ? 'block' : 'none';\n",
              "\n",
              "        async function convertToInteractive(key) {\n",
              "          const element = document.querySelector('#df-77a87dca-9e74-4152-b939-43cec9636498');\n",
              "          const dataTable =\n",
              "            await google.colab.kernel.invokeFunction('convertToInteractive',\n",
              "                                                     [key], {});\n",
              "          if (!dataTable) return;\n",
              "\n",
              "          const docLinkHtml = 'Like what you see? Visit the ' +\n",
              "            '<a target=\"_blank\" href=https://colab.research.google.com/notebooks/data_table.ipynb>data table notebook</a>'\n",
              "            + ' to learn more about interactive tables.';\n",
              "          element.innerHTML = '';\n",
              "          dataTable['output_type'] = 'display_data';\n",
              "          await google.colab.output.renderOutput(dataTable, element);\n",
              "          const docLink = document.createElement('div');\n",
              "          docLink.innerHTML = docLinkHtml;\n",
              "          element.appendChild(docLink);\n",
              "        }\n",
              "      </script>\n",
              "    </div>\n",
              "  </div>\n",
              "  "
            ],
            "text/plain": [
              "              Variable                                                                                                       Description\n",
              "0   Customer Id         Identification number for the Policy holder                                                                     \n",
              "1   YearOfObservation   year of observation for the insured policy                                                                      \n",
              "2   Insured_Period      duration of insurance policy in Olusola Insurance. (Ex: Full year insurance, Policy Duration = 1; 6 months = 0.5\n",
              "3   Residential         is the building a residential building or not                                                                   \n",
              "4   Building_Painted    is the building painted or not (N-Painted, V-Not Painted)                                                       \n",
              "5   Building_Fenced     is the building fence or not (N-Fenced, V-Not Fenced)                                                           \n",
              "6   Garden              building has garden or not (V-has garden; O-no garden)                                                          \n",
              "7   Settlement          Area where the building is located. (R- rural area; U- urban area)                                              \n",
              "8   Building Dimension  Size of the insured building in m2                                                                              \n",
              "9   Building_Type       The type of building (Type 1, 2, 3, 4)                                                                          \n",
              "10  Date_of_Occupancy   date building was first occupied                                                                                \n",
              "11  NumberOfWindows     number of windows in the building                                                                               \n",
              "12  Geo Code            Geographical Code of the Insured building                                                                       \n",
              "13  Claim               target variable. (0: no claim, 1: at least one claim over insured period).                                      "
            ]
          },
          "metadata": {},
          "execution_count": 2
        }
      ]
    },
    {
      "cell_type": "markdown",
      "source": [
        "### Importing Relevant Libraries "
      ],
      "metadata": {
        "id": "vm42OZInrcAf"
      }
    },
    {
      "cell_type": "code",
      "source": [
        "import numpy as np\n",
        "import matplotlib.pyplot as plt\n",
        "%matplotlib inline\n",
        "import seaborn as sns\n",
        "import warnings\n",
        "warnings.filterwarnings(action='ignore')"
      ],
      "metadata": {
        "id": "pgyR1uIFrkYA"
      },
      "execution_count": null,
      "outputs": []
    },
    {
      "cell_type": "markdown",
      "metadata": {
        "id": "iUNbvIvnT7ep"
      },
      "source": [
        "## 2. Reading the Data"
      ]
    },
    {
      "cell_type": "code",
      "metadata": {
        "id": "XJn2KjW-WMlG"
      },
      "source": [
        "# Loading the Dataset\n",
        "\n",
        "df_ins = pd.read_csv('train_data.csv')"
      ],
      "execution_count": null,
      "outputs": []
    },
    {
      "cell_type": "markdown",
      "metadata": {
        "id": "OI3P3YnHUEBk"
      },
      "source": [
        "## 3. Checking the Data"
      ]
    },
    {
      "cell_type": "code",
      "metadata": {
        "id": "YjSVNwgptHxY",
        "colab": {
          "base_uri": "https://localhost:8080/"
        },
        "outputId": "007a8535-38e9-40e5-e35b-a0ed0f178c25"
      },
      "source": [
        "# Determining the no. of records in our dataset\n",
        "#\n",
        "\n",
        "print('This dataset has',df_ins.shape[0], 'rows and',df_ins.shape[1], 'columns.')"
      ],
      "execution_count": null,
      "outputs": [
        {
          "output_type": "stream",
          "name": "stdout",
          "text": [
            "This dataset has 7160 rows and 14 columns.\n"
          ]
        }
      ]
    },
    {
      "cell_type": "code",
      "metadata": {
        "id": "xHhTw5eKWr0n",
        "colab": {
          "base_uri": "https://localhost:8080/",
          "height": 287
        },
        "outputId": "5ae20689-2349-498f-9331-3d54a3bca556"
      },
      "source": [
        "# Previewing the top of our dataset\n",
        "#\n",
        "\n",
        "df_ins.head()"
      ],
      "execution_count": null,
      "outputs": [
        {
          "output_type": "execute_result",
          "data": {
            "text/html": [
              "\n",
              "  <div id=\"df-ca286fb5-81e6-4b68-886b-af88bc674976\">\n",
              "    <div class=\"colab-df-container\">\n",
              "      <div>\n",
              "<style scoped>\n",
              "    .dataframe tbody tr th:only-of-type {\n",
              "        vertical-align: middle;\n",
              "    }\n",
              "\n",
              "    .dataframe tbody tr th {\n",
              "        vertical-align: top;\n",
              "    }\n",
              "\n",
              "    .dataframe thead th {\n",
              "        text-align: right;\n",
              "    }\n",
              "</style>\n",
              "<table border=\"1\" class=\"dataframe\">\n",
              "  <thead>\n",
              "    <tr style=\"text-align: right;\">\n",
              "      <th></th>\n",
              "      <th>Customer Id</th>\n",
              "      <th>YearOfObservation</th>\n",
              "      <th>Insured_Period</th>\n",
              "      <th>Residential</th>\n",
              "      <th>Building_Painted</th>\n",
              "      <th>Building_Fenced</th>\n",
              "      <th>Garden</th>\n",
              "      <th>Settlement</th>\n",
              "      <th>Building Dimension</th>\n",
              "      <th>Building_Type</th>\n",
              "      <th>Date_of_Occupancy</th>\n",
              "      <th>NumberOfWindows</th>\n",
              "      <th>Geo_Code</th>\n",
              "      <th>Claim</th>\n",
              "    </tr>\n",
              "  </thead>\n",
              "  <tbody>\n",
              "    <tr>\n",
              "      <th>0</th>\n",
              "      <td>H14663</td>\n",
              "      <td>2013</td>\n",
              "      <td>1.0</td>\n",
              "      <td>0</td>\n",
              "      <td>N</td>\n",
              "      <td>V</td>\n",
              "      <td>V</td>\n",
              "      <td>U</td>\n",
              "      <td>290.0</td>\n",
              "      <td>1</td>\n",
              "      <td>1960.0</td>\n",
              "      <td>.</td>\n",
              "      <td>1053</td>\n",
              "      <td>0</td>\n",
              "    </tr>\n",
              "    <tr>\n",
              "      <th>1</th>\n",
              "      <td>H2037</td>\n",
              "      <td>2015</td>\n",
              "      <td>1.0</td>\n",
              "      <td>0</td>\n",
              "      <td>V</td>\n",
              "      <td>N</td>\n",
              "      <td>O</td>\n",
              "      <td>R</td>\n",
              "      <td>490.0</td>\n",
              "      <td>1</td>\n",
              "      <td>1850.0</td>\n",
              "      <td>4</td>\n",
              "      <td>1053</td>\n",
              "      <td>0</td>\n",
              "    </tr>\n",
              "    <tr>\n",
              "      <th>2</th>\n",
              "      <td>H3802</td>\n",
              "      <td>2014</td>\n",
              "      <td>1.0</td>\n",
              "      <td>0</td>\n",
              "      <td>N</td>\n",
              "      <td>V</td>\n",
              "      <td>V</td>\n",
              "      <td>U</td>\n",
              "      <td>595.0</td>\n",
              "      <td>1</td>\n",
              "      <td>1960.0</td>\n",
              "      <td>.</td>\n",
              "      <td>1053</td>\n",
              "      <td>0</td>\n",
              "    </tr>\n",
              "    <tr>\n",
              "      <th>3</th>\n",
              "      <td>H3834</td>\n",
              "      <td>2013</td>\n",
              "      <td>1.0</td>\n",
              "      <td>0</td>\n",
              "      <td>V</td>\n",
              "      <td>V</td>\n",
              "      <td>V</td>\n",
              "      <td>U</td>\n",
              "      <td>2840.0</td>\n",
              "      <td>1</td>\n",
              "      <td>1960.0</td>\n",
              "      <td>.</td>\n",
              "      <td>1053</td>\n",
              "      <td>0</td>\n",
              "    </tr>\n",
              "    <tr>\n",
              "      <th>4</th>\n",
              "      <td>H5053</td>\n",
              "      <td>2014</td>\n",
              "      <td>1.0</td>\n",
              "      <td>0</td>\n",
              "      <td>V</td>\n",
              "      <td>N</td>\n",
              "      <td>O</td>\n",
              "      <td>R</td>\n",
              "      <td>680.0</td>\n",
              "      <td>1</td>\n",
              "      <td>1800.0</td>\n",
              "      <td>3</td>\n",
              "      <td>1053</td>\n",
              "      <td>0</td>\n",
              "    </tr>\n",
              "  </tbody>\n",
              "</table>\n",
              "</div>\n",
              "      <button class=\"colab-df-convert\" onclick=\"convertToInteractive('df-ca286fb5-81e6-4b68-886b-af88bc674976')\"\n",
              "              title=\"Convert this dataframe to an interactive table.\"\n",
              "              style=\"display:none;\">\n",
              "        \n",
              "  <svg xmlns=\"http://www.w3.org/2000/svg\" height=\"24px\"viewBox=\"0 0 24 24\"\n",
              "       width=\"24px\">\n",
              "    <path d=\"M0 0h24v24H0V0z\" fill=\"none\"/>\n",
              "    <path d=\"M18.56 5.44l.94 2.06.94-2.06 2.06-.94-2.06-.94-.94-2.06-.94 2.06-2.06.94zm-11 1L8.5 8.5l.94-2.06 2.06-.94-2.06-.94L8.5 2.5l-.94 2.06-2.06.94zm10 10l.94 2.06.94-2.06 2.06-.94-2.06-.94-.94-2.06-.94 2.06-2.06.94z\"/><path d=\"M17.41 7.96l-1.37-1.37c-.4-.4-.92-.59-1.43-.59-.52 0-1.04.2-1.43.59L10.3 9.45l-7.72 7.72c-.78.78-.78 2.05 0 2.83L4 21.41c.39.39.9.59 1.41.59.51 0 1.02-.2 1.41-.59l7.78-7.78 2.81-2.81c.8-.78.8-2.07 0-2.86zM5.41 20L4 18.59l7.72-7.72 1.47 1.35L5.41 20z\"/>\n",
              "  </svg>\n",
              "      </button>\n",
              "      \n",
              "  <style>\n",
              "    .colab-df-container {\n",
              "      display:flex;\n",
              "      flex-wrap:wrap;\n",
              "      gap: 12px;\n",
              "    }\n",
              "\n",
              "    .colab-df-convert {\n",
              "      background-color: #E8F0FE;\n",
              "      border: none;\n",
              "      border-radius: 50%;\n",
              "      cursor: pointer;\n",
              "      display: none;\n",
              "      fill: #1967D2;\n",
              "      height: 32px;\n",
              "      padding: 0 0 0 0;\n",
              "      width: 32px;\n",
              "    }\n",
              "\n",
              "    .colab-df-convert:hover {\n",
              "      background-color: #E2EBFA;\n",
              "      box-shadow: 0px 1px 2px rgba(60, 64, 67, 0.3), 0px 1px 3px 1px rgba(60, 64, 67, 0.15);\n",
              "      fill: #174EA6;\n",
              "    }\n",
              "\n",
              "    [theme=dark] .colab-df-convert {\n",
              "      background-color: #3B4455;\n",
              "      fill: #D2E3FC;\n",
              "    }\n",
              "\n",
              "    [theme=dark] .colab-df-convert:hover {\n",
              "      background-color: #434B5C;\n",
              "      box-shadow: 0px 1px 3px 1px rgba(0, 0, 0, 0.15);\n",
              "      filter: drop-shadow(0px 1px 2px rgba(0, 0, 0, 0.3));\n",
              "      fill: #FFFFFF;\n",
              "    }\n",
              "  </style>\n",
              "\n",
              "      <script>\n",
              "        const buttonEl =\n",
              "          document.querySelector('#df-ca286fb5-81e6-4b68-886b-af88bc674976 button.colab-df-convert');\n",
              "        buttonEl.style.display =\n",
              "          google.colab.kernel.accessAllowed ? 'block' : 'none';\n",
              "\n",
              "        async function convertToInteractive(key) {\n",
              "          const element = document.querySelector('#df-ca286fb5-81e6-4b68-886b-af88bc674976');\n",
              "          const dataTable =\n",
              "            await google.colab.kernel.invokeFunction('convertToInteractive',\n",
              "                                                     [key], {});\n",
              "          if (!dataTable) return;\n",
              "\n",
              "          const docLinkHtml = 'Like what you see? Visit the ' +\n",
              "            '<a target=\"_blank\" href=https://colab.research.google.com/notebooks/data_table.ipynb>data table notebook</a>'\n",
              "            + ' to learn more about interactive tables.';\n",
              "          element.innerHTML = '';\n",
              "          dataTable['output_type'] = 'display_data';\n",
              "          await google.colab.output.renderOutput(dataTable, element);\n",
              "          const docLink = document.createElement('div');\n",
              "          docLink.innerHTML = docLinkHtml;\n",
              "          element.appendChild(docLink);\n",
              "        }\n",
              "      </script>\n",
              "    </div>\n",
              "  </div>\n",
              "  "
            ],
            "text/plain": [
              "  Customer Id  YearOfObservation  ...  Geo_Code  Claim\n",
              "0  H14663      2013               ...  1053      0    \n",
              "1  H2037       2015               ...  1053      0    \n",
              "2  H3802       2014               ...  1053      0    \n",
              "3  H3834       2013               ...  1053      0    \n",
              "4  H5053       2014               ...  1053      0    \n",
              "\n",
              "[5 rows x 14 columns]"
            ]
          },
          "metadata": {},
          "execution_count": 6
        }
      ]
    },
    {
      "cell_type": "code",
      "metadata": {
        "id": "e9AzGcZFrIIr",
        "colab": {
          "base_uri": "https://localhost:8080/",
          "height": 287
        },
        "outputId": "484be957-d3ab-48dc-b9d8-11ab833491fa"
      },
      "source": [
        "# Previewing the bottom of our dataset\n",
        "# \n",
        "\n",
        "df_ins.tail()"
      ],
      "execution_count": null,
      "outputs": [
        {
          "output_type": "execute_result",
          "data": {
            "text/html": [
              "\n",
              "  <div id=\"df-7256d804-535c-4c5f-906b-0bb730a56098\">\n",
              "    <div class=\"colab-df-container\">\n",
              "      <div>\n",
              "<style scoped>\n",
              "    .dataframe tbody tr th:only-of-type {\n",
              "        vertical-align: middle;\n",
              "    }\n",
              "\n",
              "    .dataframe tbody tr th {\n",
              "        vertical-align: top;\n",
              "    }\n",
              "\n",
              "    .dataframe thead th {\n",
              "        text-align: right;\n",
              "    }\n",
              "</style>\n",
              "<table border=\"1\" class=\"dataframe\">\n",
              "  <thead>\n",
              "    <tr style=\"text-align: right;\">\n",
              "      <th></th>\n",
              "      <th>Customer Id</th>\n",
              "      <th>YearOfObservation</th>\n",
              "      <th>Insured_Period</th>\n",
              "      <th>Residential</th>\n",
              "      <th>Building_Painted</th>\n",
              "      <th>Building_Fenced</th>\n",
              "      <th>Garden</th>\n",
              "      <th>Settlement</th>\n",
              "      <th>Building Dimension</th>\n",
              "      <th>Building_Type</th>\n",
              "      <th>Date_of_Occupancy</th>\n",
              "      <th>NumberOfWindows</th>\n",
              "      <th>Geo_Code</th>\n",
              "      <th>Claim</th>\n",
              "    </tr>\n",
              "  </thead>\n",
              "  <tbody>\n",
              "    <tr>\n",
              "      <th>7155</th>\n",
              "      <td>H5290</td>\n",
              "      <td>2012</td>\n",
              "      <td>1.000000</td>\n",
              "      <td>1</td>\n",
              "      <td>V</td>\n",
              "      <td>V</td>\n",
              "      <td>V</td>\n",
              "      <td>U</td>\n",
              "      <td>NaN</td>\n",
              "      <td>1</td>\n",
              "      <td>2001.0</td>\n",
              "      <td>.</td>\n",
              "      <td>NaN</td>\n",
              "      <td>0</td>\n",
              "    </tr>\n",
              "    <tr>\n",
              "      <th>7156</th>\n",
              "      <td>H5926</td>\n",
              "      <td>2013</td>\n",
              "      <td>1.000000</td>\n",
              "      <td>0</td>\n",
              "      <td>V</td>\n",
              "      <td>V</td>\n",
              "      <td>V</td>\n",
              "      <td>U</td>\n",
              "      <td>NaN</td>\n",
              "      <td>2</td>\n",
              "      <td>1980.0</td>\n",
              "      <td>.</td>\n",
              "      <td>NaN</td>\n",
              "      <td>1</td>\n",
              "    </tr>\n",
              "    <tr>\n",
              "      <th>7157</th>\n",
              "      <td>H6204</td>\n",
              "      <td>2016</td>\n",
              "      <td>0.038251</td>\n",
              "      <td>0</td>\n",
              "      <td>V</td>\n",
              "      <td>V</td>\n",
              "      <td>V</td>\n",
              "      <td>U</td>\n",
              "      <td>NaN</td>\n",
              "      <td>1</td>\n",
              "      <td>1992.0</td>\n",
              "      <td>.</td>\n",
              "      <td>NaN</td>\n",
              "      <td>0</td>\n",
              "    </tr>\n",
              "    <tr>\n",
              "      <th>7158</th>\n",
              "      <td>H6537</td>\n",
              "      <td>2013</td>\n",
              "      <td>1.000000</td>\n",
              "      <td>0</td>\n",
              "      <td>V</td>\n",
              "      <td>V</td>\n",
              "      <td>V</td>\n",
              "      <td>U</td>\n",
              "      <td>NaN</td>\n",
              "      <td>1</td>\n",
              "      <td>1972.0</td>\n",
              "      <td>.</td>\n",
              "      <td>NaN</td>\n",
              "      <td>0</td>\n",
              "    </tr>\n",
              "    <tr>\n",
              "      <th>7159</th>\n",
              "      <td>H7470</td>\n",
              "      <td>2014</td>\n",
              "      <td>1.000000</td>\n",
              "      <td>0</td>\n",
              "      <td>V</td>\n",
              "      <td>V</td>\n",
              "      <td>V</td>\n",
              "      <td>U</td>\n",
              "      <td>NaN</td>\n",
              "      <td>1</td>\n",
              "      <td>2004.0</td>\n",
              "      <td>.</td>\n",
              "      <td>NaN</td>\n",
              "      <td>0</td>\n",
              "    </tr>\n",
              "  </tbody>\n",
              "</table>\n",
              "</div>\n",
              "      <button class=\"colab-df-convert\" onclick=\"convertToInteractive('df-7256d804-535c-4c5f-906b-0bb730a56098')\"\n",
              "              title=\"Convert this dataframe to an interactive table.\"\n",
              "              style=\"display:none;\">\n",
              "        \n",
              "  <svg xmlns=\"http://www.w3.org/2000/svg\" height=\"24px\"viewBox=\"0 0 24 24\"\n",
              "       width=\"24px\">\n",
              "    <path d=\"M0 0h24v24H0V0z\" fill=\"none\"/>\n",
              "    <path d=\"M18.56 5.44l.94 2.06.94-2.06 2.06-.94-2.06-.94-.94-2.06-.94 2.06-2.06.94zm-11 1L8.5 8.5l.94-2.06 2.06-.94-2.06-.94L8.5 2.5l-.94 2.06-2.06.94zm10 10l.94 2.06.94-2.06 2.06-.94-2.06-.94-.94-2.06-.94 2.06-2.06.94z\"/><path d=\"M17.41 7.96l-1.37-1.37c-.4-.4-.92-.59-1.43-.59-.52 0-1.04.2-1.43.59L10.3 9.45l-7.72 7.72c-.78.78-.78 2.05 0 2.83L4 21.41c.39.39.9.59 1.41.59.51 0 1.02-.2 1.41-.59l7.78-7.78 2.81-2.81c.8-.78.8-2.07 0-2.86zM5.41 20L4 18.59l7.72-7.72 1.47 1.35L5.41 20z\"/>\n",
              "  </svg>\n",
              "      </button>\n",
              "      \n",
              "  <style>\n",
              "    .colab-df-container {\n",
              "      display:flex;\n",
              "      flex-wrap:wrap;\n",
              "      gap: 12px;\n",
              "    }\n",
              "\n",
              "    .colab-df-convert {\n",
              "      background-color: #E8F0FE;\n",
              "      border: none;\n",
              "      border-radius: 50%;\n",
              "      cursor: pointer;\n",
              "      display: none;\n",
              "      fill: #1967D2;\n",
              "      height: 32px;\n",
              "      padding: 0 0 0 0;\n",
              "      width: 32px;\n",
              "    }\n",
              "\n",
              "    .colab-df-convert:hover {\n",
              "      background-color: #E2EBFA;\n",
              "      box-shadow: 0px 1px 2px rgba(60, 64, 67, 0.3), 0px 1px 3px 1px rgba(60, 64, 67, 0.15);\n",
              "      fill: #174EA6;\n",
              "    }\n",
              "\n",
              "    [theme=dark] .colab-df-convert {\n",
              "      background-color: #3B4455;\n",
              "      fill: #D2E3FC;\n",
              "    }\n",
              "\n",
              "    [theme=dark] .colab-df-convert:hover {\n",
              "      background-color: #434B5C;\n",
              "      box-shadow: 0px 1px 3px 1px rgba(0, 0, 0, 0.15);\n",
              "      filter: drop-shadow(0px 1px 2px rgba(0, 0, 0, 0.3));\n",
              "      fill: #FFFFFF;\n",
              "    }\n",
              "  </style>\n",
              "\n",
              "      <script>\n",
              "        const buttonEl =\n",
              "          document.querySelector('#df-7256d804-535c-4c5f-906b-0bb730a56098 button.colab-df-convert');\n",
              "        buttonEl.style.display =\n",
              "          google.colab.kernel.accessAllowed ? 'block' : 'none';\n",
              "\n",
              "        async function convertToInteractive(key) {\n",
              "          const element = document.querySelector('#df-7256d804-535c-4c5f-906b-0bb730a56098');\n",
              "          const dataTable =\n",
              "            await google.colab.kernel.invokeFunction('convertToInteractive',\n",
              "                                                     [key], {});\n",
              "          if (!dataTable) return;\n",
              "\n",
              "          const docLinkHtml = 'Like what you see? Visit the ' +\n",
              "            '<a target=\"_blank\" href=https://colab.research.google.com/notebooks/data_table.ipynb>data table notebook</a>'\n",
              "            + ' to learn more about interactive tables.';\n",
              "          element.innerHTML = '';\n",
              "          dataTable['output_type'] = 'display_data';\n",
              "          await google.colab.output.renderOutput(dataTable, element);\n",
              "          const docLink = document.createElement('div');\n",
              "          docLink.innerHTML = docLinkHtml;\n",
              "          element.appendChild(docLink);\n",
              "        }\n",
              "      </script>\n",
              "    </div>\n",
              "  </div>\n",
              "  "
            ],
            "text/plain": [
              "     Customer Id  YearOfObservation  ...  Geo_Code  Claim\n",
              "7155  H5290       2012               ...  NaN       0    \n",
              "7156  H5926       2013               ...  NaN       1    \n",
              "7157  H6204       2016               ...  NaN       0    \n",
              "7158  H6537       2013               ...  NaN       0    \n",
              "7159  H7470       2014               ...  NaN       0    \n",
              "\n",
              "[5 rows x 14 columns]"
            ]
          },
          "metadata": {},
          "execution_count": 7
        }
      ]
    },
    {
      "cell_type": "code",
      "metadata": {
        "id": "n8-dW4sQWzbc",
        "colab": {
          "base_uri": "https://localhost:8080/"
        },
        "outputId": "1fcce5d1-5b5a-4256-db3b-c8ab5fe59323"
      },
      "source": [
        "# Checking whether each column has an appropriate datatype\n",
        "#\n",
        "\n",
        "df_ins.dtypes"
      ],
      "execution_count": null,
      "outputs": [
        {
          "output_type": "execute_result",
          "data": {
            "text/plain": [
              "Customer Id           object \n",
              "YearOfObservation     int64  \n",
              "Insured_Period        float64\n",
              "Residential           int64  \n",
              "Building_Painted      object \n",
              "Building_Fenced       object \n",
              "Garden                object \n",
              "Settlement            object \n",
              "Building Dimension    float64\n",
              "Building_Type         int64  \n",
              "Date_of_Occupancy     float64\n",
              "NumberOfWindows       object \n",
              "Geo_Code              object \n",
              "Claim                 int64  \n",
              "dtype: object"
            ]
          },
          "metadata": {},
          "execution_count": 8
        }
      ]
    },
    {
      "cell_type": "markdown",
      "metadata": {
        "id": "ckfufNrcUHeH"
      },
      "source": [
        "## 4. External Data Source Validation"
      ]
    },
    {
      "cell_type": "markdown",
      "metadata": {
        "id": "6L4sl_0WXlbg"
      },
      "source": [
        "Making sure your data matches something outside of the dataset is very important. It allows you to ensure that the measurements are roughly in line with what they should be and it serves as a check on what other things might be wrong in your dataset. External validation can often be as simple as checking your data against a single number, as we will do here."
      ]
    },
    {
      "cell_type": "markdown",
      "metadata": {
        "id": "6XC_g-zKxe-r"
      },
      "source": [
        "### a.Validation"
      ]
    },
    {
      "cell_type": "markdown",
      "metadata": {
        "id": "FlBMxEDBUc9B"
      },
      "source": [
        "## 5. Tidying the Dataset"
      ]
    },
    {
      "cell_type": "code",
      "metadata": {
        "id": "5o_bQcT5W3Wz",
        "colab": {
          "base_uri": "https://localhost:8080/",
          "height": 432
        },
        "outputId": "1af1bc29-10a8-4774-9aef-e235c68b147c"
      },
      "source": [
        "# Checking for Outliers\n",
        "#\n",
        "\n",
        "\n",
        "col_names = ['YearOfObservation', 'Insured_Period', 'Residential', 'Building Dimension', 'Building_Type', 'Claim']\n",
        "\n",
        "\n",
        "fig, axes = plt.subplots(nrows=1,ncols=6,figsize=(18,6))\n",
        "plt.suptitle('Checking for outliers using boxplots',fontsize=20,weight='bold',color='black')\n",
        "for ax, data, column in zip(axes.flatten(),df_ins,col_names):\n",
        "  sns.boxplot(df_ins[column],ax=ax)\n",
        "  "
      ],
      "execution_count": null,
      "outputs": [
        {
          "output_type": "display_data",
          "data": {
            "image/png": "[encoded data removed]",
            "text/plain": [
              "<Figure size 1296x432 with 6 Axes>"
            ]
          },
          "metadata": {
            "needs_background": "light"
          }
        }
      ]
    },
    {
      "cell_type": "code",
      "metadata": {
        "id": "PWlukLKUvFQN",
        "colab": {
          "base_uri": "https://localhost:8080/"
        },
        "outputId": "51d6ce25-7153-44e6-fcab-4c8808e9e934"
      },
      "source": [
        "# Checking for Duplicates\n",
        "#\n",
        "\n",
        "df_ins.duplicated().sum()"
      ],
      "execution_count": null,
      "outputs": [
        {
          "output_type": "execute_result",
          "data": {
            "text/plain": [
              "0"
            ]
          },
          "metadata": {},
          "execution_count": 10
        }
      ]
    },
    {
      "cell_type": "code",
      "metadata": {
        "id": "PvCYb6dgW4yh",
        "colab": {
          "base_uri": "https://localhost:8080/"
        },
        "outputId": "2595a2b0-6d34-42df-82f5-4aefa3ec6362"
      },
      "source": [
        "# Identifying the Missing Data\n",
        "#\n",
        "\n",
        "df_ins.isnull().sum()"
      ],
      "execution_count": null,
      "outputs": [
        {
          "output_type": "execute_result",
          "data": {
            "text/plain": [
              "Customer Id           0  \n",
              "YearOfObservation     0  \n",
              "Insured_Period        0  \n",
              "Residential           0  \n",
              "Building_Painted      0  \n",
              "Building_Fenced       0  \n",
              "Garden                7  \n",
              "Settlement            0  \n",
              "Building Dimension    106\n",
              "Building_Type         0  \n",
              "Date_of_Occupancy     508\n",
              "NumberOfWindows       0  \n",
              "Geo_Code              102\n",
              "Claim                 0  \n",
              "dtype: int64"
            ]
          },
          "metadata": {},
          "execution_count": 11
        }
      ]
    },
    {
      "cell_type": "code",
      "metadata": {
        "id": "MpsDGKZHsf_W",
        "colab": {
          "base_uri": "https://localhost:8080/"
        },
        "outputId": "33924759-91b8-4d2e-b4a2-fc98bd660ac6"
      },
      "source": [
        "# Dealing with the Missing Data\n",
        "#We will drip the date column and fill in the dimension coulumn with the mean and drop the rows that are missing the Geo_cODE\n",
        "#\n",
        "df_ins = df_ins.drop(['Date_of_Occupancy'], axis =1)\n",
        "df_ins['Building Dimension'] = df_ins['Building Dimension'].fillna(df_ins['Building Dimension'].mean())\n",
        "df_ins.dropna(subset = [\"Geo_Code\"], inplace=True)\n",
        "df_ins['Garden'] = df_ins['Garden'].fillna('O')\n",
        "df_ins.info()"
      ],
      "execution_count": null,
      "outputs": [
        {
          "output_type": "stream",
          "name": "stdout",
          "text": [
            "<class 'pandas.core.frame.DataFrame'>\n",
            "Int64Index: 7058 entries, 0 to 7057\n",
            "Data columns (total 13 columns):\n",
            " #   Column              Non-Null Count  Dtype  \n",
            "---  ------              --------------  -----  \n",
            " 0   Customer Id         7058 non-null   object \n",
            " 1   YearOfObservation   7058 non-null   int64  \n",
            " 2   Insured_Period      7058 non-null   float64\n",
            " 3   Residential         7058 non-null   int64  \n",
            " 4   Building_Painted    7058 non-null   object \n",
            " 5   Building_Fenced     7058 non-null   object \n",
            " 6   Garden              7058 non-null   object \n",
            " 7   Settlement          7058 non-null   object \n",
            " 8   Building Dimension  7058 non-null   float64\n",
            " 9   Building_Type       7058 non-null   int64  \n",
            " 10  NumberOfWindows     7058 non-null   object \n",
            " 11  Geo_Code            7058 non-null   object \n",
            " 12  Claim               7058 non-null   int64  \n",
            "dtypes: float64(2), int64(4), object(7)\n",
            "memory usage: 772.0+ KB\n"
          ]
        }
      ]
    },
    {
      "cell_type": "markdown",
      "source": [
        "The logic behind the previous decision is that we can fill in the missing date rows so it would be better to drop it as we are not doing a time series analysis. The second is the bulding dimensions are not too spread out so the mean works well and the missing geo code rows are few and we can assumed houses without gardens mention ussually dont have gardens"
      ],
      "metadata": {
        "id": "2GZIcyR-kvoK"
      }
    },
    {
      "cell_type": "code",
      "metadata": {
        "id": "D-4I__6Os4C5",
        "colab": {
          "base_uri": "https://localhost:8080/",
          "height": 162
        },
        "outputId": "0d525ecb-ea43-40cf-8ff7-32b8669f5f5d"
      },
      "source": [
        "# Changing column names to lower case\n",
        "#\n",
        "\n",
        "df_ins.columns = df_ins.columns.str.lower()\n",
        "\n",
        "df_ins.head(1)"
      ],
      "execution_count": null,
      "outputs": [
        {
          "output_type": "execute_result",
          "data": {
            "text/html": [
              "\n",
              "  <div id=\"df-03564fe6-9aad-45cb-9a6c-27139a449c8e\">\n",
              "    <div class=\"colab-df-container\">\n",
              "      <div>\n",
              "<style scoped>\n",
              "    .dataframe tbody tr th:only-of-type {\n",
              "        vertical-align: middle;\n",
              "    }\n",
              "\n",
              "    .dataframe tbody tr th {\n",
              "        vertical-align: top;\n",
              "    }\n",
              "\n",
              "    .dataframe thead th {\n",
              "        text-align: right;\n",
              "    }\n",
              "</style>\n",
              "<table border=\"1\" class=\"dataframe\">\n",
              "  <thead>\n",
              "    <tr style=\"text-align: right;\">\n",
              "      <th></th>\n",
              "      <th>customer id</th>\n",
              "      <th>yearofobservation</th>\n",
              "      <th>insured_period</th>\n",
              "      <th>residential</th>\n",
              "      <th>building_painted</th>\n",
              "      <th>building_fenced</th>\n",
              "      <th>garden</th>\n",
              "      <th>settlement</th>\n",
              "      <th>building dimension</th>\n",
              "      <th>building_type</th>\n",
              "      <th>numberofwindows</th>\n",
              "      <th>geo_code</th>\n",
              "      <th>claim</th>\n",
              "    </tr>\n",
              "  </thead>\n",
              "  <tbody>\n",
              "    <tr>\n",
              "      <th>0</th>\n",
              "      <td>H14663</td>\n",
              "      <td>2013</td>\n",
              "      <td>1.0</td>\n",
              "      <td>0</td>\n",
              "      <td>N</td>\n",
              "      <td>V</td>\n",
              "      <td>V</td>\n",
              "      <td>U</td>\n",
              "      <td>290.0</td>\n",
              "      <td>1</td>\n",
              "      <td>.</td>\n",
              "      <td>1053</td>\n",
              "      <td>0</td>\n",
              "    </tr>\n",
              "  </tbody>\n",
              "</table>\n",
              "</div>\n",
              "      <button class=\"colab-df-convert\" onclick=\"convertToInteractive('df-03564fe6-9aad-45cb-9a6c-27139a449c8e')\"\n",
              "              title=\"Convert this dataframe to an interactive table.\"\n",
              "              style=\"display:none;\">\n",
              "        \n",
              "  <svg xmlns=\"http://www.w3.org/2000/svg\" height=\"24px\"viewBox=\"0 0 24 24\"\n",
              "       width=\"24px\">\n",
              "    <path d=\"M0 0h24v24H0V0z\" fill=\"none\"/>\n",
              "    <path d=\"M18.56 5.44l.94 2.06.94-2.06 2.06-.94-2.06-.94-.94-2.06-.94 2.06-2.06.94zm-11 1L8.5 8.5l.94-2.06 2.06-.94-2.06-.94L8.5 2.5l-.94 2.06-2.06.94zm10 10l.94 2.06.94-2.06 2.06-.94-2.06-.94-.94-2.06-.94 2.06-2.06.94z\"/><path d=\"M17.41 7.96l-1.37-1.37c-.4-.4-.92-.59-1.43-.59-.52 0-1.04.2-1.43.59L10.3 9.45l-7.72 7.72c-.78.78-.78 2.05 0 2.83L4 21.41c.39.39.9.59 1.41.59.51 0 1.02-.2 1.41-.59l7.78-7.78 2.81-2.81c.8-.78.8-2.07 0-2.86zM5.41 20L4 18.59l7.72-7.72 1.47 1.35L5.41 20z\"/>\n",
              "  </svg>\n",
              "      </button>\n",
              "      \n",
              "  <style>\n",
              "    .colab-df-container {\n",
              "      display:flex;\n",
              "      flex-wrap:wrap;\n",
              "      gap: 12px;\n",
              "    }\n",
              "\n",
              "    .colab-df-convert {\n",
              "      background-color: #E8F0FE;\n",
              "      border: none;\n",
              "      border-radius: 50%;\n",
              "      cursor: pointer;\n",
              "      display: none;\n",
              "      fill: #1967D2;\n",
              "      height: 32px;\n",
              "      padding: 0 0 0 0;\n",
              "      width: 32px;\n",
              "    }\n",
              "\n",
              "    .colab-df-convert:hover {\n",
              "      background-color: #E2EBFA;\n",
              "      box-shadow: 0px 1px 2px rgba(60, 64, 67, 0.3), 0px 1px 3px 1px rgba(60, 64, 67, 0.15);\n",
              "      fill: #174EA6;\n",
              "    }\n",
              "\n",
              "    [theme=dark] .colab-df-convert {\n",
              "      background-color: #3B4455;\n",
              "      fill: #D2E3FC;\n",
              "    }\n",
              "\n",
              "    [theme=dark] .colab-df-convert:hover {\n",
              "      background-color: #434B5C;\n",
              "      box-shadow: 0px 1px 3px 1px rgba(0, 0, 0, 0.15);\n",
              "      filter: drop-shadow(0px 1px 2px rgba(0, 0, 0, 0.3));\n",
              "      fill: #FFFFFF;\n",
              "    }\n",
              "  </style>\n",
              "\n",
              "      <script>\n",
              "        const buttonEl =\n",
              "          document.querySelector('#df-03564fe6-9aad-45cb-9a6c-27139a449c8e button.colab-df-convert');\n",
              "        buttonEl.style.display =\n",
              "          google.colab.kernel.accessAllowed ? 'block' : 'none';\n",
              "\n",
              "        async function convertToInteractive(key) {\n",
              "          const element = document.querySelector('#df-03564fe6-9aad-45cb-9a6c-27139a449c8e');\n",
              "          const dataTable =\n",
              "            await google.colab.kernel.invokeFunction('convertToInteractive',\n",
              "                                                     [key], {});\n",
              "          if (!dataTable) return;\n",
              "\n",
              "          const docLinkHtml = 'Like what you see? Visit the ' +\n",
              "            '<a target=\"_blank\" href=https://colab.research.google.com/notebooks/data_table.ipynb>data table notebook</a>'\n",
              "            + ' to learn more about interactive tables.';\n",
              "          element.innerHTML = '';\n",
              "          dataTable['output_type'] = 'display_data';\n",
              "          await google.colab.output.renderOutput(dataTable, element);\n",
              "          const docLink = document.createElement('div');\n",
              "          docLink.innerHTML = docLinkHtml;\n",
              "          element.appendChild(docLink);\n",
              "        }\n",
              "      </script>\n",
              "    </div>\n",
              "  </div>\n",
              "  "
            ],
            "text/plain": [
              "  customer id  yearofobservation  ...  geo_code  claim\n",
              "0  H14663      2013               ...  1053      0    \n",
              "\n",
              "[1 rows x 13 columns]"
            ]
          },
          "metadata": {},
          "execution_count": 13
        }
      ]
    },
    {
      "cell_type": "code",
      "source": [
        "# change the classes in the various columns\n",
        "\n",
        "df_ins['building_painted'] = df_ins['building_painted'].replace({'V':'not painted','N':'painted'})\n",
        "\n",
        "df_ins['settlement'] = df_ins['settlement'].replace({'R':'rural','U':'urban'})\n",
        "\n",
        "df_ins['building_fenced'] = df_ins['building_fenced'].replace({'N':'fenced','V':'not fenced'})\n",
        "\n",
        "df_ins['garden'] = df_ins['garden'].replace({'V':'has garden','O':'no garden'})\n",
        "\n",
        "\n",
        "df_ins.head()"
      ],
      "metadata": {
        "colab": {
          "base_uri": "https://localhost:8080/",
          "height": 374
        },
        "id": "A3c7vTHd0M98",
        "outputId": "2a414b95-9564-49d2-d831-cf01eaf1354a"
      },
      "execution_count": null,
      "outputs": [
        {
          "output_type": "execute_result",
          "data": {
            "text/html": [
              "\n",
              "  <div id=\"df-b79ee000-3dec-40e7-b7a7-a43c632ea791\">\n",
              "    <div class=\"colab-df-container\">\n",
              "      <div>\n",
              "<style scoped>\n",
              "    .dataframe tbody tr th:only-of-type {\n",
              "        vertical-align: middle;\n",
              "    }\n",
              "\n",
              "    .dataframe tbody tr th {\n",
              "        vertical-align: top;\n",
              "    }\n",
              "\n",
              "    .dataframe thead th {\n",
              "        text-align: right;\n",
              "    }\n",
              "</style>\n",
              "<table border=\"1\" class=\"dataframe\">\n",
              "  <thead>\n",
              "    <tr style=\"text-align: right;\">\n",
              "      <th></th>\n",
              "      <th>customer id</th>\n",
              "      <th>yearofobservation</th>\n",
              "      <th>insured_period</th>\n",
              "      <th>residential</th>\n",
              "      <th>building_painted</th>\n",
              "      <th>building_fenced</th>\n",
              "      <th>garden</th>\n",
              "      <th>settlement</th>\n",
              "      <th>building dimension</th>\n",
              "      <th>building_type</th>\n",
              "      <th>numberofwindows</th>\n",
              "      <th>geo_code</th>\n",
              "      <th>claim</th>\n",
              "    </tr>\n",
              "  </thead>\n",
              "  <tbody>\n",
              "    <tr>\n",
              "      <th>0</th>\n",
              "      <td>H14663</td>\n",
              "      <td>2013</td>\n",
              "      <td>1.0</td>\n",
              "      <td>0</td>\n",
              "      <td>painted</td>\n",
              "      <td>not fenced</td>\n",
              "      <td>has garden</td>\n",
              "      <td>urban</td>\n",
              "      <td>290.0</td>\n",
              "      <td>1</td>\n",
              "      <td>.</td>\n",
              "      <td>1053</td>\n",
              "      <td>0</td>\n",
              "    </tr>\n",
              "    <tr>\n",
              "      <th>1</th>\n",
              "      <td>H2037</td>\n",
              "      <td>2015</td>\n",
              "      <td>1.0</td>\n",
              "      <td>0</td>\n",
              "      <td>not painted</td>\n",
              "      <td>fenced</td>\n",
              "      <td>no garden</td>\n",
              "      <td>rural</td>\n",
              "      <td>490.0</td>\n",
              "      <td>1</td>\n",
              "      <td>4</td>\n",
              "      <td>1053</td>\n",
              "      <td>0</td>\n",
              "    </tr>\n",
              "    <tr>\n",
              "      <th>2</th>\n",
              "      <td>H3802</td>\n",
              "      <td>2014</td>\n",
              "      <td>1.0</td>\n",
              "      <td>0</td>\n",
              "      <td>painted</td>\n",
              "      <td>not fenced</td>\n",
              "      <td>has garden</td>\n",
              "      <td>urban</td>\n",
              "      <td>595.0</td>\n",
              "      <td>1</td>\n",
              "      <td>.</td>\n",
              "      <td>1053</td>\n",
              "      <td>0</td>\n",
              "    </tr>\n",
              "    <tr>\n",
              "      <th>3</th>\n",
              "      <td>H3834</td>\n",
              "      <td>2013</td>\n",
              "      <td>1.0</td>\n",
              "      <td>0</td>\n",
              "      <td>not painted</td>\n",
              "      <td>not fenced</td>\n",
              "      <td>has garden</td>\n",
              "      <td>urban</td>\n",
              "      <td>2840.0</td>\n",
              "      <td>1</td>\n",
              "      <td>.</td>\n",
              "      <td>1053</td>\n",
              "      <td>0</td>\n",
              "    </tr>\n",
              "    <tr>\n",
              "      <th>4</th>\n",
              "      <td>H5053</td>\n",
              "      <td>2014</td>\n",
              "      <td>1.0</td>\n",
              "      <td>0</td>\n",
              "      <td>not painted</td>\n",
              "      <td>fenced</td>\n",
              "      <td>no garden</td>\n",
              "      <td>rural</td>\n",
              "      <td>680.0</td>\n",
              "      <td>1</td>\n",
              "      <td>3</td>\n",
              "      <td>1053</td>\n",
              "      <td>0</td>\n",
              "    </tr>\n",
              "  </tbody>\n",
              "</table>\n",
              "</div>\n",
              "      <button class=\"colab-df-convert\" onclick=\"convertToInteractive('df-b79ee000-3dec-40e7-b7a7-a43c632ea791')\"\n",
              "              title=\"Convert this dataframe to an interactive table.\"\n",
              "              style=\"display:none;\">\n",
              "        \n",
              "  <svg xmlns=\"http://www.w3.org/2000/svg\" height=\"24px\"viewBox=\"0 0 24 24\"\n",
              "       width=\"24px\">\n",
              "    <path d=\"M0 0h24v24H0V0z\" fill=\"none\"/>\n",
              "    <path d=\"M18.56 5.44l.94 2.06.94-2.06 2.06-.94-2.06-.94-.94-2.06-.94 2.06-2.06.94zm-11 1L8.5 8.5l.94-2.06 2.06-.94-2.06-.94L8.5 2.5l-.94 2.06-2.06.94zm10 10l.94 2.06.94-2.06 2.06-.94-2.06-.94-.94-2.06-.94 2.06-2.06.94z\"/><path d=\"M17.41 7.96l-1.37-1.37c-.4-.4-.92-.59-1.43-.59-.52 0-1.04.2-1.43.59L10.3 9.45l-7.72 7.72c-.78.78-.78 2.05 0 2.83L4 21.41c.39.39.9.59 1.41.59.51 0 1.02-.2 1.41-.59l7.78-7.78 2.81-2.81c.8-.78.8-2.07 0-2.86zM5.41 20L4 18.59l7.72-7.72 1.47 1.35L5.41 20z\"/>\n",
              "  </svg>\n",
              "      </button>\n",
              "      \n",
              "  <style>\n",
              "    .colab-df-container {\n",
              "      display:flex;\n",
              "      flex-wrap:wrap;\n",
              "      gap: 12px;\n",
              "    }\n",
              "\n",
              "    .colab-df-convert {\n",
              "      background-color: #E8F0FE;\n",
              "      border: none;\n",
              "      border-radius: 50%;\n",
              "      cursor: pointer;\n",
              "      display: none;\n",
              "      fill: #1967D2;\n",
              "      height: 32px;\n",
              "      padding: 0 0 0 0;\n",
              "      width: 32px;\n",
              "    }\n",
              "\n",
              "    .colab-df-convert:hover {\n",
              "      background-color: #E2EBFA;\n",
              "      box-shadow: 0px 1px 2px rgba(60, 64, 67, 0.3), 0px 1px 3px 1px rgba(60, 64, 67, 0.15);\n",
              "      fill: #174EA6;\n",
              "    }\n",
              "\n",
              "    [theme=dark] .colab-df-convert {\n",
              "      background-color: #3B4455;\n",
              "      fill: #D2E3FC;\n",
              "    }\n",
              "\n",
              "    [theme=dark] .colab-df-convert:hover {\n",
              "      background-color: #434B5C;\n",
              "      box-shadow: 0px 1px 3px 1px rgba(0, 0, 0, 0.15);\n",
              "      filter: drop-shadow(0px 1px 2px rgba(0, 0, 0, 0.3));\n",
              "      fill: #FFFFFF;\n",
              "    }\n",
              "  </style>\n",
              "\n",
              "      <script>\n",
              "        const buttonEl =\n",
              "          document.querySelector('#df-b79ee000-3dec-40e7-b7a7-a43c632ea791 button.colab-df-convert');\n",
              "        buttonEl.style.display =\n",
              "          google.colab.kernel.accessAllowed ? 'block' : 'none';\n",
              "\n",
              "        async function convertToInteractive(key) {\n",
              "          const element = document.querySelector('#df-b79ee000-3dec-40e7-b7a7-a43c632ea791');\n",
              "          const dataTable =\n",
              "            await google.colab.kernel.invokeFunction('convertToInteractive',\n",
              "                                                     [key], {});\n",
              "          if (!dataTable) return;\n",
              "\n",
              "          const docLinkHtml = 'Like what you see? Visit the ' +\n",
              "            '<a target=\"_blank\" href=https://colab.research.google.com/notebooks/data_table.ipynb>data table notebook</a>'\n",
              "            + ' to learn more about interactive tables.';\n",
              "          element.innerHTML = '';\n",
              "          dataTable['output_type'] = 'display_data';\n",
              "          await google.colab.output.renderOutput(dataTable, element);\n",
              "          const docLink = document.createElement('div');\n",
              "          docLink.innerHTML = docLinkHtml;\n",
              "          element.appendChild(docLink);\n",
              "        }\n",
              "      </script>\n",
              "    </div>\n",
              "  </div>\n",
              "  "
            ],
            "text/plain": [
              "  customer id  yearofobservation  ...  geo_code  claim\n",
              "0  H14663      2013               ...  1053      0    \n",
              "1  H2037       2015               ...  1053      0    \n",
              "2  H3802       2014               ...  1053      0    \n",
              "3  H3834       2013               ...  1053      0    \n",
              "4  H5053       2014               ...  1053      0    \n",
              "\n",
              "[5 rows x 13 columns]"
            ]
          },
          "metadata": {},
          "execution_count": 14
        }
      ]
    },
    {
      "cell_type": "markdown",
      "metadata": {
        "id": "rF2ABPsHUtbZ"
      },
      "source": [
        "## 6. Exploratory Analysis"
      ]
    },
    {
      "cell_type": "markdown",
      "source": [
        "### a) Univariate Analysis"
      ],
      "metadata": {
        "id": "bSDDZi2S2-7y"
      }
    },
    {
      "cell_type": "markdown",
      "source": [
        "i) Central Tendencies"
      ],
      "metadata": {
        "id": "4V7Fp9p54hKy"
      }
    },
    {
      "cell_type": "code",
      "metadata": {
        "id": "5nnRToniXGDK",
        "colab": {
          "base_uri": "https://localhost:8080/"
        },
        "outputId": "9e651e62-d8ac-4b70-b839-e28bf7bdc0cb"
      },
      "source": [
        "# Ploting the univariate summaries and recording our observations\n",
        "#\n",
        "\n",
        "# Finding the mean\n",
        "\n",
        "num_cols = df_ins[['insured_period', 'building dimension']]\n",
        "\n",
        "num_cols.mean()"
      ],
      "execution_count": null,
      "outputs": [
        {
          "output_type": "execute_result",
          "data": {
            "text/plain": [
              "insured_period        0.910284   \n",
              "building dimension    1883.727530\n",
              "dtype: float64"
            ]
          },
          "metadata": {},
          "execution_count": 15
        }
      ]
    },
    {
      "cell_type": "code",
      "source": [
        "# Finding the Mode\n",
        "\n",
        "num_cols.mode()"
      ],
      "metadata": {
        "colab": {
          "base_uri": "https://localhost:8080/",
          "height": 81
        },
        "id": "C2jBUBpG0L8U",
        "outputId": "ed603e03-6fb8-49d6-d06e-c93653e69f71"
      },
      "execution_count": null,
      "outputs": [
        {
          "output_type": "execute_result",
          "data": {
            "text/html": [
              "\n",
              "  <div id=\"df-7ad95806-948c-4a8d-9b08-a7c122fb123f\">\n",
              "    <div class=\"colab-df-container\">\n",
              "      <div>\n",
              "<style scoped>\n",
              "    .dataframe tbody tr th:only-of-type {\n",
              "        vertical-align: middle;\n",
              "    }\n",
              "\n",
              "    .dataframe tbody tr th {\n",
              "        vertical-align: top;\n",
              "    }\n",
              "\n",
              "    .dataframe thead th {\n",
              "        text-align: right;\n",
              "    }\n",
              "</style>\n",
              "<table border=\"1\" class=\"dataframe\">\n",
              "  <thead>\n",
              "    <tr style=\"text-align: right;\">\n",
              "      <th></th>\n",
              "      <th>insured_period</th>\n",
              "      <th>building dimension</th>\n",
              "    </tr>\n",
              "  </thead>\n",
              "  <tbody>\n",
              "    <tr>\n",
              "      <th>0</th>\n",
              "      <td>1.0</td>\n",
              "      <td>400.0</td>\n",
              "    </tr>\n",
              "  </tbody>\n",
              "</table>\n",
              "</div>\n",
              "      <button class=\"colab-df-convert\" onclick=\"convertToInteractive('df-7ad95806-948c-4a8d-9b08-a7c122fb123f')\"\n",
              "              title=\"Convert this dataframe to an interactive table.\"\n",
              "              style=\"display:none;\">\n",
              "        \n",
              "  <svg xmlns=\"http://www.w3.org/2000/svg\" height=\"24px\"viewBox=\"0 0 24 24\"\n",
              "       width=\"24px\">\n",
              "    <path d=\"M0 0h24v24H0V0z\" fill=\"none\"/>\n",
              "    <path d=\"M18.56 5.44l.94 2.06.94-2.06 2.06-.94-2.06-.94-.94-2.06-.94 2.06-2.06.94zm-11 1L8.5 8.5l.94-2.06 2.06-.94-2.06-.94L8.5 2.5l-.94 2.06-2.06.94zm10 10l.94 2.06.94-2.06 2.06-.94-2.06-.94-.94-2.06-.94 2.06-2.06.94z\"/><path d=\"M17.41 7.96l-1.37-1.37c-.4-.4-.92-.59-1.43-.59-.52 0-1.04.2-1.43.59L10.3 9.45l-7.72 7.72c-.78.78-.78 2.05 0 2.83L4 21.41c.39.39.9.59 1.41.59.51 0 1.02-.2 1.41-.59l7.78-7.78 2.81-2.81c.8-.78.8-2.07 0-2.86zM5.41 20L4 18.59l7.72-7.72 1.47 1.35L5.41 20z\"/>\n",
              "  </svg>\n",
              "      </button>\n",
              "      \n",
              "  <style>\n",
              "    .colab-df-container {\n",
              "      display:flex;\n",
              "      flex-wrap:wrap;\n",
              "      gap: 12px;\n",
              "    }\n",
              "\n",
              "    .colab-df-convert {\n",
              "      background-color: #E8F0FE;\n",
              "      border: none;\n",
              "      border-radius: 50%;\n",
              "      cursor: pointer;\n",
              "      display: none;\n",
              "      fill: #1967D2;\n",
              "      height: 32px;\n",
              "      padding: 0 0 0 0;\n",
              "      width: 32px;\n",
              "    }\n",
              "\n",
              "    .colab-df-convert:hover {\n",
              "      background-color: #E2EBFA;\n",
              "      box-shadow: 0px 1px 2px rgba(60, 64, 67, 0.3), 0px 1px 3px 1px rgba(60, 64, 67, 0.15);\n",
              "      fill: #174EA6;\n",
              "    }\n",
              "\n",
              "    [theme=dark] .colab-df-convert {\n",
              "      background-color: #3B4455;\n",
              "      fill: #D2E3FC;\n",
              "    }\n",
              "\n",
              "    [theme=dark] .colab-df-convert:hover {\n",
              "      background-color: #434B5C;\n",
              "      box-shadow: 0px 1px 3px 1px rgba(0, 0, 0, 0.15);\n",
              "      filter: drop-shadow(0px 1px 2px rgba(0, 0, 0, 0.3));\n",
              "      fill: #FFFFFF;\n",
              "    }\n",
              "  </style>\n",
              "\n",
              "      <script>\n",
              "        const buttonEl =\n",
              "          document.querySelector('#df-7ad95806-948c-4a8d-9b08-a7c122fb123f button.colab-df-convert');\n",
              "        buttonEl.style.display =\n",
              "          google.colab.kernel.accessAllowed ? 'block' : 'none';\n",
              "\n",
              "        async function convertToInteractive(key) {\n",
              "          const element = document.querySelector('#df-7ad95806-948c-4a8d-9b08-a7c122fb123f');\n",
              "          const dataTable =\n",
              "            await google.colab.kernel.invokeFunction('convertToInteractive',\n",
              "                                                     [key], {});\n",
              "          if (!dataTable) return;\n",
              "\n",
              "          const docLinkHtml = 'Like what you see? Visit the ' +\n",
              "            '<a target=\"_blank\" href=https://colab.research.google.com/notebooks/data_table.ipynb>data table notebook</a>'\n",
              "            + ' to learn more about interactive tables.';\n",
              "          element.innerHTML = '';\n",
              "          dataTable['output_type'] = 'display_data';\n",
              "          await google.colab.output.renderOutput(dataTable, element);\n",
              "          const docLink = document.createElement('div');\n",
              "          docLink.innerHTML = docLinkHtml;\n",
              "          element.appendChild(docLink);\n",
              "        }\n",
              "      </script>\n",
              "    </div>\n",
              "  </div>\n",
              "  "
            ],
            "text/plain": [
              "   insured_period  building dimension\n",
              "0  1.0             400.0             "
            ]
          },
          "metadata": {},
          "execution_count": 16
        }
      ]
    },
    {
      "cell_type": "code",
      "source": [
        "# Finding Median \n",
        "\n",
        "num_cols.median()"
      ],
      "metadata": {
        "colab": {
          "base_uri": "https://localhost:8080/"
        },
        "id": "29SWyNwM4CL-",
        "outputId": "e8b4acf3-e3d2-4628-ce53-3ed4610190cb"
      },
      "execution_count": null,
      "outputs": [
        {
          "output_type": "execute_result",
          "data": {
            "text/plain": [
              "insured_period        1.0   \n",
              "building dimension    1083.5\n",
              "dtype: float64"
            ]
          },
          "metadata": {},
          "execution_count": 17
        }
      ]
    },
    {
      "cell_type": "markdown",
      "source": [
        "ii) Measure of Dispersion\n"
      ],
      "metadata": {
        "id": "pBtdjLkt4mNt"
      }
    },
    {
      "cell_type": "code",
      "source": [
        "## Finding Variance\n",
        "num_cols.var()"
      ],
      "metadata": {
        "colab": {
          "base_uri": "https://localhost:8080/"
        },
        "id": "qbOMRh604Cax",
        "outputId": "a5fb2ec9-ca3a-49de-8e92-54d0f7c0c0f3"
      },
      "execution_count": null,
      "outputs": [
        {
          "output_type": "execute_result",
          "data": {
            "text/plain": [
              "insured_period        5.724793e-02\n",
              "building dimension    5.187061e+06\n",
              "dtype: float64"
            ]
          },
          "metadata": {},
          "execution_count": 18
        }
      ]
    },
    {
      "cell_type": "code",
      "source": [
        "# Finding Standard Deviation\n",
        "num_cols.std()"
      ],
      "metadata": {
        "colab": {
          "base_uri": "https://localhost:8080/"
        },
        "id": "339qWQ2f4VNj",
        "outputId": "71ed0fe4-7ae3-49df-8ba6-fe3d60b510b9"
      },
      "execution_count": null,
      "outputs": [
        {
          "output_type": "execute_result",
          "data": {
            "text/plain": [
              "insured_period        0.239265   \n",
              "building dimension    2277.512009\n",
              "dtype: float64"
            ]
          },
          "metadata": {},
          "execution_count": 19
        }
      ]
    },
    {
      "cell_type": "code",
      "source": [
        "# Finding the Skewness \n",
        "num_cols.skew()"
      ],
      "metadata": {
        "colab": {
          "base_uri": "https://localhost:8080/"
        },
        "id": "V2n9wMN24VQf",
        "outputId": "9ff296d1-c07f-4579-dfa1-313b4867ce24"
      },
      "execution_count": null,
      "outputs": [
        {
          "output_type": "execute_result",
          "data": {
            "text/plain": [
              "insured_period       -2.759070\n",
              "building dimension    3.123674\n",
              "dtype: float64"
            ]
          },
          "metadata": {},
          "execution_count": 20
        }
      ]
    },
    {
      "cell_type": "code",
      "source": [
        "# Finding kurtosis\n",
        "num_cols.kurt()"
      ],
      "metadata": {
        "colab": {
          "base_uri": "https://localhost:8080/"
        },
        "id": "VQ7rAZlb4VT7",
        "outputId": "a7bc529f-7545-4dc6-effa-5c84dbb9dc33"
      },
      "execution_count": null,
      "outputs": [
        {
          "output_type": "execute_result",
          "data": {
            "text/plain": [
              "insured_period        6.423945 \n",
              "building dimension    13.471705\n",
              "dtype: float64"
            ]
          },
          "metadata": {},
          "execution_count": 21
        }
      ]
    },
    {
      "cell_type": "markdown",
      "source": [
        "iii) Categorical Data"
      ],
      "metadata": {
        "id": "4yQYWBe543_R"
      }
    },
    {
      "cell_type": "code",
      "source": [
        "# Understanding claims\n",
        "\n",
        "sns.countplot(x= 'claim', data = df_ins)"
      ],
      "metadata": {
        "colab": {
          "base_uri": "https://localhost:8080/",
          "height": 296
        },
        "id": "wAhJ2AnG4VXD",
        "outputId": "4dbf458f-56d1-447e-e982-2aaf35e3ec9a"
      },
      "execution_count": null,
      "outputs": [
        {
          "output_type": "execute_result",
          "data": {
            "text/plain": [
              "<matplotlib.axes._subplots.AxesSubplot at 0x7ffa33c46450>"
            ]
          },
          "metadata": {},
          "execution_count": 22
        },
        {
          "output_type": "display_data",
          "data": {
            "image/png": "[encoded data removed]",
            "text/plain": [
              "<Figure size 432x288 with 1 Axes>"
            ]
          },
          "metadata": {
            "needs_background": "light"
          }
        }
      ]
    },
    {
      "cell_type": "markdown",
      "source": [
        "There are significantly low number of claims.\n"
      ],
      "metadata": {
        "id": "O6DJqdm75iss"
      }
    },
    {
      "cell_type": "code",
      "source": [
        "# Count of buildings that are residential or not\n",
        "sns.countplot(x= 'residential', data = df_ins)"
      ],
      "metadata": {
        "colab": {
          "base_uri": "https://localhost:8080/",
          "height": 296
        },
        "id": "22hHX93R4VZZ",
        "outputId": "15cad6cc-6f74-42a2-d344-c2d5857e9d2a"
      },
      "execution_count": null,
      "outputs": [
        {
          "output_type": "execute_result",
          "data": {
            "text/plain": [
              "<matplotlib.axes._subplots.AxesSubplot at 0x7ffa333b6c10>"
            ]
          },
          "metadata": {},
          "execution_count": 23
        },
        {
          "output_type": "display_data",
          "data": {
            "image/png": "[encoded data removed]",
            "text/plain": [
              "<Figure size 432x288 with 1 Axes>"
            ]
          },
          "metadata": {
            "needs_background": "light"
          }
        }
      ]
    },
    {
      "cell_type": "markdown",
      "source": [
        "Most buildings are not residential."
      ],
      "metadata": {
        "id": "ivAKzQ-45hvu"
      }
    },
    {
      "cell_type": "code",
      "source": [
        "# Count of the buildings painted or not\n",
        "sns.countplot(x= 'building_painted', data = df_ins)"
      ],
      "metadata": {
        "colab": {
          "base_uri": "https://localhost:8080/",
          "height": 298
        },
        "id": "fnVPoUKT4Vbc",
        "outputId": "fb82fa2d-c991-4887-f4d5-155e6b59b79b"
      },
      "execution_count": null,
      "outputs": [
        {
          "output_type": "execute_result",
          "data": {
            "text/plain": [
              "<matplotlib.axes._subplots.AxesSubplot at 0x7ffa3340f3d0>"
            ]
          },
          "metadata": {},
          "execution_count": 24
        },
        {
          "output_type": "display_data",
          "data": {
            "image/png": "[encoded data removed]",
            "text/plain": [
              "<Figure size 432x288 with 1 Axes>"
            ]
          },
          "metadata": {
            "needs_background": "light"
          }
        }
      ]
    },
    {
      "cell_type": "markdown",
      "source": [
        "Most buldings in our dataset are not painted as compared to those that are painted."
      ],
      "metadata": {
        "id": "z5fgb8rR60RR"
      }
    },
    {
      "cell_type": "code",
      "source": [
        "# Understanding if the buildings are fenced or not\n",
        "sns.countplot(x= 'building_fenced', data = df_ins)"
      ],
      "metadata": {
        "colab": {
          "base_uri": "https://localhost:8080/",
          "height": 298
        },
        "id": "4G5TvGhx68ut",
        "outputId": "da354f77-c510-458f-c790-8b759b1db6b8"
      },
      "execution_count": null,
      "outputs": [
        {
          "output_type": "execute_result",
          "data": {
            "text/plain": [
              "<matplotlib.axes._subplots.AxesSubplot at 0x7ffa332ed910>"
            ]
          },
          "metadata": {},
          "execution_count": 25
        },
        {
          "output_type": "display_data",
          "data": {
            "image/png": "[encoded data removed]",
            "text/plain": [
              "<Figure size 432x288 with 1 Axes>"
            ]
          },
          "metadata": {
            "needs_background": "light"
          }
        }
      ]
    },
    {
      "cell_type": "markdown",
      "source": [
        "Approximately, there is an equal number of buildings that are fenced as those that are not fenced.\n"
      ],
      "metadata": {
        "id": "oIbgY4fv687n"
      }
    },
    {
      "cell_type": "code",
      "source": [
        "# Count of buildings with gardens\n",
        "sns.countplot(x= 'garden', data = df_ins)"
      ],
      "metadata": {
        "colab": {
          "base_uri": "https://localhost:8080/",
          "height": 296
        },
        "id": "uxv8Sl-369Gy",
        "outputId": "5e0da786-9b94-443b-8582-c791566371f5"
      },
      "execution_count": null,
      "outputs": [
        {
          "output_type": "execute_result",
          "data": {
            "text/plain": [
              "<matplotlib.axes._subplots.AxesSubplot at 0x7ffa332ccc50>"
            ]
          },
          "metadata": {},
          "execution_count": 26
        },
        {
          "output_type": "display_data",
          "data": {
            "image/png": "[encoded data removed]",
            "text/plain": [
              "<Figure size 432x288 with 1 Axes>"
            ]
          },
          "metadata": {
            "needs_background": "light"
          }
        }
      ]
    },
    {
      "cell_type": "markdown",
      "source": [
        "There is an approximately equal number of those buildings with garden and those that do not have a garden."
      ],
      "metadata": {
        "id": "WZF4NUzT69Y_"
      }
    },
    {
      "cell_type": "code",
      "source": [
        "# Understanding the settlement.\n",
        "sns.countplot(x= 'settlement', data = df_ins)"
      ],
      "metadata": {
        "colab": {
          "base_uri": "https://localhost:8080/",
          "height": 296
        },
        "id": "Q8UiyIiR8hoH",
        "outputId": "cc032569-362b-48d2-8ac5-fd2e709142b8"
      },
      "execution_count": null,
      "outputs": [
        {
          "output_type": "execute_result",
          "data": {
            "text/plain": [
              "<matplotlib.axes._subplots.AxesSubplot at 0x7ffa33297510>"
            ]
          },
          "metadata": {},
          "execution_count": 27
        },
        {
          "output_type": "display_data",
          "data": {
            "image/png": "[encoded data removed]",
            "text/plain": [
              "<Figure size 432x288 with 1 Axes>"
            ]
          },
          "metadata": {
            "needs_background": "light"
          }
        }
      ]
    },
    {
      "cell_type": "markdown",
      "source": [
        "There is an approximately equal number of buildings in urban settlement and those that are in rural settlement."
      ],
      "metadata": {
        "id": "udADEJ4A8h5w"
      }
    },
    {
      "cell_type": "markdown",
      "source": [
        "### b) Bivariate Analysis"
      ],
      "metadata": {
        "id": "1L6Khc3r-Kqz"
      }
    },
    {
      "cell_type": "code",
      "source": [
        "# checking claims with the year of observation\n",
        "\n",
        "sns.catplot(x='yearofobservation',hue='claim',data=df_ins,kind='count',aspect=2)"
      ],
      "metadata": {
        "colab": {
          "base_uri": "https://localhost:8080/",
          "height": 386
        },
        "id": "6ZYp5fn78mCu",
        "outputId": "2e5ada61-8aba-45e9-cf94-ea5255ea0413"
      },
      "execution_count": null,
      "outputs": [
        {
          "output_type": "execute_result",
          "data": {
            "text/plain": [
              "<seaborn.axisgrid.FacetGrid at 0x7ffa3321abd0>"
            ]
          },
          "metadata": {},
          "execution_count": 28
        },
        {
          "output_type": "display_data",
          "data": {
            "image/png": "[encoded data removed]",
            "text/plain": [
              "<Figure size 762.375x360 with 1 Axes>"
            ]
          },
          "metadata": {
            "needs_background": "light"
          }
        }
      ]
    },
    {
      "cell_type": "markdown",
      "source": [
        "There seems to be a gradual decrease in the number of both claims and non-claims over the period of time of observation."
      ],
      "metadata": {
        "id": "XDbuP2_p8mOI"
      }
    },
    {
      "cell_type": "code",
      "source": [
        "# Understanding claims with residential status.\n",
        "sns.catplot(x='residential',hue='claim',data=df_ins,kind='count',aspect=2)"
      ],
      "metadata": {
        "colab": {
          "base_uri": "https://localhost:8080/",
          "height": 386
        },
        "id": "igPllx68_T-8",
        "outputId": "7c547772-2b69-49bb-c95b-a117392b0092"
      },
      "execution_count": null,
      "outputs": [
        {
          "output_type": "execute_result",
          "data": {
            "text/plain": [
              "<seaborn.axisgrid.FacetGrid at 0x7ffa3322d710>"
            ]
          },
          "metadata": {},
          "execution_count": 29
        },
        {
          "output_type": "display_data",
          "data": {
            "image/png": "[encoded data removed]",
            "text/plain": [
              "<Figure size 762.375x360 with 1 Axes>"
            ]
          },
          "metadata": {
            "needs_background": "light"
          }
        }
      ]
    },
    {
      "cell_type": "markdown",
      "source": [
        "More claims came from buildings that are not residential as compared to the claims from the residentials."
      ],
      "metadata": {
        "id": "OSTcYl8v_UKQ"
      }
    },
    {
      "cell_type": "code",
      "source": [
        "#Correlation betwen features\n",
        "cor = df_ins.corr()\n",
        "cor"
      ],
      "metadata": {
        "colab": {
          "base_uri": "https://localhost:8080/",
          "height": 238
        },
        "outputId": "6ec99361-8c3f-4242-bc48-020b20fc8f12",
        "id": "truWZit7PAt3"
      },
      "execution_count": null,
      "outputs": [
        {
          "output_type": "execute_result",
          "data": {
            "text/html": [
              "\n",
              "  <div id=\"df-0f0cc805-7e2d-45d5-910e-96ac2f39537f\">\n",
              "    <div class=\"colab-df-container\">\n",
              "      <div>\n",
              "<style scoped>\n",
              "    .dataframe tbody tr th:only-of-type {\n",
              "        vertical-align: middle;\n",
              "    }\n",
              "\n",
              "    .dataframe tbody tr th {\n",
              "        vertical-align: top;\n",
              "    }\n",
              "\n",
              "    .dataframe thead th {\n",
              "        text-align: right;\n",
              "    }\n",
              "</style>\n",
              "<table border=\"1\" class=\"dataframe\">\n",
              "  <thead>\n",
              "    <tr style=\"text-align: right;\">\n",
              "      <th></th>\n",
              "      <th>yearofobservation</th>\n",
              "      <th>insured_period</th>\n",
              "      <th>residential</th>\n",
              "      <th>building dimension</th>\n",
              "      <th>building_type</th>\n",
              "      <th>claim</th>\n",
              "    </tr>\n",
              "  </thead>\n",
              "  <tbody>\n",
              "    <tr>\n",
              "      <th>yearofobservation</th>\n",
              "      <td>1.000000</td>\n",
              "      <td>0.028677</td>\n",
              "      <td>-0.038406</td>\n",
              "      <td>0.009125</td>\n",
              "      <td>0.006797</td>\n",
              "      <td>-0.014694</td>\n",
              "    </tr>\n",
              "    <tr>\n",
              "      <th>insured_period</th>\n",
              "      <td>0.028677</td>\n",
              "      <td>1.000000</td>\n",
              "      <td>-0.038672</td>\n",
              "      <td>0.007446</td>\n",
              "      <td>-0.022081</td>\n",
              "      <td>0.086926</td>\n",
              "    </tr>\n",
              "    <tr>\n",
              "      <th>residential</th>\n",
              "      <td>-0.038406</td>\n",
              "      <td>-0.038672</td>\n",
              "      <td>1.000000</td>\n",
              "      <td>0.057459</td>\n",
              "      <td>0.334645</td>\n",
              "      <td>0.064343</td>\n",
              "    </tr>\n",
              "    <tr>\n",
              "      <th>building dimension</th>\n",
              "      <td>0.009125</td>\n",
              "      <td>0.007446</td>\n",
              "      <td>0.057459</td>\n",
              "      <td>1.000000</td>\n",
              "      <td>0.007935</td>\n",
              "      <td>0.297064</td>\n",
              "    </tr>\n",
              "    <tr>\n",
              "      <th>building_type</th>\n",
              "      <td>0.006797</td>\n",
              "      <td>-0.022081</td>\n",
              "      <td>0.334645</td>\n",
              "      <td>0.007935</td>\n",
              "      <td>1.000000</td>\n",
              "      <td>0.112052</td>\n",
              "    </tr>\n",
              "    <tr>\n",
              "      <th>claim</th>\n",
              "      <td>-0.014694</td>\n",
              "      <td>0.086926</td>\n",
              "      <td>0.064343</td>\n",
              "      <td>0.297064</td>\n",
              "      <td>0.112052</td>\n",
              "      <td>1.000000</td>\n",
              "    </tr>\n",
              "  </tbody>\n",
              "</table>\n",
              "</div>\n",
              "      <button class=\"colab-df-convert\" onclick=\"convertToInteractive('df-0f0cc805-7e2d-45d5-910e-96ac2f39537f')\"\n",
              "              title=\"Convert this dataframe to an interactive table.\"\n",
              "              style=\"display:none;\">\n",
              "        \n",
              "  <svg xmlns=\"http://www.w3.org/2000/svg\" height=\"24px\"viewBox=\"0 0 24 24\"\n",
              "       width=\"24px\">\n",
              "    <path d=\"M0 0h24v24H0V0z\" fill=\"none\"/>\n",
              "    <path d=\"M18.56 5.44l.94 2.06.94-2.06 2.06-.94-2.06-.94-.94-2.06-.94 2.06-2.06.94zm-11 1L8.5 8.5l.94-2.06 2.06-.94-2.06-.94L8.5 2.5l-.94 2.06-2.06.94zm10 10l.94 2.06.94-2.06 2.06-.94-2.06-.94-.94-2.06-.94 2.06-2.06.94z\"/><path d=\"M17.41 7.96l-1.37-1.37c-.4-.4-.92-.59-1.43-.59-.52 0-1.04.2-1.43.59L10.3 9.45l-7.72 7.72c-.78.78-.78 2.05 0 2.83L4 21.41c.39.39.9.59 1.41.59.51 0 1.02-.2 1.41-.59l7.78-7.78 2.81-2.81c.8-.78.8-2.07 0-2.86zM5.41 20L4 18.59l7.72-7.72 1.47 1.35L5.41 20z\"/>\n",
              "  </svg>\n",
              "      </button>\n",
              "      \n",
              "  <style>\n",
              "    .colab-df-container {\n",
              "      display:flex;\n",
              "      flex-wrap:wrap;\n",
              "      gap: 12px;\n",
              "    }\n",
              "\n",
              "    .colab-df-convert {\n",
              "      background-color: #E8F0FE;\n",
              "      border: none;\n",
              "      border-radius: 50%;\n",
              "      cursor: pointer;\n",
              "      display: none;\n",
              "      fill: #1967D2;\n",
              "      height: 32px;\n",
              "      padding: 0 0 0 0;\n",
              "      width: 32px;\n",
              "    }\n",
              "\n",
              "    .colab-df-convert:hover {\n",
              "      background-color: #E2EBFA;\n",
              "      box-shadow: 0px 1px 2px rgba(60, 64, 67, 0.3), 0px 1px 3px 1px rgba(60, 64, 67, 0.15);\n",
              "      fill: #174EA6;\n",
              "    }\n",
              "\n",
              "    [theme=dark] .colab-df-convert {\n",
              "      background-color: #3B4455;\n",
              "      fill: #D2E3FC;\n",
              "    }\n",
              "\n",
              "    [theme=dark] .colab-df-convert:hover {\n",
              "      background-color: #434B5C;\n",
              "      box-shadow: 0px 1px 3px 1px rgba(0, 0, 0, 0.15);\n",
              "      filter: drop-shadow(0px 1px 2px rgba(0, 0, 0, 0.3));\n",
              "      fill: #FFFFFF;\n",
              "    }\n",
              "  </style>\n",
              "\n",
              "      <script>\n",
              "        const buttonEl =\n",
              "          document.querySelector('#df-0f0cc805-7e2d-45d5-910e-96ac2f39537f button.colab-df-convert');\n",
              "        buttonEl.style.display =\n",
              "          google.colab.kernel.accessAllowed ? 'block' : 'none';\n",
              "\n",
              "        async function convertToInteractive(key) {\n",
              "          const element = document.querySelector('#df-0f0cc805-7e2d-45d5-910e-96ac2f39537f');\n",
              "          const dataTable =\n",
              "            await google.colab.kernel.invokeFunction('convertToInteractive',\n",
              "                                                     [key], {});\n",
              "          if (!dataTable) return;\n",
              "\n",
              "          const docLinkHtml = 'Like what you see? Visit the ' +\n",
              "            '<a target=\"_blank\" href=https://colab.research.google.com/notebooks/data_table.ipynb>data table notebook</a>'\n",
              "            + ' to learn more about interactive tables.';\n",
              "          element.innerHTML = '';\n",
              "          dataTable['output_type'] = 'display_data';\n",
              "          await google.colab.output.renderOutput(dataTable, element);\n",
              "          const docLink = document.createElement('div');\n",
              "          docLink.innerHTML = docLinkHtml;\n",
              "          element.appendChild(docLink);\n",
              "        }\n",
              "      </script>\n",
              "    </div>\n",
              "  </div>\n",
              "  "
            ],
            "text/plain": [
              "                    yearofobservation  insured_period  ...  building_type     claim\n",
              "yearofobservation   1.000000           0.028677        ...  0.006797      -0.014694\n",
              "insured_period      0.028677           1.000000        ... -0.022081       0.086926\n",
              "residential        -0.038406          -0.038672        ...  0.334645       0.064343\n",
              "building dimension  0.009125           0.007446        ...  0.007935       0.297064\n",
              "building_type       0.006797          -0.022081        ...  1.000000       0.112052\n",
              "claim              -0.014694           0.086926        ...  0.112052       1.000000\n",
              "\n",
              "[6 rows x 6 columns]"
            ]
          },
          "metadata": {},
          "execution_count": 30
        }
      ]
    },
    {
      "cell_type": "markdown",
      "source": [
        "From the correlation table, we can see that building type has the highest positive correlation with the claim, the larger the building the more likely the owners are to file claims"
      ],
      "metadata": {
        "id": "qY6p46eJPAt4"
      }
    },
    {
      "cell_type": "code",
      "source": [
        "#Visualizing our correlations with a heatmap \n",
        "sns.heatmap(cor, cmap=\"YlGnBu\")\n",
        "#the darker the color the higher the correlation"
      ],
      "metadata": {
        "colab": {
          "base_uri": "https://localhost:8080/",
          "height": 372
        },
        "outputId": "71db771d-ebfb-4068-ca15-a506d53b0ff5",
        "id": "P-wHM-5ePAt4"
      },
      "execution_count": null,
      "outputs": [
        {
          "output_type": "execute_result",
          "data": {
            "text/plain": [
              "<matplotlib.axes._subplots.AxesSubplot at 0x7ffa2a8b6c10>"
            ]
          },
          "metadata": {},
          "execution_count": 31
        },
        {
          "output_type": "display_data",
          "data": {
            "image/png": "[encoded data removed]",
            "text/plain": [
              "<Figure size 432x288 with 2 Axes>"
            ]
          },
          "metadata": {
            "needs_background": "light"
          }
        }
      ]
    },
    {
      "cell_type": "markdown",
      "source": [
        "We have confrimed that the building dimesion has the highest claim, with if insured, type of residence & building type have a postive correlation with claim"
      ],
      "metadata": {
        "id": "WFQod5shPAt5"
      }
    },
    {
      "cell_type": "code",
      "source": [
        "plt.figure(figsize=(12,8))\n",
        "sns.boxplot(x='yearofobservation', y='building dimension', data=df_ins,  hue='claim', palette='rainbow')\n",
        "plt.title(\"Building dimensions by year of observation, Divided by those who filed claims\")\n"
      ],
      "metadata": {
        "colab": {
          "base_uri": "https://localhost:8080/",
          "height": 530
        },
        "id": "q2R6Qk6PJKse",
        "outputId": "53bbd0ff-c514-495e-fe2e-76b90dfa9965"
      },
      "execution_count": null,
      "outputs": [
        {
          "output_type": "execute_result",
          "data": {
            "text/plain": [
              "Text(0.5, 1.0, 'Building dimensions by year of observation, Divided by those who filed claims')"
            ]
          },
          "metadata": {},
          "execution_count": 32
        },
        {
          "output_type": "display_data",
          "data": {
            "image/png": "[encoded data removed]",
            "text/plain": [
              "<Figure size 864x576 with 1 Axes>"
            ]
          },
          "metadata": {
            "needs_background": "light"
          }
        }
      ]
    },
    {
      "cell_type": "markdown",
      "source": [
        "From the graph we can see that over the years building sizes stayed mostly around the same size. However the number of people who made claims has been consistenly higher than those who didnt. "
      ],
      "metadata": {
        "id": "x-tdRgorK1MH"
      }
    },
    {
      "cell_type": "code",
      "source": [
        "plt.figure(figsize=(24,16))\n",
        "sns.catplot(x='yearofobservation',y=\"insured_period\",data=df_ins, hue='claim', palette='rainbow')\n",
        "plt.title(\"Insured period by year of observation, Segmented by those who filed claims\")"
      ],
      "metadata": {
        "colab": {
          "base_uri": "https://localhost:8080/",
          "height": 420
        },
        "id": "plbWDUPJK1YN",
        "outputId": "c3143005-e0f7-4c89-fac1-ca6be063f55b"
      },
      "execution_count": null,
      "outputs": [
        {
          "output_type": "execute_result",
          "data": {
            "text/plain": [
              "Text(0.5, 1.0, 'Insured period by year of observation, Segmented by those who filed claims')"
            ]
          },
          "metadata": {},
          "execution_count": 33
        },
        {
          "output_type": "display_data",
          "data": {
            "text/plain": [
              "<Figure size 1728x1152 with 0 Axes>"
            ]
          },
          "metadata": {}
        },
        {
          "output_type": "display_data",
          "data": {
            "image/png": "[encoded data removed]",
            "text/plain": [
              "<Figure size 402.375x360 with 1 Axes>"
            ]
          },
          "metadata": {
            "needs_background": "light"
          }
        }
      ]
    },
    {
      "cell_type": "markdown",
      "source": [
        "From the graph above we see that when it comes to making claims the length of the insure period doesnt matter. People who take out full year policiys and those who take 1/2 year are equally likely to make a claim"
      ],
      "metadata": {
        "id": "IbvJ8f-lM3W1"
      }
    },
    {
      "cell_type": "markdown",
      "metadata": {
        "id": "vTbdjSrhVIiT"
      },
      "source": [
        "## 7. Implementing the Solution"
      ]
    },
    {
      "cell_type": "code",
      "metadata": {
        "id": "PJLZaRzJXJ3w",
        "colab": {
          "base_uri": "https://localhost:8080/"
        },
        "outputId": "96446904-b27f-46da-ddf6-a73ef9d74a4f"
      },
      "source": [
        "# Implementing the Solution\n",
        "# We will begin to train our models and assess their acuracy \n",
        "df_ins['claim'].unique()\n"
      ],
      "execution_count": null,
      "outputs": [
        {
          "output_type": "execute_result",
          "data": {
            "text/plain": [
              "array([0, 1])"
            ]
          },
          "metadata": {},
          "execution_count": 34
        }
      ]
    },
    {
      "cell_type": "code",
      "source": [
        "#Importing Tensor flow\n",
        "import tensorflow as tf\n",
        "print(tf.__version__)\n",
        "from tensorflow.keras import layers\n",
        "from tensorflow.keras import losses"
      ],
      "metadata": {
        "colab": {
          "base_uri": "https://localhost:8080/"
        },
        "id": "Ja841c7bPd21",
        "outputId": "f16e5f21-5dac-4867-8126-eca7023bc006"
      },
      "execution_count": null,
      "outputs": [
        {
          "output_type": "stream",
          "name": "stdout",
          "text": [
            "2.7.0\n"
          ]
        }
      ]
    },
    {
      "cell_type": "code",
      "source": [
        "df = df_ins.copy()\n",
        "df.head(5)\n",
        "df.info()"
      ],
      "metadata": {
        "colab": {
          "base_uri": "https://localhost:8080/"
        },
        "id": "WtZQkjLafQVe",
        "outputId": "408dc36b-1ff0-4eb1-c2fb-b08d9014ccf0"
      },
      "execution_count": null,
      "outputs": [
        {
          "output_type": "stream",
          "name": "stdout",
          "text": [
            "<class 'pandas.core.frame.DataFrame'>\n",
            "Int64Index: 7058 entries, 0 to 7057\n",
            "Data columns (total 13 columns):\n",
            " #   Column              Non-Null Count  Dtype  \n",
            "---  ------              --------------  -----  \n",
            " 0   customer id         7058 non-null   object \n",
            " 1   yearofobservation   7058 non-null   int64  \n",
            " 2   insured_period      7058 non-null   float64\n",
            " 3   residential         7058 non-null   int64  \n",
            " 4   building_painted    7058 non-null   object \n",
            " 5   building_fenced     7058 non-null   object \n",
            " 6   garden              7058 non-null   object \n",
            " 7   settlement          7058 non-null   object \n",
            " 8   building dimension  7058 non-null   float64\n",
            " 9   building_type       7058 non-null   int64  \n",
            " 10  numberofwindows     7058 non-null   object \n",
            " 11  geo_code            7058 non-null   object \n",
            " 12  claim               7058 non-null   int64  \n",
            "dtypes: float64(2), int64(4), object(7)\n",
            "memory usage: 1.1+ MB\n"
          ]
        }
      ]
    },
    {
      "cell_type": "code",
      "source": [
        "df.drop(['customer id'], axis =1,inplace=True)\n",
        "#Removig the ids"
      ],
      "metadata": {
        "id": "2JWi15jtlUbS"
      },
      "execution_count": null,
      "outputs": []
    },
    {
      "cell_type": "code",
      "source": [
        "df.head(5)\n",
        "#Performing label encoding for the object columns\n",
        "from sklearn.preprocessing import LabelEncoder\n",
        "\n",
        "lb = LabelEncoder()\n",
        "df['building_painted'] = lb.fit_transform(df['building_painted'])\n",
        "df['building_fenced'] = lb.fit_transform(df['building_fenced'])\n",
        "df['garden'] = lb.fit_transform(df['garden'])\n",
        "df['settlement'] = lb.fit_transform(df['settlement'])\n",
        "df['numberofwindows'] = lb.fit_transform(df['numberofwindows'])\n",
        "df['geo_code'] = lb.fit_transform(df['geo_code'])\n",
        "\n",
        "df.head(5)"
      ],
      "metadata": {
        "colab": {
          "base_uri": "https://localhost:8080/",
          "height": 287
        },
        "id": "wUQewkwflndi",
        "outputId": "58f96bc4-f7cf-4ff0-98fd-8f899df9b80c"
      },
      "execution_count": null,
      "outputs": [
        {
          "output_type": "execute_result",
          "data": {
            "text/html": [
              "\n",
              "  <div id=\"df-7e61b29d-7b5c-4a83-90a0-c1108c0ec3c2\">\n",
              "    <div class=\"colab-df-container\">\n",
              "      <div>\n",
              "<style scoped>\n",
              "    .dataframe tbody tr th:only-of-type {\n",
              "        vertical-align: middle;\n",
              "    }\n",
              "\n",
              "    .dataframe tbody tr th {\n",
              "        vertical-align: top;\n",
              "    }\n",
              "\n",
              "    .dataframe thead th {\n",
              "        text-align: right;\n",
              "    }\n",
              "</style>\n",
              "<table border=\"1\" class=\"dataframe\">\n",
              "  <thead>\n",
              "    <tr style=\"text-align: right;\">\n",
              "      <th></th>\n",
              "      <th>yearofobservation</th>\n",
              "      <th>insured_period</th>\n",
              "      <th>residential</th>\n",
              "      <th>building_painted</th>\n",
              "      <th>building_fenced</th>\n",
              "      <th>garden</th>\n",
              "      <th>settlement</th>\n",
              "      <th>building dimension</th>\n",
              "      <th>building_type</th>\n",
              "      <th>numberofwindows</th>\n",
              "      <th>geo_code</th>\n",
              "      <th>claim</th>\n",
              "    </tr>\n",
              "  </thead>\n",
              "  <tbody>\n",
              "    <tr>\n",
              "      <th>0</th>\n",
              "      <td>2013</td>\n",
              "      <td>1.0</td>\n",
              "      <td>0</td>\n",
              "      <td>1</td>\n",
              "      <td>1</td>\n",
              "      <td>0</td>\n",
              "      <td>1</td>\n",
              "      <td>290.0</td>\n",
              "      <td>1</td>\n",
              "      <td>0</td>\n",
              "      <td>7</td>\n",
              "      <td>0</td>\n",
              "    </tr>\n",
              "    <tr>\n",
              "      <th>1</th>\n",
              "      <td>2015</td>\n",
              "      <td>1.0</td>\n",
              "      <td>0</td>\n",
              "      <td>0</td>\n",
              "      <td>0</td>\n",
              "      <td>1</td>\n",
              "      <td>0</td>\n",
              "      <td>490.0</td>\n",
              "      <td>1</td>\n",
              "      <td>4</td>\n",
              "      <td>7</td>\n",
              "      <td>0</td>\n",
              "    </tr>\n",
              "    <tr>\n",
              "      <th>2</th>\n",
              "      <td>2014</td>\n",
              "      <td>1.0</td>\n",
              "      <td>0</td>\n",
              "      <td>1</td>\n",
              "      <td>1</td>\n",
              "      <td>0</td>\n",
              "      <td>1</td>\n",
              "      <td>595.0</td>\n",
              "      <td>1</td>\n",
              "      <td>0</td>\n",
              "      <td>7</td>\n",
              "      <td>0</td>\n",
              "    </tr>\n",
              "    <tr>\n",
              "      <th>3</th>\n",
              "      <td>2013</td>\n",
              "      <td>1.0</td>\n",
              "      <td>0</td>\n",
              "      <td>0</td>\n",
              "      <td>1</td>\n",
              "      <td>0</td>\n",
              "      <td>1</td>\n",
              "      <td>2840.0</td>\n",
              "      <td>1</td>\n",
              "      <td>0</td>\n",
              "      <td>7</td>\n",
              "      <td>0</td>\n",
              "    </tr>\n",
              "    <tr>\n",
              "      <th>4</th>\n",
              "      <td>2014</td>\n",
              "      <td>1.0</td>\n",
              "      <td>0</td>\n",
              "      <td>0</td>\n",
              "      <td>0</td>\n",
              "      <td>1</td>\n",
              "      <td>0</td>\n",
              "      <td>680.0</td>\n",
              "      <td>1</td>\n",
              "      <td>3</td>\n",
              "      <td>7</td>\n",
              "      <td>0</td>\n",
              "    </tr>\n",
              "  </tbody>\n",
              "</table>\n",
              "</div>\n",
              "      <button class=\"colab-df-convert\" onclick=\"convertToInteractive('df-7e61b29d-7b5c-4a83-90a0-c1108c0ec3c2')\"\n",
              "              title=\"Convert this dataframe to an interactive table.\"\n",
              "              style=\"display:none;\">\n",
              "        \n",
              "  <svg xmlns=\"http://www.w3.org/2000/svg\" height=\"24px\"viewBox=\"0 0 24 24\"\n",
              "       width=\"24px\">\n",
              "    <path d=\"M0 0h24v24H0V0z\" fill=\"none\"/>\n",
              "    <path d=\"M18.56 5.44l.94 2.06.94-2.06 2.06-.94-2.06-.94-.94-2.06-.94 2.06-2.06.94zm-11 1L8.5 8.5l.94-2.06 2.06-.94-2.06-.94L8.5 2.5l-.94 2.06-2.06.94zm10 10l.94 2.06.94-2.06 2.06-.94-2.06-.94-.94-2.06-.94 2.06-2.06.94z\"/><path d=\"M17.41 7.96l-1.37-1.37c-.4-.4-.92-.59-1.43-.59-.52 0-1.04.2-1.43.59L10.3 9.45l-7.72 7.72c-.78.78-.78 2.05 0 2.83L4 21.41c.39.39.9.59 1.41.59.51 0 1.02-.2 1.41-.59l7.78-7.78 2.81-2.81c.8-.78.8-2.07 0-2.86zM5.41 20L4 18.59l7.72-7.72 1.47 1.35L5.41 20z\"/>\n",
              "  </svg>\n",
              "      </button>\n",
              "      \n",
              "  <style>\n",
              "    .colab-df-container {\n",
              "      display:flex;\n",
              "      flex-wrap:wrap;\n",
              "      gap: 12px;\n",
              "    }\n",
              "\n",
              "    .colab-df-convert {\n",
              "      background-color: #E8F0FE;\n",
              "      border: none;\n",
              "      border-radius: 50%;\n",
              "      cursor: pointer;\n",
              "      display: none;\n",
              "      fill: #1967D2;\n",
              "      height: 32px;\n",
              "      padding: 0 0 0 0;\n",
              "      width: 32px;\n",
              "    }\n",
              "\n",
              "    .colab-df-convert:hover {\n",
              "      background-color: #E2EBFA;\n",
              "      box-shadow: 0px 1px 2px rgba(60, 64, 67, 0.3), 0px 1px 3px 1px rgba(60, 64, 67, 0.15);\n",
              "      fill: #174EA6;\n",
              "    }\n",
              "\n",
              "    [theme=dark] .colab-df-convert {\n",
              "      background-color: #3B4455;\n",
              "      fill: #D2E3FC;\n",
              "    }\n",
              "\n",
              "    [theme=dark] .colab-df-convert:hover {\n",
              "      background-color: #434B5C;\n",
              "      box-shadow: 0px 1px 3px 1px rgba(0, 0, 0, 0.15);\n",
              "      filter: drop-shadow(0px 1px 2px rgba(0, 0, 0, 0.3));\n",
              "      fill: #FFFFFF;\n",
              "    }\n",
              "  </style>\n",
              "\n",
              "      <script>\n",
              "        const buttonEl =\n",
              "          document.querySelector('#df-7e61b29d-7b5c-4a83-90a0-c1108c0ec3c2 button.colab-df-convert');\n",
              "        buttonEl.style.display =\n",
              "          google.colab.kernel.accessAllowed ? 'block' : 'none';\n",
              "\n",
              "        async function convertToInteractive(key) {\n",
              "          const element = document.querySelector('#df-7e61b29d-7b5c-4a83-90a0-c1108c0ec3c2');\n",
              "          const dataTable =\n",
              "            await google.colab.kernel.invokeFunction('convertToInteractive',\n",
              "                                                     [key], {});\n",
              "          if (!dataTable) return;\n",
              "\n",
              "          const docLinkHtml = 'Like what you see? Visit the ' +\n",
              "            '<a target=\"_blank\" href=https://colab.research.google.com/notebooks/data_table.ipynb>data table notebook</a>'\n",
              "            + ' to learn more about interactive tables.';\n",
              "          element.innerHTML = '';\n",
              "          dataTable['output_type'] = 'display_data';\n",
              "          await google.colab.output.renderOutput(dataTable, element);\n",
              "          const docLink = document.createElement('div');\n",
              "          docLink.innerHTML = docLinkHtml;\n",
              "          element.appendChild(docLink);\n",
              "        }\n",
              "      </script>\n",
              "    </div>\n",
              "  </div>\n",
              "  "
            ],
            "text/plain": [
              "   yearofobservation  insured_period  ...  geo_code  claim\n",
              "0  2013               1.0             ...  7         0    \n",
              "1  2015               1.0             ...  7         0    \n",
              "2  2014               1.0             ...  7         0    \n",
              "3  2013               1.0             ...  7         0    \n",
              "4  2014               1.0             ...  7         0    \n",
              "\n",
              "[5 rows x 12 columns]"
            ]
          },
          "metadata": {},
          "execution_count": 38
        }
      ]
    },
    {
      "cell_type": "code",
      "source": [
        "df.info()"
      ],
      "metadata": {
        "colab": {
          "base_uri": "https://localhost:8080/"
        },
        "id": "fZmU9V1amwdO",
        "outputId": "839a9964-1dbe-413b-f3e8-197785af23e8"
      },
      "execution_count": null,
      "outputs": [
        {
          "output_type": "stream",
          "name": "stdout",
          "text": [
            "<class 'pandas.core.frame.DataFrame'>\n",
            "Int64Index: 7058 entries, 0 to 7057\n",
            "Data columns (total 12 columns):\n",
            " #   Column              Non-Null Count  Dtype  \n",
            "---  ------              --------------  -----  \n",
            " 0   yearofobservation   7058 non-null   int64  \n",
            " 1   insured_period      7058 non-null   float64\n",
            " 2   residential         7058 non-null   int64  \n",
            " 3   building_painted    7058 non-null   int64  \n",
            " 4   building_fenced     7058 non-null   int64  \n",
            " 5   garden              7058 non-null   int64  \n",
            " 6   settlement          7058 non-null   int64  \n",
            " 7   building dimension  7058 non-null   float64\n",
            " 8   building_type       7058 non-null   int64  \n",
            " 9   numberofwindows     7058 non-null   int64  \n",
            " 10  geo_code            7058 non-null   int64  \n",
            " 11  claim               7058 non-null   int64  \n",
            "dtypes: float64(2), int64(10)\n",
            "memory usage: 1.0 MB\n"
          ]
        }
      ]
    },
    {
      "cell_type": "code",
      "source": [
        "from sklearn.model_selection import train_test_split\n",
        "X = df.drop(['claim'], axis = 1)\n",
        "y = df['claim']\n",
        "X_train, X_test, y_train, y_test = train_test_split(X, y, test_size=0.3, random_state=42)"
      ],
      "metadata": {
        "id": "pjYlFX8KfQQr"
      },
      "execution_count": null,
      "outputs": []
    },
    {
      "cell_type": "markdown",
      "source": [
        "# Build a machine learning model\n",
        "\n",
        "Build a tf.keras.Sequential model by stacking layers"
      ],
      "metadata": {
        "id": "3YvVeiULUpXy"
      }
    },
    {
      "cell_type": "code",
      "source": [
        "# Subject our features to LDA model\n",
        "from sklearn.discriminant_analysis import LinearDiscriminantAnalysis as LDA\n",
        "# Create an instance of LDA\n",
        "lda = LDA()\n",
        "lda = lda.fit(X, y)\n",
        "lda_feat = lda.transform(X)\n",
        "#lda coefficients\n",
        "lda.coef_\n",
        "# Since the coefficients are in an array, we need to create a dataframe so that we can extract the name of the columns\n",
        "                                  \n",
        "Important_features = pd.DataFrame(index=X.columns.values, data=lda.coef_[0].T)\n",
        "Important_features.sort_values(0, ascending=False)"
      ],
      "metadata": {
        "colab": {
          "base_uri": "https://localhost:8080/",
          "height": 394
        },
        "id": "Mz-4_6WVo1nK",
        "outputId": "2fefa3db-8a0c-44d7-97de-a9c6b1d4deda"
      },
      "execution_count": null,
      "outputs": [
        {
          "output_type": "execute_result",
          "data": {
            "text/html": [
              "\n",
              "  <div id=\"df-8df42ea9-d8ee-4295-987c-43e6c3f52057\">\n",
              "    <div class=\"colab-df-container\">\n",
              "      <div>\n",
              "<style scoped>\n",
              "    .dataframe tbody tr th:only-of-type {\n",
              "        vertical-align: middle;\n",
              "    }\n",
              "\n",
              "    .dataframe tbody tr th {\n",
              "        vertical-align: top;\n",
              "    }\n",
              "\n",
              "    .dataframe thead th {\n",
              "        text-align: right;\n",
              "    }\n",
              "</style>\n",
              "<table border=\"1\" class=\"dataframe\">\n",
              "  <thead>\n",
              "    <tr style=\"text-align: right;\">\n",
              "      <th></th>\n",
              "      <th>0</th>\n",
              "    </tr>\n",
              "  </thead>\n",
              "  <tbody>\n",
              "    <tr>\n",
              "      <th>garden</th>\n",
              "      <td>4.458948</td>\n",
              "    </tr>\n",
              "    <tr>\n",
              "      <th>building_fenced</th>\n",
              "      <td>4.146547</td>\n",
              "    </tr>\n",
              "    <tr>\n",
              "      <th>insured_period</th>\n",
              "      <td>0.985002</td>\n",
              "    </tr>\n",
              "    <tr>\n",
              "      <th>settlement</th>\n",
              "      <td>0.926420</td>\n",
              "    </tr>\n",
              "    <tr>\n",
              "      <th>building_type</th>\n",
              "      <td>0.267397</td>\n",
              "    </tr>\n",
              "    <tr>\n",
              "      <th>numberofwindows</th>\n",
              "      <td>0.145659</td>\n",
              "    </tr>\n",
              "    <tr>\n",
              "      <th>residential</th>\n",
              "      <td>0.057857</td>\n",
              "    </tr>\n",
              "    <tr>\n",
              "      <th>building dimension</th>\n",
              "      <td>0.000318</td>\n",
              "    </tr>\n",
              "    <tr>\n",
              "      <th>geo_code</th>\n",
              "      <td>0.000052</td>\n",
              "    </tr>\n",
              "    <tr>\n",
              "      <th>yearofobservation</th>\n",
              "      <td>-0.040541</td>\n",
              "    </tr>\n",
              "    <tr>\n",
              "      <th>building_painted</th>\n",
              "      <td>-0.082093</td>\n",
              "    </tr>\n",
              "  </tbody>\n",
              "</table>\n",
              "</div>\n",
              "      <button class=\"colab-df-convert\" onclick=\"convertToInteractive('df-8df42ea9-d8ee-4295-987c-43e6c3f52057')\"\n",
              "              title=\"Convert this dataframe to an interactive table.\"\n",
              "              style=\"display:none;\">\n",
              "        \n",
              "  <svg xmlns=\"http://www.w3.org/2000/svg\" height=\"24px\"viewBox=\"0 0 24 24\"\n",
              "       width=\"24px\">\n",
              "    <path d=\"M0 0h24v24H0V0z\" fill=\"none\"/>\n",
              "    <path d=\"M18.56 5.44l.94 2.06.94-2.06 2.06-.94-2.06-.94-.94-2.06-.94 2.06-2.06.94zm-11 1L8.5 8.5l.94-2.06 2.06-.94-2.06-.94L8.5 2.5l-.94 2.06-2.06.94zm10 10l.94 2.06.94-2.06 2.06-.94-2.06-.94-.94-2.06-.94 2.06-2.06.94z\"/><path d=\"M17.41 7.96l-1.37-1.37c-.4-.4-.92-.59-1.43-.59-.52 0-1.04.2-1.43.59L10.3 9.45l-7.72 7.72c-.78.78-.78 2.05 0 2.83L4 21.41c.39.39.9.59 1.41.59.51 0 1.02-.2 1.41-.59l7.78-7.78 2.81-2.81c.8-.78.8-2.07 0-2.86zM5.41 20L4 18.59l7.72-7.72 1.47 1.35L5.41 20z\"/>\n",
              "  </svg>\n",
              "      </button>\n",
              "      \n",
              "  <style>\n",
              "    .colab-df-container {\n",
              "      display:flex;\n",
              "      flex-wrap:wrap;\n",
              "      gap: 12px;\n",
              "    }\n",
              "\n",
              "    .colab-df-convert {\n",
              "      background-color: #E8F0FE;\n",
              "      border: none;\n",
              "      border-radius: 50%;\n",
              "      cursor: pointer;\n",
              "      display: none;\n",
              "      fill: #1967D2;\n",
              "      height: 32px;\n",
              "      padding: 0 0 0 0;\n",
              "      width: 32px;\n",
              "    }\n",
              "\n",
              "    .colab-df-convert:hover {\n",
              "      background-color: #E2EBFA;\n",
              "      box-shadow: 0px 1px 2px rgba(60, 64, 67, 0.3), 0px 1px 3px 1px rgba(60, 64, 67, 0.15);\n",
              "      fill: #174EA6;\n",
              "    }\n",
              "\n",
              "    [theme=dark] .colab-df-convert {\n",
              "      background-color: #3B4455;\n",
              "      fill: #D2E3FC;\n",
              "    }\n",
              "\n",
              "    [theme=dark] .colab-df-convert:hover {\n",
              "      background-color: #434B5C;\n",
              "      box-shadow: 0px 1px 3px 1px rgba(0, 0, 0, 0.15);\n",
              "      filter: drop-shadow(0px 1px 2px rgba(0, 0, 0, 0.3));\n",
              "      fill: #FFFFFF;\n",
              "    }\n",
              "  </style>\n",
              "\n",
              "      <script>\n",
              "        const buttonEl =\n",
              "          document.querySelector('#df-8df42ea9-d8ee-4295-987c-43e6c3f52057 button.colab-df-convert');\n",
              "        buttonEl.style.display =\n",
              "          google.colab.kernel.accessAllowed ? 'block' : 'none';\n",
              "\n",
              "        async function convertToInteractive(key) {\n",
              "          const element = document.querySelector('#df-8df42ea9-d8ee-4295-987c-43e6c3f52057');\n",
              "          const dataTable =\n",
              "            await google.colab.kernel.invokeFunction('convertToInteractive',\n",
              "                                                     [key], {});\n",
              "          if (!dataTable) return;\n",
              "\n",
              "          const docLinkHtml = 'Like what you see? Visit the ' +\n",
              "            '<a target=\"_blank\" href=https://colab.research.google.com/notebooks/data_table.ipynb>data table notebook</a>'\n",
              "            + ' to learn more about interactive tables.';\n",
              "          element.innerHTML = '';\n",
              "          dataTable['output_type'] = 'display_data';\n",
              "          await google.colab.output.renderOutput(dataTable, element);\n",
              "          const docLink = document.createElement('div');\n",
              "          docLink.innerHTML = docLinkHtml;\n",
              "          element.appendChild(docLink);\n",
              "        }\n",
              "      </script>\n",
              "    </div>\n",
              "  </div>\n",
              "  "
            ],
            "text/plain": [
              "                           0\n",
              "garden              4.458948\n",
              "building_fenced     4.146547\n",
              "insured_period      0.985002\n",
              "settlement          0.926420\n",
              "building_type       0.267397\n",
              "numberofwindows     0.145659\n",
              "residential         0.057857\n",
              "building dimension  0.000318\n",
              "geo_code            0.000052\n",
              "yearofobservation  -0.040541\n",
              "building_painted   -0.082093"
            ]
          },
          "metadata": {},
          "execution_count": 41
        }
      ]
    },
    {
      "cell_type": "markdown",
      "source": [
        "From our LDA we can see that garden, building_fenced, insured period , settlement, building type and number of windows hold more weight(in that order)"
      ],
      "metadata": {
        "id": "l4O2Hie_pe9T"
      }
    },
    {
      "cell_type": "code",
      "source": [
        "#feature scaling using MinMaxScaler\n",
        "from sklearn.preprocessing import MinMaxScaler\n",
        "\n",
        "scaler = MinMaxScaler()\n",
        "\n",
        "scaler.fit(X_train)\n",
        "\n",
        "X_train = scaler.transform(X_train)\n",
        "X_test = scaler.transform(X_test)"
      ],
      "metadata": {
        "id": "gAZirLEwo1jZ"
      },
      "execution_count": null,
      "outputs": []
    },
    {
      "cell_type": "code",
      "source": [
        "#loading the libraries\n",
        "import tensorflow as tf\n",
        "from tensorflow.keras.models import Sequential\n",
        "from tensorflow.keras.layers import Dense, Activation,Dropout"
      ],
      "metadata": {
        "id": "vMpRDEYgo1bJ"
      },
      "execution_count": null,
      "outputs": []
    },
    {
      "cell_type": "code",
      "source": [
        "# creating an instance\n",
        "model = Sequential()\n",
        "\n",
        "model.add(Dense(units=12,activation='relu'))\n",
        "model.add(Dense(units=12,activation='relu'))\n",
        "model.add(Dense(units=12,activation='relu'))\n",
        "model.add(Dense(units=12,activation='relu'))\n",
        "\n",
        "\n",
        "# binary classification\n",
        "model.add(Dense(units=1,activation='sigmoid'))\n",
        "\n",
        "\n",
        "model.compile(loss ='binary_crossentropy',optimizer = 'Adam')"
      ],
      "metadata": {
        "id": "mWZAj__PqEBZ"
      },
      "execution_count": null,
      "outputs": []
    },
    {
      "cell_type": "markdown",
      "source": [
        "fitting the model using 200 epochs"
      ],
      "metadata": {
        "id": "wY_FOVHlWIYN"
      }
    },
    {
      "cell_type": "code",
      "source": [
        "# creating an instance\n",
        "model = Sequential()\n",
        "\n",
        "model.add(Dense(units=12,activation='relu'))\n",
        "model.add(Dense(units=12,activation='relu'))\n",
        "model.add(Dense(units=12,activation='relu'))\n",
        "model.add(Dense(units=12,activation='relu'))\n",
        "\n",
        "\n",
        "# binary classification\n",
        "model.add(Dense(units=1,activation='sigmoid'))\n",
        "\n",
        "\n",
        "model.compile(loss ='binary_crossentropy',optimizer = 'Adam')"
      ],
      "metadata": {
        "id": "xU-BDMOtupqB"
      },
      "execution_count": null,
      "outputs": []
    },
    {
      "cell_type": "code",
      "source": [
        "model.fit(x=X_train, y=y_train, epochs=200,validation_data=(X_test, y_test), verbose=1)"
      ],
      "metadata": {
        "colab": {
          "base_uri": "https://localhost:8080/"
        },
        "id": "SGhT9Om_qqP7",
        "outputId": "8767f93c-af91-4f5a-f512-e3c3bf19fd0a"
      },
      "execution_count": null,
      "outputs": [
        {
          "output_type": "stream",
          "name": "stdout",
          "text": [
            "Epoch 1/200\n",
            "155/155 [==============================] - 1s 4ms/step - loss: 0.5908 - val_loss: 0.5228\n",
            "Epoch 2/200\n",
            "155/155 [==============================] - 0s 2ms/step - loss: 0.5464 - val_loss: 0.5145\n",
            "Epoch 3/200\n",
            "155/155 [==============================] - 0s 3ms/step - loss: 0.5385 - val_loss: 0.5090\n",
            "Epoch 4/200\n",
            "155/155 [==============================] - 0s 2ms/step - loss: 0.5287 - val_loss: 0.4952\n",
            "Epoch 5/200\n",
            "155/155 [==============================] - 0s 3ms/step - loss: 0.5159 - val_loss: 0.4797\n",
            "Epoch 6/200\n",
            "155/155 [==============================] - 0s 2ms/step - loss: 0.5042 - val_loss: 0.4698\n",
            "Epoch 7/200\n",
            "155/155 [==============================] - 0s 3ms/step - loss: 0.5007 - val_loss: 0.4685\n",
            "Epoch 8/200\n",
            "155/155 [==============================] - 0s 3ms/step - loss: 0.4961 - val_loss: 0.4743\n",
            "Epoch 9/200\n",
            "155/155 [==============================] - 0s 3ms/step - loss: 0.4974 - val_loss: 0.4627\n",
            "Epoch 10/200\n",
            "155/155 [==============================] - 0s 2ms/step - loss: 0.4937 - val_loss: 0.4750\n",
            "Epoch 11/200\n",
            "155/155 [==============================] - 0s 3ms/step - loss: 0.4920 - val_loss: 0.4618\n",
            "Epoch 12/200\n",
            "155/155 [==============================] - 0s 2ms/step - loss: 0.4908 - val_loss: 0.4675\n",
            "Epoch 13/200\n",
            "155/155 [==============================] - 0s 3ms/step - loss: 0.4909 - val_loss: 0.4618\n",
            "Epoch 14/200\n",
            "155/155 [==============================] - 0s 2ms/step - loss: 0.4913 - val_loss: 0.4640\n",
            "Epoch 15/200\n",
            "155/155 [==============================] - 0s 3ms/step - loss: 0.4898 - val_loss: 0.4634\n",
            "Epoch 16/200\n",
            "155/155 [==============================] - 0s 2ms/step - loss: 0.4879 - val_loss: 0.4636\n",
            "Epoch 17/200\n",
            "155/155 [==============================] - 0s 2ms/step - loss: 0.4887 - val_loss: 0.4617\n",
            "Epoch 18/200\n",
            "155/155 [==============================] - 0s 3ms/step - loss: 0.4881 - val_loss: 0.4872\n",
            "Epoch 19/200\n",
            "155/155 [==============================] - 0s 3ms/step - loss: 0.4885 - val_loss: 0.4842\n",
            "Epoch 20/200\n",
            "155/155 [==============================] - 0s 3ms/step - loss: 0.4886 - val_loss: 0.4861\n",
            "Epoch 21/200\n",
            "155/155 [==============================] - 0s 3ms/step - loss: 0.4891 - val_loss: 0.4647\n",
            "Epoch 22/200\n",
            "155/155 [==============================] - 0s 2ms/step - loss: 0.4885 - val_loss: 0.4612\n",
            "Epoch 23/200\n",
            "155/155 [==============================] - 0s 3ms/step - loss: 0.4876 - val_loss: 0.4626\n",
            "Epoch 24/200\n",
            "155/155 [==============================] - 0s 2ms/step - loss: 0.4861 - val_loss: 0.4664\n",
            "Epoch 25/200\n",
            "155/155 [==============================] - 0s 3ms/step - loss: 0.4873 - val_loss: 0.4727\n",
            "Epoch 26/200\n",
            "155/155 [==============================] - 0s 2ms/step - loss: 0.4866 - val_loss: 0.4591\n",
            "Epoch 27/200\n",
            "155/155 [==============================] - 0s 2ms/step - loss: 0.4863 - val_loss: 0.4594\n",
            "Epoch 28/200\n",
            "155/155 [==============================] - 0s 2ms/step - loss: 0.4865 - val_loss: 0.4592\n",
            "Epoch 29/200\n",
            "155/155 [==============================] - 0s 3ms/step - loss: 0.4884 - val_loss: 0.4630\n",
            "Epoch 30/200\n",
            "155/155 [==============================] - 0s 3ms/step - loss: 0.4860 - val_loss: 0.4652\n",
            "Epoch 31/200\n",
            "155/155 [==============================] - 0s 2ms/step - loss: 0.4861 - val_loss: 0.4610\n",
            "Epoch 32/200\n",
            "155/155 [==============================] - 0s 3ms/step - loss: 0.4857 - val_loss: 0.4592\n",
            "Epoch 33/200\n",
            "155/155 [==============================] - 0s 3ms/step - loss: 0.4848 - val_loss: 0.4603\n",
            "Epoch 34/200\n",
            "155/155 [==============================] - 0s 3ms/step - loss: 0.4852 - val_loss: 0.4589\n",
            "Epoch 35/200\n",
            "155/155 [==============================] - 0s 2ms/step - loss: 0.4860 - val_loss: 0.4651\n",
            "Epoch 36/200\n",
            "155/155 [==============================] - 0s 3ms/step - loss: 0.4858 - val_loss: 0.4614\n",
            "Epoch 37/200\n",
            "155/155 [==============================] - 0s 3ms/step - loss: 0.4870 - val_loss: 0.4585\n",
            "Epoch 38/200\n",
            "155/155 [==============================] - 0s 2ms/step - loss: 0.4855 - val_loss: 0.4595\n",
            "Epoch 39/200\n",
            "155/155 [==============================] - 0s 3ms/step - loss: 0.4838 - val_loss: 0.4620\n",
            "Epoch 40/200\n",
            "155/155 [==============================] - 0s 3ms/step - loss: 0.4847 - val_loss: 0.4616\n",
            "Epoch 41/200\n",
            "155/155 [==============================] - 0s 2ms/step - loss: 0.4843 - val_loss: 0.4651\n",
            "Epoch 42/200\n",
            "155/155 [==============================] - 0s 3ms/step - loss: 0.4861 - val_loss: 0.4607\n",
            "Epoch 43/200\n",
            "155/155 [==============================] - 0s 2ms/step - loss: 0.4861 - val_loss: 0.4608\n",
            "Epoch 44/200\n",
            "155/155 [==============================] - 0s 3ms/step - loss: 0.4831 - val_loss: 0.4702\n",
            "Epoch 45/200\n",
            "155/155 [==============================] - 0s 3ms/step - loss: 0.4851 - val_loss: 0.4603\n",
            "Epoch 46/200\n",
            "155/155 [==============================] - 0s 3ms/step - loss: 0.4847 - val_loss: 0.4593\n",
            "Epoch 47/200\n",
            "155/155 [==============================] - 0s 2ms/step - loss: 0.4846 - val_loss: 0.4661\n",
            "Epoch 48/200\n",
            "155/155 [==============================] - 0s 3ms/step - loss: 0.4842 - val_loss: 0.4595\n",
            "Epoch 49/200\n",
            "155/155 [==============================] - 0s 2ms/step - loss: 0.4841 - val_loss: 0.4579\n",
            "Epoch 50/200\n",
            "155/155 [==============================] - 0s 2ms/step - loss: 0.4840 - val_loss: 0.4593\n",
            "Epoch 51/200\n",
            "155/155 [==============================] - 0s 2ms/step - loss: 0.4838 - val_loss: 0.4616\n",
            "Epoch 52/200\n",
            "155/155 [==============================] - 0s 3ms/step - loss: 0.4839 - val_loss: 0.4689\n",
            "Epoch 53/200\n",
            "155/155 [==============================] - 0s 3ms/step - loss: 0.4825 - val_loss: 0.4617\n",
            "Epoch 54/200\n",
            "155/155 [==============================] - 0s 3ms/step - loss: 0.4831 - val_loss: 0.4585\n",
            "Epoch 55/200\n",
            "155/155 [==============================] - 0s 2ms/step - loss: 0.4832 - val_loss: 0.4622\n",
            "Epoch 56/200\n",
            "155/155 [==============================] - 0s 2ms/step - loss: 0.4828 - val_loss: 0.4671\n",
            "Epoch 57/200\n",
            "155/155 [==============================] - 0s 3ms/step - loss: 0.4833 - val_loss: 0.4593\n",
            "Epoch 58/200\n",
            "155/155 [==============================] - 0s 2ms/step - loss: 0.4839 - val_loss: 0.4639\n",
            "Epoch 59/200\n",
            "155/155 [==============================] - 0s 3ms/step - loss: 0.4830 - val_loss: 0.4575\n",
            "Epoch 60/200\n",
            "155/155 [==============================] - 0s 3ms/step - loss: 0.4828 - val_loss: 0.4599\n",
            "Epoch 61/200\n",
            "155/155 [==============================] - 0s 3ms/step - loss: 0.4821 - val_loss: 0.4645\n",
            "Epoch 62/200\n",
            "155/155 [==============================] - 0s 3ms/step - loss: 0.4824 - val_loss: 0.4614\n",
            "Epoch 63/200\n",
            "155/155 [==============================] - 0s 2ms/step - loss: 0.4816 - val_loss: 0.4614\n",
            "Epoch 64/200\n",
            "155/155 [==============================] - 0s 2ms/step - loss: 0.4817 - val_loss: 0.4852\n",
            "Epoch 65/200\n",
            "155/155 [==============================] - 0s 3ms/step - loss: 0.4823 - val_loss: 0.4602\n",
            "Epoch 66/200\n",
            "155/155 [==============================] - 0s 3ms/step - loss: 0.4832 - val_loss: 0.4582\n",
            "Epoch 67/200\n",
            "155/155 [==============================] - 0s 2ms/step - loss: 0.4819 - val_loss: 0.4617\n",
            "Epoch 68/200\n",
            "155/155 [==============================] - 0s 3ms/step - loss: 0.4822 - val_loss: 0.4633\n",
            "Epoch 69/200\n",
            "155/155 [==============================] - 0s 3ms/step - loss: 0.4825 - val_loss: 0.4627\n",
            "Epoch 70/200\n",
            "155/155 [==============================] - 0s 3ms/step - loss: 0.4821 - val_loss: 0.4683\n",
            "Epoch 71/200\n",
            "155/155 [==============================] - 0s 2ms/step - loss: 0.4820 - val_loss: 0.4626\n",
            "Epoch 72/200\n",
            "155/155 [==============================] - 0s 2ms/step - loss: 0.4817 - val_loss: 0.4588\n",
            "Epoch 73/200\n",
            "155/155 [==============================] - 0s 2ms/step - loss: 0.4819 - val_loss: 0.4617\n",
            "Epoch 74/200\n",
            "155/155 [==============================] - 0s 2ms/step - loss: 0.4811 - val_loss: 0.4625\n",
            "Epoch 75/200\n",
            "155/155 [==============================] - 0s 3ms/step - loss: 0.4810 - val_loss: 0.4623\n",
            "Epoch 76/200\n",
            "155/155 [==============================] - 0s 3ms/step - loss: 0.4829 - val_loss: 0.4627\n",
            "Epoch 77/200\n",
            "155/155 [==============================] - 0s 3ms/step - loss: 0.4820 - val_loss: 0.4613\n",
            "Epoch 78/200\n",
            "155/155 [==============================] - 0s 3ms/step - loss: 0.4809 - val_loss: 0.4589\n",
            "Epoch 79/200\n",
            "155/155 [==============================] - 0s 2ms/step - loss: 0.4819 - val_loss: 0.4592\n",
            "Epoch 80/200\n",
            "155/155 [==============================] - 0s 2ms/step - loss: 0.4820 - val_loss: 0.4586\n",
            "Epoch 81/200\n",
            "155/155 [==============================] - 0s 3ms/step - loss: 0.4812 - val_loss: 0.4602\n",
            "Epoch 82/200\n",
            "155/155 [==============================] - 0s 2ms/step - loss: 0.4803 - val_loss: 0.4812\n",
            "Epoch 83/200\n",
            "155/155 [==============================] - 0s 3ms/step - loss: 0.4823 - val_loss: 0.4576\n",
            "Epoch 84/200\n",
            "155/155 [==============================] - 0s 3ms/step - loss: 0.4817 - val_loss: 0.4611\n",
            "Epoch 85/200\n",
            "155/155 [==============================] - 0s 3ms/step - loss: 0.4804 - val_loss: 0.4649\n",
            "Epoch 86/200\n",
            "155/155 [==============================] - 0s 2ms/step - loss: 0.4828 - val_loss: 0.4576\n",
            "Epoch 87/200\n",
            "155/155 [==============================] - 0s 2ms/step - loss: 0.4811 - val_loss: 0.4608\n",
            "Epoch 88/200\n",
            "155/155 [==============================] - 0s 3ms/step - loss: 0.4802 - val_loss: 0.4653\n",
            "Epoch 89/200\n",
            "155/155 [==============================] - 0s 2ms/step - loss: 0.4810 - val_loss: 0.4656\n",
            "Epoch 90/200\n",
            "155/155 [==============================] - 0s 3ms/step - loss: 0.4805 - val_loss: 0.4632\n",
            "Epoch 91/200\n",
            "155/155 [==============================] - 0s 2ms/step - loss: 0.4809 - val_loss: 0.4584\n",
            "Epoch 92/200\n",
            "155/155 [==============================] - 0s 3ms/step - loss: 0.4800 - val_loss: 0.4603\n",
            "Epoch 93/200\n",
            "155/155 [==============================] - 0s 3ms/step - loss: 0.4807 - val_loss: 0.4620\n",
            "Epoch 94/200\n",
            "155/155 [==============================] - 0s 2ms/step - loss: 0.4812 - val_loss: 0.4589\n",
            "Epoch 95/200\n",
            "155/155 [==============================] - 0s 2ms/step - loss: 0.4793 - val_loss: 0.4591\n",
            "Epoch 96/200\n",
            "155/155 [==============================] - 0s 3ms/step - loss: 0.4789 - val_loss: 0.4615\n",
            "Epoch 97/200\n",
            "155/155 [==============================] - 0s 3ms/step - loss: 0.4784 - val_loss: 0.4658\n",
            "Epoch 98/200\n",
            "155/155 [==============================] - 0s 3ms/step - loss: 0.4805 - val_loss: 0.4630\n",
            "Epoch 99/200\n",
            "155/155 [==============================] - 0s 2ms/step - loss: 0.4789 - val_loss: 0.4616\n",
            "Epoch 100/200\n",
            "155/155 [==============================] - 0s 3ms/step - loss: 0.4792 - val_loss: 0.4714\n",
            "Epoch 101/200\n",
            "155/155 [==============================] - 0s 3ms/step - loss: 0.4790 - val_loss: 0.4598\n",
            "Epoch 102/200\n",
            "155/155 [==============================] - 0s 3ms/step - loss: 0.4786 - val_loss: 0.4636\n",
            "Epoch 103/200\n",
            "155/155 [==============================] - 0s 2ms/step - loss: 0.4798 - val_loss: 0.4601\n",
            "Epoch 104/200\n",
            "155/155 [==============================] - 0s 3ms/step - loss: 0.4794 - val_loss: 0.4581\n",
            "Epoch 105/200\n",
            "155/155 [==============================] - 0s 3ms/step - loss: 0.4804 - val_loss: 0.4621\n",
            "Epoch 106/200\n",
            "155/155 [==============================] - 0s 3ms/step - loss: 0.4792 - val_loss: 0.4611\n",
            "Epoch 107/200\n",
            "155/155 [==============================] - 0s 2ms/step - loss: 0.4776 - val_loss: 0.4612\n",
            "Epoch 108/200\n",
            "155/155 [==============================] - 0s 3ms/step - loss: 0.4787 - val_loss: 0.4651\n",
            "Epoch 109/200\n",
            "155/155 [==============================] - 0s 2ms/step - loss: 0.4784 - val_loss: 0.4591\n",
            "Epoch 110/200\n",
            "155/155 [==============================] - 0s 2ms/step - loss: 0.4802 - val_loss: 0.4597\n",
            "Epoch 111/200\n",
            "155/155 [==============================] - 0s 3ms/step - loss: 0.4790 - val_loss: 0.4649\n",
            "Epoch 112/200\n",
            "155/155 [==============================] - 0s 3ms/step - loss: 0.4792 - val_loss: 0.4660\n",
            "Epoch 113/200\n",
            "155/155 [==============================] - 0s 3ms/step - loss: 0.4787 - val_loss: 0.4586\n",
            "Epoch 114/200\n",
            "155/155 [==============================] - 0s 3ms/step - loss: 0.4784 - val_loss: 0.4591\n",
            "Epoch 115/200\n",
            "155/155 [==============================] - 0s 3ms/step - loss: 0.4787 - val_loss: 0.4608\n",
            "Epoch 116/200\n",
            "155/155 [==============================] - 0s 3ms/step - loss: 0.4781 - val_loss: 0.4592\n",
            "Epoch 117/200\n",
            "155/155 [==============================] - 0s 2ms/step - loss: 0.4772 - val_loss: 0.4616\n",
            "Epoch 118/200\n",
            "155/155 [==============================] - 0s 2ms/step - loss: 0.4778 - val_loss: 0.4689\n",
            "Epoch 119/200\n",
            "155/155 [==============================] - 0s 3ms/step - loss: 0.4776 - val_loss: 0.4624\n",
            "Epoch 120/200\n",
            "155/155 [==============================] - 0s 3ms/step - loss: 0.4773 - val_loss: 0.4603\n",
            "Epoch 121/200\n",
            "155/155 [==============================] - 0s 3ms/step - loss: 0.4772 - val_loss: 0.4663\n",
            "Epoch 122/200\n",
            "155/155 [==============================] - 0s 3ms/step - loss: 0.4778 - val_loss: 0.4703\n",
            "Epoch 123/200\n",
            "155/155 [==============================] - 0s 3ms/step - loss: 0.4776 - val_loss: 0.4614\n",
            "Epoch 124/200\n",
            "155/155 [==============================] - 0s 2ms/step - loss: 0.4775 - val_loss: 0.4612\n",
            "Epoch 125/200\n",
            "155/155 [==============================] - 0s 3ms/step - loss: 0.4765 - val_loss: 0.4598\n",
            "Epoch 126/200\n",
            "155/155 [==============================] - 0s 3ms/step - loss: 0.4766 - val_loss: 0.4612\n",
            "Epoch 127/200\n",
            "155/155 [==============================] - 0s 3ms/step - loss: 0.4782 - val_loss: 0.4691\n",
            "Epoch 128/200\n",
            "155/155 [==============================] - 0s 3ms/step - loss: 0.4777 - val_loss: 0.4607\n",
            "Epoch 129/200\n",
            "155/155 [==============================] - 0s 3ms/step - loss: 0.4774 - val_loss: 0.4666\n",
            "Epoch 130/200\n",
            "155/155 [==============================] - 0s 3ms/step - loss: 0.4766 - val_loss: 0.4704\n",
            "Epoch 131/200\n",
            "155/155 [==============================] - 0s 2ms/step - loss: 0.4768 - val_loss: 0.4624\n",
            "Epoch 132/200\n",
            "155/155 [==============================] - 0s 3ms/step - loss: 0.4760 - val_loss: 0.4647\n",
            "Epoch 133/200\n",
            "155/155 [==============================] - 0s 3ms/step - loss: 0.4770 - val_loss: 0.4720\n",
            "Epoch 134/200\n",
            "155/155 [==============================] - 0s 3ms/step - loss: 0.4787 - val_loss: 0.4618\n",
            "Epoch 135/200\n",
            "155/155 [==============================] - 0s 3ms/step - loss: 0.4761 - val_loss: 0.4693\n",
            "Epoch 136/200\n",
            "155/155 [==============================] - 0s 2ms/step - loss: 0.4761 - val_loss: 0.4627\n",
            "Epoch 137/200\n",
            "155/155 [==============================] - 0s 3ms/step - loss: 0.4777 - val_loss: 0.4666\n",
            "Epoch 138/200\n",
            "155/155 [==============================] - 0s 2ms/step - loss: 0.4755 - val_loss: 0.4640\n",
            "Epoch 139/200\n",
            "155/155 [==============================] - 0s 3ms/step - loss: 0.4762 - val_loss: 0.4636\n",
            "Epoch 140/200\n",
            "155/155 [==============================] - 0s 3ms/step - loss: 0.4767 - val_loss: 0.4634\n",
            "Epoch 141/200\n",
            "155/155 [==============================] - 0s 2ms/step - loss: 0.4753 - val_loss: 0.4663\n",
            "Epoch 142/200\n",
            "155/155 [==============================] - 0s 3ms/step - loss: 0.4769 - val_loss: 0.4703\n",
            "Epoch 143/200\n",
            "155/155 [==============================] - 0s 2ms/step - loss: 0.4759 - val_loss: 0.4591\n",
            "Epoch 144/200\n",
            "155/155 [==============================] - 0s 3ms/step - loss: 0.4765 - val_loss: 0.4615\n",
            "Epoch 145/200\n",
            "155/155 [==============================] - 0s 2ms/step - loss: 0.4760 - val_loss: 0.4607\n",
            "Epoch 146/200\n",
            "155/155 [==============================] - 0s 2ms/step - loss: 0.4752 - val_loss: 0.4629\n",
            "Epoch 147/200\n",
            "155/155 [==============================] - 0s 3ms/step - loss: 0.4758 - val_loss: 0.4676\n",
            "Epoch 148/200\n",
            "155/155 [==============================] - 0s 2ms/step - loss: 0.4764 - val_loss: 0.4599\n",
            "Epoch 149/200\n",
            "155/155 [==============================] - 0s 3ms/step - loss: 0.4754 - val_loss: 0.4625\n",
            "Epoch 150/200\n",
            "155/155 [==============================] - 0s 2ms/step - loss: 0.4750 - val_loss: 0.4617\n",
            "Epoch 151/200\n",
            "155/155 [==============================] - 0s 2ms/step - loss: 0.4758 - val_loss: 0.4613\n",
            "Epoch 152/200\n",
            "155/155 [==============================] - 0s 2ms/step - loss: 0.4771 - val_loss: 0.4783\n",
            "Epoch 153/200\n",
            "155/155 [==============================] - 0s 2ms/step - loss: 0.4764 - val_loss: 0.4637\n",
            "Epoch 154/200\n",
            "155/155 [==============================] - 0s 3ms/step - loss: 0.4748 - val_loss: 0.4660\n",
            "Epoch 155/200\n",
            "155/155 [==============================] - 0s 3ms/step - loss: 0.4748 - val_loss: 0.4604\n",
            "Epoch 156/200\n",
            "155/155 [==============================] - 0s 3ms/step - loss: 0.4746 - val_loss: 0.4712\n",
            "Epoch 157/200\n",
            "155/155 [==============================] - 0s 2ms/step - loss: 0.4753 - val_loss: 0.4634\n",
            "Epoch 158/200\n",
            "155/155 [==============================] - 0s 3ms/step - loss: 0.4754 - val_loss: 0.4631\n",
            "Epoch 159/200\n",
            "155/155 [==============================] - 0s 3ms/step - loss: 0.4763 - val_loss: 0.4597\n",
            "Epoch 160/200\n",
            "155/155 [==============================] - 0s 3ms/step - loss: 0.4757 - val_loss: 0.4650\n",
            "Epoch 161/200\n",
            "155/155 [==============================] - 0s 3ms/step - loss: 0.4752 - val_loss: 0.4633\n",
            "Epoch 162/200\n",
            "155/155 [==============================] - 0s 3ms/step - loss: 0.4744 - val_loss: 0.4698\n",
            "Epoch 163/200\n",
            "155/155 [==============================] - 0s 3ms/step - loss: 0.4741 - val_loss: 0.4612\n",
            "Epoch 164/200\n",
            "155/155 [==============================] - 0s 3ms/step - loss: 0.4749 - val_loss: 0.4614\n",
            "Epoch 165/200\n",
            "155/155 [==============================] - 0s 2ms/step - loss: 0.4746 - val_loss: 0.4633\n",
            "Epoch 166/200\n",
            "155/155 [==============================] - 0s 3ms/step - loss: 0.4759 - val_loss: 0.4609\n",
            "Epoch 167/200\n",
            "155/155 [==============================] - 0s 3ms/step - loss: 0.4737 - val_loss: 0.4818\n",
            "Epoch 168/200\n",
            "155/155 [==============================] - 0s 3ms/step - loss: 0.4763 - val_loss: 0.4615\n",
            "Epoch 169/200\n",
            "155/155 [==============================] - 0s 3ms/step - loss: 0.4741 - val_loss: 0.4628\n",
            "Epoch 170/200\n",
            "155/155 [==============================] - 0s 3ms/step - loss: 0.4751 - val_loss: 0.4735\n",
            "Epoch 171/200\n",
            "155/155 [==============================] - 0s 3ms/step - loss: 0.4756 - val_loss: 0.4726\n",
            "Epoch 172/200\n",
            "155/155 [==============================] - 0s 3ms/step - loss: 0.4760 - val_loss: 0.4676\n",
            "Epoch 173/200\n",
            "155/155 [==============================] - 0s 3ms/step - loss: 0.4743 - val_loss: 0.4685\n",
            "Epoch 174/200\n",
            "155/155 [==============================] - 0s 3ms/step - loss: 0.4741 - val_loss: 0.4631\n",
            "Epoch 175/200\n",
            "155/155 [==============================] - 0s 3ms/step - loss: 0.4739 - val_loss: 0.4637\n",
            "Epoch 176/200\n",
            "155/155 [==============================] - 0s 3ms/step - loss: 0.4736 - val_loss: 0.4620\n",
            "Epoch 177/200\n",
            "155/155 [==============================] - 0s 3ms/step - loss: 0.4729 - val_loss: 0.4615\n",
            "Epoch 178/200\n",
            "155/155 [==============================] - 0s 3ms/step - loss: 0.4746 - val_loss: 0.4668\n",
            "Epoch 179/200\n",
            "155/155 [==============================] - 0s 3ms/step - loss: 0.4737 - val_loss: 0.4620\n",
            "Epoch 180/200\n",
            "155/155 [==============================] - 0s 3ms/step - loss: 0.4734 - val_loss: 0.4686\n",
            "Epoch 181/200\n",
            "155/155 [==============================] - 0s 3ms/step - loss: 0.4739 - val_loss: 0.4606\n",
            "Epoch 182/200\n",
            "155/155 [==============================] - 0s 3ms/step - loss: 0.4726 - val_loss: 0.4617\n",
            "Epoch 183/200\n",
            "155/155 [==============================] - 0s 3ms/step - loss: 0.4743 - val_loss: 0.4606\n",
            "Epoch 184/200\n",
            "155/155 [==============================] - 0s 2ms/step - loss: 0.4725 - val_loss: 0.4625\n",
            "Epoch 185/200\n",
            "155/155 [==============================] - 0s 3ms/step - loss: 0.4735 - val_loss: 0.4652\n",
            "Epoch 186/200\n",
            "155/155 [==============================] - 0s 2ms/step - loss: 0.4742 - val_loss: 0.4665\n",
            "Epoch 187/200\n",
            "155/155 [==============================] - 0s 2ms/step - loss: 0.4735 - val_loss: 0.4608\n",
            "Epoch 188/200\n",
            "155/155 [==============================] - 0s 3ms/step - loss: 0.4741 - val_loss: 0.4636\n",
            "Epoch 189/200\n",
            "155/155 [==============================] - 0s 2ms/step - loss: 0.4731 - val_loss: 0.4604\n",
            "Epoch 190/200\n",
            "155/155 [==============================] - 0s 3ms/step - loss: 0.4730 - val_loss: 0.4637\n",
            "Epoch 191/200\n",
            "155/155 [==============================] - 0s 2ms/step - loss: 0.4731 - val_loss: 0.4609\n",
            "Epoch 192/200\n",
            "155/155 [==============================] - 0s 3ms/step - loss: 0.4727 - val_loss: 0.4616\n",
            "Epoch 193/200\n",
            "155/155 [==============================] - 0s 3ms/step - loss: 0.4739 - val_loss: 0.4622\n",
            "Epoch 194/200\n",
            "155/155 [==============================] - 0s 3ms/step - loss: 0.4726 - val_loss: 0.4649\n",
            "Epoch 195/200\n",
            "155/155 [==============================] - 0s 2ms/step - loss: 0.4725 - val_loss: 0.4620\n",
            "Epoch 196/200\n",
            "155/155 [==============================] - 0s 2ms/step - loss: 0.4728 - val_loss: 0.4621\n",
            "Epoch 197/200\n",
            "155/155 [==============================] - 0s 3ms/step - loss: 0.4718 - val_loss: 0.4660\n",
            "Epoch 198/200\n",
            "155/155 [==============================] - 0s 3ms/step - loss: 0.4741 - val_loss: 0.4688\n",
            "Epoch 199/200\n",
            "155/155 [==============================] - 0s 3ms/step - loss: 0.4722 - val_loss: 0.4650\n",
            "Epoch 200/200\n",
            "155/155 [==============================] - 0s 3ms/step - loss: 0.4722 - val_loss: 0.4639\n"
          ]
        },
        {
          "output_type": "execute_result",
          "data": {
            "text/plain": [
              "<keras.callbacks.History at 0x7ff9ba68ce50>"
            ]
          },
          "metadata": {},
          "execution_count": 50
        }
      ]
    },
    {
      "cell_type": "markdown",
      "source": [
        "plotting losses to show the performance of the model"
      ],
      "metadata": {
        "id": "TaFOcwEJqzQg"
      }
    },
    {
      "cell_type": "code",
      "source": [
        "model_loss = pd.DataFrame(model.history.history)"
      ],
      "metadata": {
        "id": "OB6OCXyxq6JZ"
      },
      "execution_count": null,
      "outputs": []
    },
    {
      "cell_type": "code",
      "source": [
        "model_loss.plot()"
      ],
      "metadata": {
        "colab": {
          "base_uri": "https://localhost:8080/",
          "height": 282
        },
        "id": "8z6HIZTYq8vI",
        "outputId": "2131741f-da4b-4d11-de7d-4b5e1cb48d42"
      },
      "execution_count": null,
      "outputs": [
        {
          "output_type": "execute_result",
          "data": {
            "text/plain": [
              "<matplotlib.axes._subplots.AxesSubplot at 0x7ff9baac0710>"
            ]
          },
          "metadata": {},
          "execution_count": 52
        },
        {
          "output_type": "display_data",
          "data": {
            "image/png": "[encoded data removed]",
            "text/plain": [
              "<Figure size 432x288 with 1 Axes>"
            ]
          },
          "metadata": {
            "needs_background": "light"
          }
        }
      ]
    },
    {
      "cell_type": "markdown",
      "source": [
        "Looks like the loss keeps dropping with more epoch but the accuracy might platue at this point. Moving forward i will double the epochs to see if that leads to an improvement "
      ],
      "metadata": {
        "id": "V_awGWXOsx2L"
      }
    },
    {
      "cell_type": "code",
      "source": [
        "#model prediction\n",
        "predictions = model.predict(X_test)\n",
        "from sklearn.metrics import classification_report,confusion_matrix\n",
        "predictions\n"
      ],
      "metadata": {
        "colab": {
          "base_uri": "https://localhost:8080/"
        },
        "id": "ERqyOfmNjMQK",
        "outputId": "a086d873-dd2d-4d64-c051-354178ac4653"
      },
      "execution_count": null,
      "outputs": [
        {
          "output_type": "execute_result",
          "data": {
            "text/plain": [
              "array([[0.13560647],\n",
              "       [0.08183426],\n",
              "       [0.2951374 ],\n",
              "       ...,\n",
              "       [0.05258128],\n",
              "       [0.4590874 ],\n",
              "       [0.32726765]], dtype=float32)"
            ]
          },
          "metadata": {},
          "execution_count": 53
        }
      ]
    },
    {
      "cell_type": "code",
      "source": [
        "#model prediction\n",
        "predictions = (model.predict(X_test) > 0.5).astype(\"int32\")\n",
        "from sklearn.metrics import classification_report,confusion_matrix\n",
        "\n",
        "\n",
        "print('confusion matrix\\n',confusion_matrix(y_test,predictions))\n",
        "print('\\n********************************************************')\n",
        "\n",
        "print('\\nclassification report\\n',classification_report(y_test,predictions))"
      ],
      "metadata": {
        "colab": {
          "base_uri": "https://localhost:8080/"
        },
        "id": "T8gmw3a5jTJj",
        "outputId": "fee57866-f566-4c87-e5fb-d5fcb7d7e1b1"
      },
      "execution_count": null,
      "outputs": [
        {
          "output_type": "stream",
          "name": "stdout",
          "text": [
            "confusion matrix\n",
            " [[1597   70]\n",
            " [ 356   95]]\n",
            "\n",
            "********************************************************\n",
            "\n",
            "classification report\n",
            "               precision    recall  f1-score   support\n",
            "\n",
            "           0       0.82      0.96      0.88      1667\n",
            "           1       0.58      0.21      0.31       451\n",
            "\n",
            "    accuracy                           0.80      2118\n",
            "   macro avg       0.70      0.58      0.60      2118\n",
            "weighted avg       0.77      0.80      0.76      2118\n",
            "\n"
          ]
        }
      ]
    },
    {
      "cell_type": "markdown",
      "source": [
        "the model has an accuracy of 80% which is usable"
      ],
      "metadata": {
        "id": "Xl2yrzHvn8yb"
      }
    },
    {
      "cell_type": "markdown",
      "source": [
        "### 9. Challenging the Solution"
      ],
      "metadata": {
        "id": "Jn6rGWNNcLWQ"
      }
    },
    {
      "cell_type": "markdown",
      "source": [
        "Using 400 epochs"
      ],
      "metadata": {
        "id": "YDd_7TdttHnJ"
      }
    },
    {
      "cell_type": "code",
      "source": [
        "model.fit(x=X_train, y=y_train, epochs=400,validation_data=(X_test, y_test), verbose=1)"
      ],
      "metadata": {
        "colab": {
          "base_uri": "https://localhost:8080/"
        },
        "id": "ALEzUMdCtDIo",
        "outputId": "fb169118-3e7d-4c25-ed94-cf6f0106d82a"
      },
      "execution_count": null,
      "outputs": [
        {
          "output_type": "stream",
          "name": "stdout",
          "text": [
            "Epoch 1/400\n",
            "155/155 [==============================] - 0s 3ms/step - loss: 0.4727 - val_loss: 0.4646\n",
            "Epoch 2/400\n",
            "155/155 [==============================] - 0s 3ms/step - loss: 0.4726 - val_loss: 0.4633\n",
            "Epoch 3/400\n",
            "155/155 [==============================] - 0s 3ms/step - loss: 0.4717 - val_loss: 0.4643\n",
            "Epoch 4/400\n",
            "155/155 [==============================] - 0s 2ms/step - loss: 0.4715 - val_loss: 0.4622\n",
            "Epoch 5/400\n",
            "155/155 [==============================] - 0s 2ms/step - loss: 0.4724 - val_loss: 0.4643\n",
            "Epoch 6/400\n",
            "155/155 [==============================] - 0s 3ms/step - loss: 0.4725 - val_loss: 0.4652\n",
            "Epoch 7/400\n",
            "155/155 [==============================] - 0s 3ms/step - loss: 0.4717 - val_loss: 0.4635\n",
            "Epoch 8/400\n",
            "155/155 [==============================] - 0s 3ms/step - loss: 0.4722 - val_loss: 0.4737\n",
            "Epoch 9/400\n",
            "155/155 [==============================] - 0s 3ms/step - loss: 0.4719 - val_loss: 0.4636\n",
            "Epoch 10/400\n",
            "155/155 [==============================] - 0s 3ms/step - loss: 0.4714 - val_loss: 0.4627\n",
            "Epoch 11/400\n",
            "155/155 [==============================] - 0s 3ms/step - loss: 0.4720 - val_loss: 0.4647\n",
            "Epoch 12/400\n",
            "155/155 [==============================] - 0s 3ms/step - loss: 0.4719 - val_loss: 0.4648\n",
            "Epoch 13/400\n",
            "155/155 [==============================] - 0s 3ms/step - loss: 0.4713 - val_loss: 0.4644\n",
            "Epoch 14/400\n",
            "155/155 [==============================] - 0s 3ms/step - loss: 0.4723 - val_loss: 0.4686\n",
            "Epoch 15/400\n",
            "155/155 [==============================] - 0s 3ms/step - loss: 0.4710 - val_loss: 0.4699\n",
            "Epoch 16/400\n",
            "155/155 [==============================] - 1s 3ms/step - loss: 0.4724 - val_loss: 0.4643\n",
            "Epoch 17/400\n",
            "155/155 [==============================] - 0s 2ms/step - loss: 0.4728 - val_loss: 0.4675\n",
            "Epoch 18/400\n",
            "155/155 [==============================] - 0s 3ms/step - loss: 0.4712 - val_loss: 0.4625\n",
            "Epoch 19/400\n",
            "155/155 [==============================] - 0s 3ms/step - loss: 0.4707 - val_loss: 0.4642\n",
            "Epoch 20/400\n",
            "155/155 [==============================] - 0s 3ms/step - loss: 0.4723 - val_loss: 0.4616\n",
            "Epoch 21/400\n",
            "155/155 [==============================] - 0s 3ms/step - loss: 0.4705 - val_loss: 0.4633\n",
            "Epoch 22/400\n",
            "155/155 [==============================] - 0s 3ms/step - loss: 0.4714 - val_loss: 0.4662\n",
            "Epoch 23/400\n",
            "155/155 [==============================] - 0s 3ms/step - loss: 0.4706 - val_loss: 0.4674\n",
            "Epoch 24/400\n",
            "155/155 [==============================] - 0s 3ms/step - loss: 0.4719 - val_loss: 0.4668\n",
            "Epoch 25/400\n",
            "155/155 [==============================] - 1s 3ms/step - loss: 0.4697 - val_loss: 0.4671\n",
            "Epoch 26/400\n",
            "155/155 [==============================] - 0s 3ms/step - loss: 0.4708 - val_loss: 0.4646\n",
            "Epoch 27/400\n",
            "155/155 [==============================] - 0s 3ms/step - loss: 0.4704 - val_loss: 0.4641\n",
            "Epoch 28/400\n",
            "155/155 [==============================] - 0s 3ms/step - loss: 0.4713 - val_loss: 0.4660\n",
            "Epoch 29/400\n",
            "155/155 [==============================] - 0s 3ms/step - loss: 0.4699 - val_loss: 0.4626\n",
            "Epoch 30/400\n",
            "155/155 [==============================] - 0s 3ms/step - loss: 0.4717 - val_loss: 0.4676\n",
            "Epoch 31/400\n",
            "155/155 [==============================] - 0s 3ms/step - loss: 0.4713 - val_loss: 0.4649\n",
            "Epoch 32/400\n",
            "155/155 [==============================] - 1s 3ms/step - loss: 0.4714 - val_loss: 0.4701\n",
            "Epoch 33/400\n",
            "155/155 [==============================] - 0s 3ms/step - loss: 0.4708 - val_loss: 0.4632\n",
            "Epoch 34/400\n",
            "155/155 [==============================] - 0s 3ms/step - loss: 0.4710 - val_loss: 0.4665\n",
            "Epoch 35/400\n",
            "155/155 [==============================] - 0s 3ms/step - loss: 0.4725 - val_loss: 0.4684\n",
            "Epoch 36/400\n",
            "155/155 [==============================] - 0s 3ms/step - loss: 0.4710 - val_loss: 0.4639\n",
            "Epoch 37/400\n",
            "155/155 [==============================] - 0s 3ms/step - loss: 0.4696 - val_loss: 0.4620\n",
            "Epoch 38/400\n",
            "155/155 [==============================] - 0s 2ms/step - loss: 0.4713 - val_loss: 0.4628\n",
            "Epoch 39/400\n",
            "155/155 [==============================] - 0s 3ms/step - loss: 0.4700 - val_loss: 0.4624\n",
            "Epoch 40/400\n",
            "155/155 [==============================] - 0s 3ms/step - loss: 0.4709 - val_loss: 0.4642\n",
            "Epoch 41/400\n",
            "155/155 [==============================] - 0s 2ms/step - loss: 0.4691 - val_loss: 0.4703\n",
            "Epoch 42/400\n",
            "155/155 [==============================] - 0s 2ms/step - loss: 0.4703 - val_loss: 0.4681\n",
            "Epoch 43/400\n",
            "155/155 [==============================] - 0s 3ms/step - loss: 0.4699 - val_loss: 0.4628\n",
            "Epoch 44/400\n",
            "155/155 [==============================] - 0s 2ms/step - loss: 0.4691 - val_loss: 0.4678\n",
            "Epoch 45/400\n",
            "155/155 [==============================] - 0s 3ms/step - loss: 0.4691 - val_loss: 0.4677\n",
            "Epoch 46/400\n",
            "155/155 [==============================] - 0s 3ms/step - loss: 0.4692 - val_loss: 0.4669\n",
            "Epoch 47/400\n",
            "155/155 [==============================] - 0s 3ms/step - loss: 0.4698 - val_loss: 0.4683\n",
            "Epoch 48/400\n",
            "155/155 [==============================] - 1s 3ms/step - loss: 0.4686 - val_loss: 0.4694\n",
            "Epoch 49/400\n",
            "155/155 [==============================] - 0s 3ms/step - loss: 0.4702 - val_loss: 0.4682\n",
            "Epoch 50/400\n",
            "155/155 [==============================] - 0s 3ms/step - loss: 0.4695 - val_loss: 0.4756\n",
            "Epoch 51/400\n",
            "155/155 [==============================] - 0s 3ms/step - loss: 0.4701 - val_loss: 0.4732\n",
            "Epoch 52/400\n",
            "155/155 [==============================] - 1s 3ms/step - loss: 0.4694 - val_loss: 0.4688\n",
            "Epoch 53/400\n",
            "155/155 [==============================] - 1s 3ms/step - loss: 0.4694 - val_loss: 0.4669\n",
            "Epoch 54/400\n",
            "155/155 [==============================] - 1s 3ms/step - loss: 0.4703 - val_loss: 0.4640\n",
            "Epoch 55/400\n",
            "155/155 [==============================] - 0s 3ms/step - loss: 0.4693 - val_loss: 0.4634\n",
            "Epoch 56/400\n",
            "155/155 [==============================] - 0s 3ms/step - loss: 0.4694 - val_loss: 0.4622\n",
            "Epoch 57/400\n",
            "155/155 [==============================] - 0s 3ms/step - loss: 0.4707 - val_loss: 0.4638\n",
            "Epoch 58/400\n",
            "155/155 [==============================] - 0s 3ms/step - loss: 0.4696 - val_loss: 0.4743\n",
            "Epoch 59/400\n",
            "155/155 [==============================] - 0s 3ms/step - loss: 0.4687 - val_loss: 0.4643\n",
            "Epoch 60/400\n",
            "155/155 [==============================] - 1s 3ms/step - loss: 0.4694 - val_loss: 0.4634\n",
            "Epoch 61/400\n",
            "155/155 [==============================] - 0s 2ms/step - loss: 0.4686 - val_loss: 0.4639\n",
            "Epoch 62/400\n",
            "155/155 [==============================] - 0s 3ms/step - loss: 0.4688 - val_loss: 0.4666\n",
            "Epoch 63/400\n",
            "155/155 [==============================] - 0s 3ms/step - loss: 0.4686 - val_loss: 0.4657\n",
            "Epoch 64/400\n",
            "155/155 [==============================] - 0s 2ms/step - loss: 0.4688 - val_loss: 0.4691\n",
            "Epoch 65/400\n",
            "155/155 [==============================] - 0s 3ms/step - loss: 0.4703 - val_loss: 0.4648\n",
            "Epoch 66/400\n",
            "155/155 [==============================] - 1s 3ms/step - loss: 0.4692 - val_loss: 0.4715\n",
            "Epoch 67/400\n",
            "155/155 [==============================] - 1s 3ms/step - loss: 0.4678 - val_loss: 0.4753\n",
            "Epoch 68/400\n",
            "155/155 [==============================] - 1s 3ms/step - loss: 0.4694 - val_loss: 0.4662\n",
            "Epoch 69/400\n",
            "155/155 [==============================] - 1s 4ms/step - loss: 0.4678 - val_loss: 0.4674\n",
            "Epoch 70/400\n",
            "155/155 [==============================] - 1s 3ms/step - loss: 0.4677 - val_loss: 0.4654\n",
            "Epoch 71/400\n",
            "155/155 [==============================] - 0s 3ms/step - loss: 0.4686 - val_loss: 0.4651\n",
            "Epoch 72/400\n",
            "155/155 [==============================] - 0s 3ms/step - loss: 0.4684 - val_loss: 0.4674\n",
            "Epoch 73/400\n",
            "155/155 [==============================] - 1s 3ms/step - loss: 0.4674 - val_loss: 0.4690\n",
            "Epoch 74/400\n",
            "155/155 [==============================] - 1s 4ms/step - loss: 0.4701 - val_loss: 0.4670\n",
            "Epoch 75/400\n",
            "155/155 [==============================] - 1s 3ms/step - loss: 0.4679 - val_loss: 0.4668\n",
            "Epoch 76/400\n",
            "155/155 [==============================] - 0s 3ms/step - loss: 0.4687 - val_loss: 0.4691\n",
            "Epoch 77/400\n",
            "155/155 [==============================] - 0s 3ms/step - loss: 0.4669 - val_loss: 0.4790\n",
            "Epoch 78/400\n",
            "155/155 [==============================] - 0s 3ms/step - loss: 0.4675 - val_loss: 0.4671\n",
            "Epoch 79/400\n",
            "155/155 [==============================] - 0s 3ms/step - loss: 0.4671 - val_loss: 0.4660\n",
            "Epoch 80/400\n",
            "155/155 [==============================] - 0s 3ms/step - loss: 0.4666 - val_loss: 0.4646\n",
            "Epoch 81/400\n",
            "155/155 [==============================] - 0s 3ms/step - loss: 0.4669 - val_loss: 0.4667\n",
            "Epoch 82/400\n",
            "155/155 [==============================] - 1s 3ms/step - loss: 0.4681 - val_loss: 0.4670\n",
            "Epoch 83/400\n",
            "155/155 [==============================] - 0s 3ms/step - loss: 0.4672 - val_loss: 0.4742\n",
            "Epoch 84/400\n",
            "155/155 [==============================] - 1s 3ms/step - loss: 0.4659 - val_loss: 0.4693\n",
            "Epoch 85/400\n",
            "155/155 [==============================] - 0s 2ms/step - loss: 0.4685 - val_loss: 0.4760\n",
            "Epoch 86/400\n",
            "155/155 [==============================] - 0s 2ms/step - loss: 0.4676 - val_loss: 0.4738\n",
            "Epoch 87/400\n",
            "155/155 [==============================] - 0s 3ms/step - loss: 0.4675 - val_loss: 0.4721\n",
            "Epoch 88/400\n",
            "155/155 [==============================] - 1s 3ms/step - loss: 0.4671 - val_loss: 0.4707\n",
            "Epoch 89/400\n",
            "155/155 [==============================] - 0s 3ms/step - loss: 0.4683 - val_loss: 0.4646\n",
            "Epoch 90/400\n",
            "155/155 [==============================] - 0s 3ms/step - loss: 0.4674 - val_loss: 0.4664\n",
            "Epoch 91/400\n",
            "155/155 [==============================] - 0s 3ms/step - loss: 0.4661 - val_loss: 0.4733\n",
            "Epoch 92/400\n",
            "155/155 [==============================] - 0s 3ms/step - loss: 0.4669 - val_loss: 0.4704\n",
            "Epoch 93/400\n",
            "155/155 [==============================] - 0s 3ms/step - loss: 0.4672 - val_loss: 0.4695\n",
            "Epoch 94/400\n",
            "155/155 [==============================] - 0s 2ms/step - loss: 0.4668 - val_loss: 0.4710\n",
            "Epoch 95/400\n",
            "155/155 [==============================] - 0s 3ms/step - loss: 0.4677 - val_loss: 0.4698\n",
            "Epoch 96/400\n",
            "155/155 [==============================] - 0s 3ms/step - loss: 0.4676 - val_loss: 0.4758\n",
            "Epoch 97/400\n",
            "155/155 [==============================] - 0s 3ms/step - loss: 0.4668 - val_loss: 0.4678\n",
            "Epoch 98/400\n",
            "155/155 [==============================] - 0s 2ms/step - loss: 0.4666 - val_loss: 0.4668\n",
            "Epoch 99/400\n",
            "155/155 [==============================] - 0s 3ms/step - loss: 0.4669 - val_loss: 0.4674\n",
            "Epoch 100/400\n",
            "155/155 [==============================] - 1s 3ms/step - loss: 0.4674 - val_loss: 0.4658\n",
            "Epoch 101/400\n",
            "155/155 [==============================] - 0s 3ms/step - loss: 0.4660 - val_loss: 0.4705\n",
            "Epoch 102/400\n",
            "155/155 [==============================] - 0s 3ms/step - loss: 0.4671 - val_loss: 0.4708\n",
            "Epoch 103/400\n",
            "155/155 [==============================] - 0s 3ms/step - loss: 0.4660 - val_loss: 0.4760\n",
            "Epoch 104/400\n",
            "155/155 [==============================] - 0s 3ms/step - loss: 0.4662 - val_loss: 0.4682\n",
            "Epoch 105/400\n",
            "155/155 [==============================] - 0s 3ms/step - loss: 0.4677 - val_loss: 0.4672\n",
            "Epoch 106/400\n",
            "155/155 [==============================] - 1s 3ms/step - loss: 0.4660 - val_loss: 0.4683\n",
            "Epoch 107/400\n",
            "155/155 [==============================] - 0s 3ms/step - loss: 0.4678 - val_loss: 0.4647\n",
            "Epoch 108/400\n",
            "155/155 [==============================] - 0s 3ms/step - loss: 0.4669 - val_loss: 0.4646\n",
            "Epoch 109/400\n",
            "155/155 [==============================] - 0s 3ms/step - loss: 0.4656 - val_loss: 0.4709\n",
            "Epoch 110/400\n",
            "155/155 [==============================] - 0s 3ms/step - loss: 0.4657 - val_loss: 0.4674\n",
            "Epoch 111/400\n",
            "155/155 [==============================] - 1s 3ms/step - loss: 0.4669 - val_loss: 0.4689\n",
            "Epoch 112/400\n",
            "155/155 [==============================] - 0s 3ms/step - loss: 0.4648 - val_loss: 0.4827\n",
            "Epoch 113/400\n",
            "155/155 [==============================] - 0s 3ms/step - loss: 0.4667 - val_loss: 0.4701\n",
            "Epoch 114/400\n",
            "155/155 [==============================] - 0s 3ms/step - loss: 0.4652 - val_loss: 0.4677\n",
            "Epoch 115/400\n",
            "155/155 [==============================] - 1s 4ms/step - loss: 0.4657 - val_loss: 0.4681\n",
            "Epoch 116/400\n",
            "155/155 [==============================] - 0s 3ms/step - loss: 0.4669 - val_loss: 0.4723\n",
            "Epoch 117/400\n",
            "155/155 [==============================] - 0s 3ms/step - loss: 0.4666 - val_loss: 0.4716\n",
            "Epoch 118/400\n",
            "155/155 [==============================] - 0s 3ms/step - loss: 0.4668 - val_loss: 0.4632\n",
            "Epoch 119/400\n",
            "155/155 [==============================] - 0s 3ms/step - loss: 0.4660 - val_loss: 0.4681\n",
            "Epoch 120/400\n",
            "155/155 [==============================] - 0s 2ms/step - loss: 0.4653 - val_loss: 0.4686\n",
            "Epoch 121/400\n",
            "155/155 [==============================] - 0s 2ms/step - loss: 0.4651 - val_loss: 0.4722\n",
            "Epoch 122/400\n",
            "155/155 [==============================] - 0s 3ms/step - loss: 0.4653 - val_loss: 0.4686\n",
            "Epoch 123/400\n",
            "155/155 [==============================] - 0s 3ms/step - loss: 0.4651 - val_loss: 0.4723\n",
            "Epoch 124/400\n",
            "155/155 [==============================] - 1s 3ms/step - loss: 0.4649 - val_loss: 0.4663\n",
            "Epoch 125/400\n",
            "155/155 [==============================] - 0s 3ms/step - loss: 0.4655 - val_loss: 0.4744\n",
            "Epoch 126/400\n",
            "155/155 [==============================] - 0s 3ms/step - loss: 0.4648 - val_loss: 0.4679\n",
            "Epoch 127/400\n",
            "155/155 [==============================] - 0s 3ms/step - loss: 0.4649 - val_loss: 0.4650\n",
            "Epoch 128/400\n",
            "155/155 [==============================] - 0s 3ms/step - loss: 0.4653 - val_loss: 0.4802\n",
            "Epoch 129/400\n",
            "155/155 [==============================] - 0s 3ms/step - loss: 0.4658 - val_loss: 0.4689\n",
            "Epoch 130/400\n",
            "155/155 [==============================] - 0s 3ms/step - loss: 0.4663 - val_loss: 0.4729\n",
            "Epoch 131/400\n",
            "155/155 [==============================] - 0s 3ms/step - loss: 0.4653 - val_loss: 0.4690\n",
            "Epoch 132/400\n",
            "155/155 [==============================] - 0s 3ms/step - loss: 0.4663 - val_loss: 0.4775\n",
            "Epoch 133/400\n",
            "155/155 [==============================] - 0s 2ms/step - loss: 0.4645 - val_loss: 0.4800\n",
            "Epoch 134/400\n",
            "155/155 [==============================] - 0s 3ms/step - loss: 0.4668 - val_loss: 0.4780\n",
            "Epoch 135/400\n",
            "155/155 [==============================] - 0s 3ms/step - loss: 0.4646 - val_loss: 0.4722\n",
            "Epoch 136/400\n",
            "155/155 [==============================] - 0s 3ms/step - loss: 0.4649 - val_loss: 0.4863\n",
            "Epoch 137/400\n",
            "155/155 [==============================] - 0s 3ms/step - loss: 0.4666 - val_loss: 0.4709\n",
            "Epoch 138/400\n",
            "155/155 [==============================] - 0s 3ms/step - loss: 0.4658 - val_loss: 0.4658\n",
            "Epoch 139/400\n",
            "155/155 [==============================] - 1s 3ms/step - loss: 0.4643 - val_loss: 0.4811\n",
            "Epoch 140/400\n",
            "155/155 [==============================] - 0s 3ms/step - loss: 0.4659 - val_loss: 0.4724\n",
            "Epoch 141/400\n",
            "155/155 [==============================] - 0s 3ms/step - loss: 0.4645 - val_loss: 0.4812\n",
            "Epoch 142/400\n",
            "155/155 [==============================] - 0s 3ms/step - loss: 0.4651 - val_loss: 0.4738\n",
            "Epoch 143/400\n",
            "155/155 [==============================] - 1s 4ms/step - loss: 0.4653 - val_loss: 0.4731\n",
            "Epoch 144/400\n",
            "155/155 [==============================] - 0s 3ms/step - loss: 0.4647 - val_loss: 0.4695\n",
            "Epoch 145/400\n",
            "155/155 [==============================] - 0s 3ms/step - loss: 0.4654 - val_loss: 0.4654\n",
            "Epoch 146/400\n",
            "155/155 [==============================] - 0s 3ms/step - loss: 0.4662 - val_loss: 0.4772\n",
            "Epoch 147/400\n",
            "155/155 [==============================] - 1s 3ms/step - loss: 0.4643 - val_loss: 0.4809\n",
            "Epoch 148/400\n",
            "155/155 [==============================] - 0s 3ms/step - loss: 0.4644 - val_loss: 0.4694\n",
            "Epoch 149/400\n",
            "155/155 [==============================] - 0s 3ms/step - loss: 0.4654 - val_loss: 0.4740\n",
            "Epoch 150/400\n",
            "155/155 [==============================] - 0s 3ms/step - loss: 0.4641 - val_loss: 0.4673\n",
            "Epoch 151/400\n",
            "155/155 [==============================] - 0s 3ms/step - loss: 0.4643 - val_loss: 0.4721\n",
            "Epoch 152/400\n",
            "155/155 [==============================] - 0s 2ms/step - loss: 0.4639 - val_loss: 0.4802\n",
            "Epoch 153/400\n",
            "155/155 [==============================] - 0s 3ms/step - loss: 0.4638 - val_loss: 0.4783\n",
            "Epoch 154/400\n",
            "155/155 [==============================] - 0s 3ms/step - loss: 0.4646 - val_loss: 0.4725\n",
            "Epoch 155/400\n",
            "155/155 [==============================] - 1s 3ms/step - loss: 0.4645 - val_loss: 0.4752\n",
            "Epoch 156/400\n",
            "155/155 [==============================] - 0s 3ms/step - loss: 0.4635 - val_loss: 0.4766\n",
            "Epoch 157/400\n",
            "155/155 [==============================] - 0s 3ms/step - loss: 0.4651 - val_loss: 0.4701\n",
            "Epoch 158/400\n",
            "155/155 [==============================] - 0s 2ms/step - loss: 0.4643 - val_loss: 0.4638\n",
            "Epoch 159/400\n",
            "155/155 [==============================] - 0s 3ms/step - loss: 0.4649 - val_loss: 0.4720\n",
            "Epoch 160/400\n",
            "155/155 [==============================] - 0s 3ms/step - loss: 0.4631 - val_loss: 0.4702\n",
            "Epoch 161/400\n",
            "155/155 [==============================] - 0s 3ms/step - loss: 0.4641 - val_loss: 0.4740\n",
            "Epoch 162/400\n",
            "155/155 [==============================] - 0s 3ms/step - loss: 0.4641 - val_loss: 0.4811\n",
            "Epoch 163/400\n",
            "155/155 [==============================] - 0s 3ms/step - loss: 0.4630 - val_loss: 0.4785\n",
            "Epoch 164/400\n",
            "155/155 [==============================] - 0s 2ms/step - loss: 0.4635 - val_loss: 0.4691\n",
            "Epoch 165/400\n",
            "155/155 [==============================] - 0s 3ms/step - loss: 0.4644 - val_loss: 0.4720\n",
            "Epoch 166/400\n",
            "155/155 [==============================] - 0s 2ms/step - loss: 0.4631 - val_loss: 0.4695\n",
            "Epoch 167/400\n",
            "155/155 [==============================] - 0s 3ms/step - loss: 0.4640 - val_loss: 0.4687\n",
            "Epoch 168/400\n",
            "155/155 [==============================] - 0s 2ms/step - loss: 0.4641 - val_loss: 0.4712\n",
            "Epoch 169/400\n",
            "155/155 [==============================] - 0s 3ms/step - loss: 0.4638 - val_loss: 0.4706\n",
            "Epoch 170/400\n",
            "155/155 [==============================] - 0s 3ms/step - loss: 0.4643 - val_loss: 0.4758\n",
            "Epoch 171/400\n",
            "155/155 [==============================] - 0s 3ms/step - loss: 0.4641 - val_loss: 0.4702\n",
            "Epoch 172/400\n",
            "155/155 [==============================] - 1s 3ms/step - loss: 0.4638 - val_loss: 0.4701\n",
            "Epoch 173/400\n",
            "155/155 [==============================] - 0s 3ms/step - loss: 0.4638 - val_loss: 0.4770\n",
            "Epoch 174/400\n",
            "155/155 [==============================] - 0s 3ms/step - loss: 0.4634 - val_loss: 0.4736\n",
            "Epoch 175/400\n",
            "155/155 [==============================] - 0s 3ms/step - loss: 0.4621 - val_loss: 0.4734\n",
            "Epoch 176/400\n",
            "155/155 [==============================] - 0s 3ms/step - loss: 0.4633 - val_loss: 0.4788\n",
            "Epoch 177/400\n",
            "155/155 [==============================] - 0s 3ms/step - loss: 0.4623 - val_loss: 0.4756\n",
            "Epoch 178/400\n",
            "155/155 [==============================] - 0s 3ms/step - loss: 0.4634 - val_loss: 0.4847\n",
            "Epoch 179/400\n",
            "155/155 [==============================] - 0s 3ms/step - loss: 0.4629 - val_loss: 0.4770\n",
            "Epoch 180/400\n",
            "155/155 [==============================] - 1s 3ms/step - loss: 0.4631 - val_loss: 0.4728\n",
            "Epoch 181/400\n",
            "155/155 [==============================] - 1s 3ms/step - loss: 0.4633 - val_loss: 0.4766\n",
            "Epoch 182/400\n",
            "155/155 [==============================] - 0s 3ms/step - loss: 0.4633 - val_loss: 0.4774\n",
            "Epoch 183/400\n",
            "155/155 [==============================] - 0s 3ms/step - loss: 0.4628 - val_loss: 0.4754\n",
            "Epoch 184/400\n",
            "155/155 [==============================] - 0s 3ms/step - loss: 0.4635 - val_loss: 0.4808\n",
            "Epoch 185/400\n",
            "155/155 [==============================] - 0s 3ms/step - loss: 0.4633 - val_loss: 0.4815\n",
            "Epoch 186/400\n",
            "155/155 [==============================] - 0s 2ms/step - loss: 0.4631 - val_loss: 0.4734\n",
            "Epoch 187/400\n",
            "155/155 [==============================] - 1s 3ms/step - loss: 0.4638 - val_loss: 0.4772\n",
            "Epoch 188/400\n",
            "155/155 [==============================] - 0s 3ms/step - loss: 0.4632 - val_loss: 0.4746\n",
            "Epoch 189/400\n",
            "155/155 [==============================] - 0s 3ms/step - loss: 0.4624 - val_loss: 0.4790\n",
            "Epoch 190/400\n",
            "155/155 [==============================] - 0s 3ms/step - loss: 0.4633 - val_loss: 0.4770\n",
            "Epoch 191/400\n",
            "155/155 [==============================] - 0s 3ms/step - loss: 0.4606 - val_loss: 0.4753\n",
            "Epoch 192/400\n",
            "155/155 [==============================] - 0s 3ms/step - loss: 0.4623 - val_loss: 0.4746\n",
            "Epoch 193/400\n",
            "155/155 [==============================] - 0s 3ms/step - loss: 0.4631 - val_loss: 0.4708\n",
            "Epoch 194/400\n",
            "155/155 [==============================] - 0s 3ms/step - loss: 0.4611 - val_loss: 0.4862\n",
            "Epoch 195/400\n",
            "155/155 [==============================] - 0s 3ms/step - loss: 0.4629 - val_loss: 0.4758\n",
            "Epoch 196/400\n",
            "155/155 [==============================] - 0s 3ms/step - loss: 0.4634 - val_loss: 0.4847\n",
            "Epoch 197/400\n",
            "155/155 [==============================] - 0s 3ms/step - loss: 0.4629 - val_loss: 0.4800\n",
            "Epoch 198/400\n",
            "155/155 [==============================] - 1s 3ms/step - loss: 0.4628 - val_loss: 0.4752\n",
            "Epoch 199/400\n",
            "155/155 [==============================] - 0s 3ms/step - loss: 0.4617 - val_loss: 0.4712\n",
            "Epoch 200/400\n",
            "155/155 [==============================] - 1s 3ms/step - loss: 0.4607 - val_loss: 0.4769\n",
            "Epoch 201/400\n",
            "155/155 [==============================] - 0s 3ms/step - loss: 0.4636 - val_loss: 0.4717\n",
            "Epoch 202/400\n",
            "155/155 [==============================] - 0s 3ms/step - loss: 0.4624 - val_loss: 0.4837\n",
            "Epoch 203/400\n",
            "155/155 [==============================] - 1s 3ms/step - loss: 0.4632 - val_loss: 0.4719\n",
            "Epoch 204/400\n",
            "155/155 [==============================] - 1s 3ms/step - loss: 0.4628 - val_loss: 0.4701\n",
            "Epoch 205/400\n",
            "155/155 [==============================] - 1s 3ms/step - loss: 0.4618 - val_loss: 0.4777\n",
            "Epoch 206/400\n",
            "155/155 [==============================] - 1s 3ms/step - loss: 0.4631 - val_loss: 0.4822\n",
            "Epoch 207/400\n",
            "155/155 [==============================] - 0s 3ms/step - loss: 0.4613 - val_loss: 0.4739\n",
            "Epoch 208/400\n",
            "155/155 [==============================] - 0s 3ms/step - loss: 0.4638 - val_loss: 0.4776\n",
            "Epoch 209/400\n",
            "155/155 [==============================] - 0s 3ms/step - loss: 0.4641 - val_loss: 0.4764\n",
            "Epoch 210/400\n",
            "155/155 [==============================] - 0s 3ms/step - loss: 0.4630 - val_loss: 0.4732\n",
            "Epoch 211/400\n",
            "155/155 [==============================] - 1s 3ms/step - loss: 0.4626 - val_loss: 0.4808\n",
            "Epoch 212/400\n",
            "155/155 [==============================] - 1s 3ms/step - loss: 0.4618 - val_loss: 0.4763\n",
            "Epoch 213/400\n",
            "155/155 [==============================] - 0s 3ms/step - loss: 0.4616 - val_loss: 0.4805\n",
            "Epoch 214/400\n",
            "155/155 [==============================] - 0s 3ms/step - loss: 0.4600 - val_loss: 0.4740\n",
            "Epoch 215/400\n",
            "155/155 [==============================] - 0s 3ms/step - loss: 0.4612 - val_loss: 0.4835\n",
            "Epoch 216/400\n",
            "155/155 [==============================] - 0s 3ms/step - loss: 0.4617 - val_loss: 0.4787\n",
            "Epoch 217/400\n",
            "155/155 [==============================] - 0s 3ms/step - loss: 0.4602 - val_loss: 0.4709\n",
            "Epoch 218/400\n",
            "155/155 [==============================] - 0s 2ms/step - loss: 0.4628 - val_loss: 0.4821\n",
            "Epoch 219/400\n",
            "155/155 [==============================] - 0s 3ms/step - loss: 0.4608 - val_loss: 0.4765\n",
            "Epoch 220/400\n",
            "155/155 [==============================] - 1s 3ms/step - loss: 0.4623 - val_loss: 0.4741\n",
            "Epoch 221/400\n",
            "155/155 [==============================] - 0s 3ms/step - loss: 0.4606 - val_loss: 0.4964\n",
            "Epoch 222/400\n",
            "155/155 [==============================] - 1s 3ms/step - loss: 0.4632 - val_loss: 0.4721\n",
            "Epoch 223/400\n",
            "155/155 [==============================] - 0s 3ms/step - loss: 0.4610 - val_loss: 0.4749\n",
            "Epoch 224/400\n",
            "155/155 [==============================] - 0s 3ms/step - loss: 0.4618 - val_loss: 0.4695\n",
            "Epoch 225/400\n",
            "155/155 [==============================] - 1s 3ms/step - loss: 0.4625 - val_loss: 0.4763\n",
            "Epoch 226/400\n",
            "155/155 [==============================] - 0s 3ms/step - loss: 0.4601 - val_loss: 0.4816\n",
            "Epoch 227/400\n",
            "155/155 [==============================] - 0s 3ms/step - loss: 0.4608 - val_loss: 0.4806\n",
            "Epoch 228/400\n",
            "155/155 [==============================] - 0s 3ms/step - loss: 0.4618 - val_loss: 0.4809\n",
            "Epoch 229/400\n",
            "155/155 [==============================] - 0s 3ms/step - loss: 0.4630 - val_loss: 0.4732\n",
            "Epoch 230/400\n",
            "155/155 [==============================] - 0s 3ms/step - loss: 0.4607 - val_loss: 0.4785\n",
            "Epoch 231/400\n",
            "155/155 [==============================] - 1s 3ms/step - loss: 0.4599 - val_loss: 0.4855\n",
            "Epoch 232/400\n",
            "155/155 [==============================] - 0s 3ms/step - loss: 0.4614 - val_loss: 0.4782\n",
            "Epoch 233/400\n",
            "155/155 [==============================] - 0s 3ms/step - loss: 0.4605 - val_loss: 0.4872\n",
            "Epoch 234/400\n",
            "155/155 [==============================] - 0s 3ms/step - loss: 0.4592 - val_loss: 0.4722\n",
            "Epoch 235/400\n",
            "155/155 [==============================] - 1s 3ms/step - loss: 0.4625 - val_loss: 0.4726\n",
            "Epoch 236/400\n",
            "155/155 [==============================] - 1s 3ms/step - loss: 0.4596 - val_loss: 0.4809\n",
            "Epoch 237/400\n",
            "155/155 [==============================] - 1s 3ms/step - loss: 0.4612 - val_loss: 0.4866\n",
            "Epoch 238/400\n",
            "155/155 [==============================] - 0s 3ms/step - loss: 0.4613 - val_loss: 0.4998\n",
            "Epoch 239/400\n",
            "155/155 [==============================] - 0s 3ms/step - loss: 0.4609 - val_loss: 0.4813\n",
            "Epoch 240/400\n",
            "155/155 [==============================] - 0s 3ms/step - loss: 0.4595 - val_loss: 0.4751\n",
            "Epoch 241/400\n",
            "155/155 [==============================] - 0s 3ms/step - loss: 0.4594 - val_loss: 0.4723\n",
            "Epoch 242/400\n",
            "155/155 [==============================] - 0s 3ms/step - loss: 0.4596 - val_loss: 0.4747\n",
            "Epoch 243/400\n",
            "155/155 [==============================] - 0s 3ms/step - loss: 0.4613 - val_loss: 0.4876\n",
            "Epoch 244/400\n",
            "155/155 [==============================] - 0s 3ms/step - loss: 0.4595 - val_loss: 0.4726\n",
            "Epoch 245/400\n",
            "155/155 [==============================] - 0s 3ms/step - loss: 0.4615 - val_loss: 0.4766\n",
            "Epoch 246/400\n",
            "155/155 [==============================] - 0s 3ms/step - loss: 0.4600 - val_loss: 0.4714\n",
            "Epoch 247/400\n",
            "155/155 [==============================] - 0s 3ms/step - loss: 0.4599 - val_loss: 0.4783\n",
            "Epoch 248/400\n",
            "155/155 [==============================] - 0s 3ms/step - loss: 0.4610 - val_loss: 0.4760\n",
            "Epoch 249/400\n",
            "155/155 [==============================] - 0s 3ms/step - loss: 0.4603 - val_loss: 0.4871\n",
            "Epoch 250/400\n",
            "155/155 [==============================] - 0s 3ms/step - loss: 0.4607 - val_loss: 0.4774\n",
            "Epoch 251/400\n",
            "155/155 [==============================] - 1s 3ms/step - loss: 0.4596 - val_loss: 0.4795\n",
            "Epoch 252/400\n",
            "155/155 [==============================] - 1s 3ms/step - loss: 0.4607 - val_loss: 0.4785\n",
            "Epoch 253/400\n",
            "155/155 [==============================] - 0s 3ms/step - loss: 0.4600 - val_loss: 0.4778\n",
            "Epoch 254/400\n",
            "155/155 [==============================] - 1s 4ms/step - loss: 0.4580 - val_loss: 0.4772\n",
            "Epoch 255/400\n",
            "155/155 [==============================] - 1s 3ms/step - loss: 0.4595 - val_loss: 0.4838\n",
            "Epoch 256/400\n",
            "155/155 [==============================] - 1s 3ms/step - loss: 0.4591 - val_loss: 0.4751\n",
            "Epoch 257/400\n",
            "155/155 [==============================] - 1s 3ms/step - loss: 0.4593 - val_loss: 0.4738\n",
            "Epoch 258/400\n",
            "155/155 [==============================] - 1s 4ms/step - loss: 0.4611 - val_loss: 0.4808\n",
            "Epoch 259/400\n",
            "155/155 [==============================] - 1s 3ms/step - loss: 0.4624 - val_loss: 0.4825\n",
            "Epoch 260/400\n",
            "155/155 [==============================] - 1s 4ms/step - loss: 0.4617 - val_loss: 0.4813\n",
            "Epoch 261/400\n",
            "155/155 [==============================] - 1s 3ms/step - loss: 0.4601 - val_loss: 0.4765\n",
            "Epoch 262/400\n",
            "155/155 [==============================] - 1s 3ms/step - loss: 0.4583 - val_loss: 0.4830\n",
            "Epoch 263/400\n",
            "155/155 [==============================] - 0s 3ms/step - loss: 0.4600 - val_loss: 0.4838\n",
            "Epoch 264/400\n",
            "155/155 [==============================] - 0s 3ms/step - loss: 0.4594 - val_loss: 0.4789\n",
            "Epoch 265/400\n",
            "155/155 [==============================] - 1s 4ms/step - loss: 0.4599 - val_loss: 0.4810\n",
            "Epoch 266/400\n",
            "155/155 [==============================] - 1s 4ms/step - loss: 0.4591 - val_loss: 0.4745\n",
            "Epoch 267/400\n",
            "155/155 [==============================] - 0s 3ms/step - loss: 0.4579 - val_loss: 0.4761\n",
            "Epoch 268/400\n",
            "155/155 [==============================] - 0s 3ms/step - loss: 0.4583 - val_loss: 0.4782\n",
            "Epoch 269/400\n",
            "155/155 [==============================] - 0s 3ms/step - loss: 0.4598 - val_loss: 0.4806\n",
            "Epoch 270/400\n",
            "155/155 [==============================] - 0s 3ms/step - loss: 0.4601 - val_loss: 0.4888\n",
            "Epoch 271/400\n",
            "155/155 [==============================] - 0s 3ms/step - loss: 0.4596 - val_loss: 0.4751\n",
            "Epoch 272/400\n",
            "155/155 [==============================] - 0s 3ms/step - loss: 0.4594 - val_loss: 0.4840\n",
            "Epoch 273/400\n",
            "155/155 [==============================] - 0s 3ms/step - loss: 0.4592 - val_loss: 0.4803\n",
            "Epoch 274/400\n",
            "155/155 [==============================] - 0s 3ms/step - loss: 0.4585 - val_loss: 0.4759\n",
            "Epoch 275/400\n",
            "155/155 [==============================] - 0s 3ms/step - loss: 0.4590 - val_loss: 0.4800\n",
            "Epoch 276/400\n",
            "155/155 [==============================] - 0s 2ms/step - loss: 0.4580 - val_loss: 0.4790\n",
            "Epoch 277/400\n",
            "155/155 [==============================] - 0s 3ms/step - loss: 0.4577 - val_loss: 0.4732\n",
            "Epoch 278/400\n",
            "155/155 [==============================] - 0s 3ms/step - loss: 0.4598 - val_loss: 0.4883\n",
            "Epoch 279/400\n",
            "155/155 [==============================] - 0s 3ms/step - loss: 0.4596 - val_loss: 0.4740\n",
            "Epoch 280/400\n",
            "155/155 [==============================] - 0s 3ms/step - loss: 0.4587 - val_loss: 0.4879\n",
            "Epoch 281/400\n",
            "155/155 [==============================] - 1s 3ms/step - loss: 0.4585 - val_loss: 0.4916\n",
            "Epoch 282/400\n",
            "155/155 [==============================] - 1s 3ms/step - loss: 0.4600 - val_loss: 0.4758\n",
            "Epoch 283/400\n",
            "155/155 [==============================] - 1s 3ms/step - loss: 0.4584 - val_loss: 0.4888\n",
            "Epoch 284/400\n",
            "155/155 [==============================] - 1s 3ms/step - loss: 0.4572 - val_loss: 0.4735\n",
            "Epoch 285/400\n",
            "155/155 [==============================] - 0s 3ms/step - loss: 0.4582 - val_loss: 0.4847\n",
            "Epoch 286/400\n",
            "155/155 [==============================] - 1s 4ms/step - loss: 0.4589 - val_loss: 0.4803\n",
            "Epoch 287/400\n",
            "155/155 [==============================] - 1s 4ms/step - loss: 0.4587 - val_loss: 0.4757\n",
            "Epoch 288/400\n",
            "155/155 [==============================] - 1s 3ms/step - loss: 0.4578 - val_loss: 0.4812\n",
            "Epoch 289/400\n",
            "155/155 [==============================] - 0s 3ms/step - loss: 0.4572 - val_loss: 0.4760\n",
            "Epoch 290/400\n",
            "155/155 [==============================] - 1s 3ms/step - loss: 0.4587 - val_loss: 0.4748\n",
            "Epoch 291/400\n",
            "155/155 [==============================] - 0s 3ms/step - loss: 0.4584 - val_loss: 0.4751\n",
            "Epoch 292/400\n",
            "155/155 [==============================] - 1s 3ms/step - loss: 0.4567 - val_loss: 0.4976\n",
            "Epoch 293/400\n",
            "155/155 [==============================] - 0s 3ms/step - loss: 0.4590 - val_loss: 0.4766\n",
            "Epoch 294/400\n",
            "155/155 [==============================] - 1s 4ms/step - loss: 0.4577 - val_loss: 0.4901\n",
            "Epoch 295/400\n",
            "155/155 [==============================] - 1s 4ms/step - loss: 0.4598 - val_loss: 0.4788\n",
            "Epoch 296/400\n",
            "155/155 [==============================] - 1s 4ms/step - loss: 0.4561 - val_loss: 0.4801\n",
            "Epoch 297/400\n",
            "155/155 [==============================] - 1s 4ms/step - loss: 0.4584 - val_loss: 0.4787\n",
            "Epoch 298/400\n",
            "155/155 [==============================] - 1s 4ms/step - loss: 0.4566 - val_loss: 0.4891\n",
            "Epoch 299/400\n",
            "155/155 [==============================] - 1s 4ms/step - loss: 0.4591 - val_loss: 0.4823\n",
            "Epoch 300/400\n",
            "155/155 [==============================] - 1s 4ms/step - loss: 0.4570 - val_loss: 0.4784\n",
            "Epoch 301/400\n",
            "155/155 [==============================] - 1s 3ms/step - loss: 0.4588 - val_loss: 0.4881\n",
            "Epoch 302/400\n",
            "155/155 [==============================] - 1s 3ms/step - loss: 0.4564 - val_loss: 0.4829\n",
            "Epoch 303/400\n",
            "155/155 [==============================] - 0s 3ms/step - loss: 0.4581 - val_loss: 0.4808\n",
            "Epoch 304/400\n",
            "155/155 [==============================] - 1s 4ms/step - loss: 0.4578 - val_loss: 0.4810\n",
            "Epoch 305/400\n",
            "155/155 [==============================] - 0s 3ms/step - loss: 0.4591 - val_loss: 0.4944\n",
            "Epoch 306/400\n",
            "155/155 [==============================] - 1s 3ms/step - loss: 0.4597 - val_loss: 0.4879\n",
            "Epoch 307/400\n",
            "155/155 [==============================] - 0s 3ms/step - loss: 0.4570 - val_loss: 0.4839\n",
            "Epoch 308/400\n",
            "155/155 [==============================] - 0s 3ms/step - loss: 0.4559 - val_loss: 0.4812\n",
            "Epoch 309/400\n",
            "155/155 [==============================] - 0s 3ms/step - loss: 0.4576 - val_loss: 0.4905\n",
            "Epoch 310/400\n",
            "155/155 [==============================] - 0s 3ms/step - loss: 0.4557 - val_loss: 0.5000\n",
            "Epoch 311/400\n",
            "155/155 [==============================] - 1s 3ms/step - loss: 0.4562 - val_loss: 0.4859\n",
            "Epoch 312/400\n",
            "155/155 [==============================] - 0s 3ms/step - loss: 0.4573 - val_loss: 0.4988\n",
            "Epoch 313/400\n",
            "155/155 [==============================] - 0s 3ms/step - loss: 0.4572 - val_loss: 0.4806\n",
            "Epoch 314/400\n",
            "155/155 [==============================] - 1s 3ms/step - loss: 0.4566 - val_loss: 0.4822\n",
            "Epoch 315/400\n",
            "155/155 [==============================] - 0s 3ms/step - loss: 0.4587 - val_loss: 0.4896\n",
            "Epoch 316/400\n",
            "155/155 [==============================] - 0s 3ms/step - loss: 0.4559 - val_loss: 0.4781\n",
            "Epoch 317/400\n",
            "155/155 [==============================] - 0s 3ms/step - loss: 0.4570 - val_loss: 0.4828\n",
            "Epoch 318/400\n",
            "155/155 [==============================] - 0s 3ms/step - loss: 0.4558 - val_loss: 0.4870\n",
            "Epoch 319/400\n",
            "155/155 [==============================] - 1s 4ms/step - loss: 0.4552 - val_loss: 0.4818\n",
            "Epoch 320/400\n",
            "155/155 [==============================] - 1s 4ms/step - loss: 0.4588 - val_loss: 0.4760\n",
            "Epoch 321/400\n",
            "155/155 [==============================] - 0s 3ms/step - loss: 0.4554 - val_loss: 0.4989\n",
            "Epoch 322/400\n",
            "155/155 [==============================] - 0s 3ms/step - loss: 0.4570 - val_loss: 0.4806\n",
            "Epoch 323/400\n",
            "155/155 [==============================] - 0s 3ms/step - loss: 0.4558 - val_loss: 0.4849\n",
            "Epoch 324/400\n",
            "155/155 [==============================] - 1s 4ms/step - loss: 0.4568 - val_loss: 0.4812\n",
            "Epoch 325/400\n",
            "155/155 [==============================] - 1s 3ms/step - loss: 0.4572 - val_loss: 0.4954\n",
            "Epoch 326/400\n",
            "155/155 [==============================] - 1s 4ms/step - loss: 0.4546 - val_loss: 0.4801\n",
            "Epoch 327/400\n",
            "155/155 [==============================] - 0s 3ms/step - loss: 0.4561 - val_loss: 0.4879\n",
            "Epoch 328/400\n",
            "155/155 [==============================] - 1s 3ms/step - loss: 0.4562 - val_loss: 0.4861\n",
            "Epoch 329/400\n",
            "155/155 [==============================] - 0s 3ms/step - loss: 0.4556 - val_loss: 0.4820\n",
            "Epoch 330/400\n",
            "155/155 [==============================] - 1s 3ms/step - loss: 0.4555 - val_loss: 0.4755\n",
            "Epoch 331/400\n",
            "155/155 [==============================] - 1s 4ms/step - loss: 0.4569 - val_loss: 0.4798\n",
            "Epoch 332/400\n",
            "155/155 [==============================] - 1s 3ms/step - loss: 0.4555 - val_loss: 0.4856\n",
            "Epoch 333/400\n",
            "155/155 [==============================] - 1s 3ms/step - loss: 0.4549 - val_loss: 0.4848\n",
            "Epoch 334/400\n",
            "155/155 [==============================] - 1s 3ms/step - loss: 0.4570 - val_loss: 0.4769\n",
            "Epoch 335/400\n",
            "155/155 [==============================] - 1s 3ms/step - loss: 0.4550 - val_loss: 0.4817\n",
            "Epoch 336/400\n",
            "155/155 [==============================] - 0s 3ms/step - loss: 0.4570 - val_loss: 0.4856\n",
            "Epoch 337/400\n",
            "155/155 [==============================] - 0s 3ms/step - loss: 0.4556 - val_loss: 0.4877\n",
            "Epoch 338/400\n",
            "155/155 [==============================] - 0s 3ms/step - loss: 0.4566 - val_loss: 0.4791\n",
            "Epoch 339/400\n",
            "155/155 [==============================] - 1s 3ms/step - loss: 0.4553 - val_loss: 0.4850\n",
            "Epoch 340/400\n",
            "155/155 [==============================] - 1s 3ms/step - loss: 0.4554 - val_loss: 0.4832\n",
            "Epoch 341/400\n",
            "155/155 [==============================] - 0s 3ms/step - loss: 0.4546 - val_loss: 0.4781\n",
            "Epoch 342/400\n",
            "155/155 [==============================] - 0s 3ms/step - loss: 0.4547 - val_loss: 0.4912\n",
            "Epoch 343/400\n",
            "155/155 [==============================] - 1s 3ms/step - loss: 0.4562 - val_loss: 0.4803\n",
            "Epoch 344/400\n",
            "155/155 [==============================] - 0s 3ms/step - loss: 0.4545 - val_loss: 0.4789\n",
            "Epoch 345/400\n",
            "155/155 [==============================] - 1s 3ms/step - loss: 0.4561 - val_loss: 0.4789\n",
            "Epoch 346/400\n",
            "155/155 [==============================] - 1s 3ms/step - loss: 0.4535 - val_loss: 0.4783\n",
            "Epoch 347/400\n",
            "155/155 [==============================] - 0s 3ms/step - loss: 0.4558 - val_loss: 0.4892\n",
            "Epoch 348/400\n",
            "155/155 [==============================] - 0s 3ms/step - loss: 0.4543 - val_loss: 0.4907\n",
            "Epoch 349/400\n",
            "155/155 [==============================] - 0s 3ms/step - loss: 0.4540 - val_loss: 0.4901\n",
            "Epoch 350/400\n",
            "155/155 [==============================] - 0s 3ms/step - loss: 0.4554 - val_loss: 0.4962\n",
            "Epoch 351/400\n",
            "155/155 [==============================] - 1s 3ms/step - loss: 0.4547 - val_loss: 0.4888\n",
            "Epoch 352/400\n",
            "155/155 [==============================] - 0s 3ms/step - loss: 0.4567 - val_loss: 0.4953\n",
            "Epoch 353/400\n",
            "155/155 [==============================] - 0s 3ms/step - loss: 0.4551 - val_loss: 0.4794\n",
            "Epoch 354/400\n",
            "155/155 [==============================] - 0s 3ms/step - loss: 0.4533 - val_loss: 0.4834\n",
            "Epoch 355/400\n",
            "155/155 [==============================] - 1s 4ms/step - loss: 0.4536 - val_loss: 0.4757\n",
            "Epoch 356/400\n",
            "155/155 [==============================] - 1s 4ms/step - loss: 0.4554 - val_loss: 0.4884\n",
            "Epoch 357/400\n",
            "155/155 [==============================] - 1s 3ms/step - loss: 0.4537 - val_loss: 0.4796\n",
            "Epoch 358/400\n",
            "155/155 [==============================] - 1s 3ms/step - loss: 0.4541 - val_loss: 0.4970\n",
            "Epoch 359/400\n",
            "155/155 [==============================] - 0s 3ms/step - loss: 0.4564 - val_loss: 0.4948\n",
            "Epoch 360/400\n",
            "155/155 [==============================] - 1s 3ms/step - loss: 0.4554 - val_loss: 0.4981\n",
            "Epoch 361/400\n",
            "155/155 [==============================] - 0s 3ms/step - loss: 0.4551 - val_loss: 0.4858\n",
            "Epoch 362/400\n",
            "155/155 [==============================] - 0s 3ms/step - loss: 0.4549 - val_loss: 0.4953\n",
            "Epoch 363/400\n",
            "155/155 [==============================] - 0s 3ms/step - loss: 0.4545 - val_loss: 0.4857\n",
            "Epoch 364/400\n",
            "155/155 [==============================] - 1s 3ms/step - loss: 0.4536 - val_loss: 0.4842\n",
            "Epoch 365/400\n",
            "155/155 [==============================] - 1s 4ms/step - loss: 0.4546 - val_loss: 0.4863\n",
            "Epoch 366/400\n",
            "155/155 [==============================] - 1s 4ms/step - loss: 0.4547 - val_loss: 0.4834\n",
            "Epoch 367/400\n",
            "155/155 [==============================] - 0s 3ms/step - loss: 0.4533 - val_loss: 0.4958\n",
            "Epoch 368/400\n",
            "155/155 [==============================] - 0s 3ms/step - loss: 0.4563 - val_loss: 0.4816\n",
            "Epoch 369/400\n",
            "155/155 [==============================] - 0s 3ms/step - loss: 0.4546 - val_loss: 0.4849\n",
            "Epoch 370/400\n",
            "155/155 [==============================] - 0s 3ms/step - loss: 0.4546 - val_loss: 0.4849\n",
            "Epoch 371/400\n",
            "155/155 [==============================] - 1s 4ms/step - loss: 0.4530 - val_loss: 0.4827\n",
            "Epoch 372/400\n",
            "155/155 [==============================] - 0s 3ms/step - loss: 0.4538 - val_loss: 0.4986\n",
            "Epoch 373/400\n",
            "155/155 [==============================] - 0s 3ms/step - loss: 0.4560 - val_loss: 0.4840\n",
            "Epoch 374/400\n",
            "155/155 [==============================] - 0s 3ms/step - loss: 0.4534 - val_loss: 0.4919\n",
            "Epoch 375/400\n",
            "155/155 [==============================] - 0s 3ms/step - loss: 0.4542 - val_loss: 0.4825\n",
            "Epoch 376/400\n",
            "155/155 [==============================] - 0s 3ms/step - loss: 0.4549 - val_loss: 0.4792\n",
            "Epoch 377/400\n",
            "155/155 [==============================] - 0s 2ms/step - loss: 0.4544 - val_loss: 0.4935\n",
            "Epoch 378/400\n",
            "155/155 [==============================] - 0s 3ms/step - loss: 0.4545 - val_loss: 0.4872\n",
            "Epoch 379/400\n",
            "155/155 [==============================] - 0s 3ms/step - loss: 0.4529 - val_loss: 0.4856\n",
            "Epoch 380/400\n",
            "155/155 [==============================] - 1s 4ms/step - loss: 0.4528 - val_loss: 0.5014\n",
            "Epoch 381/400\n",
            "155/155 [==============================] - 1s 3ms/step - loss: 0.4530 - val_loss: 0.4846\n",
            "Epoch 382/400\n",
            "155/155 [==============================] - 1s 3ms/step - loss: 0.4535 - val_loss: 0.4812\n",
            "Epoch 383/400\n",
            "155/155 [==============================] - 1s 3ms/step - loss: 0.4527 - val_loss: 0.4847\n",
            "Epoch 384/400\n",
            "155/155 [==============================] - 1s 4ms/step - loss: 0.4539 - val_loss: 0.4918\n",
            "Epoch 385/400\n",
            "155/155 [==============================] - 1s 4ms/step - loss: 0.4534 - val_loss: 0.4784\n",
            "Epoch 386/400\n",
            "155/155 [==============================] - 1s 4ms/step - loss: 0.4544 - val_loss: 0.4840\n",
            "Epoch 387/400\n",
            "155/155 [==============================] - 1s 4ms/step - loss: 0.4526 - val_loss: 0.4875\n",
            "Epoch 388/400\n",
            "155/155 [==============================] - 1s 3ms/step - loss: 0.4530 - val_loss: 0.4880\n",
            "Epoch 389/400\n",
            "155/155 [==============================] - 1s 3ms/step - loss: 0.4534 - val_loss: 0.4888\n",
            "Epoch 390/400\n",
            "155/155 [==============================] - 1s 3ms/step - loss: 0.4517 - val_loss: 0.4930\n",
            "Epoch 391/400\n",
            "155/155 [==============================] - 1s 4ms/step - loss: 0.4537 - val_loss: 0.4853\n",
            "Epoch 392/400\n",
            "155/155 [==============================] - 0s 3ms/step - loss: 0.4509 - val_loss: 0.4810\n",
            "Epoch 393/400\n",
            "155/155 [==============================] - 0s 3ms/step - loss: 0.4535 - val_loss: 0.4890\n",
            "Epoch 394/400\n",
            "155/155 [==============================] - 0s 3ms/step - loss: 0.4535 - val_loss: 0.4933\n",
            "Epoch 395/400\n",
            "155/155 [==============================] - 1s 3ms/step - loss: 0.4515 - val_loss: 0.4906\n",
            "Epoch 396/400\n",
            "155/155 [==============================] - 1s 3ms/step - loss: 0.4556 - val_loss: 0.4828\n",
            "Epoch 397/400\n",
            "155/155 [==============================] - 0s 3ms/step - loss: 0.4521 - val_loss: 0.4919\n",
            "Epoch 398/400\n",
            "155/155 [==============================] - 1s 3ms/step - loss: 0.4524 - val_loss: 0.4962\n",
            "Epoch 399/400\n",
            "155/155 [==============================] - 1s 3ms/step - loss: 0.4537 - val_loss: 0.4872\n",
            "Epoch 400/400\n",
            "155/155 [==============================] - 0s 3ms/step - loss: 0.4540 - val_loss: 0.4963\n"
          ]
        },
        {
          "output_type": "execute_result",
          "data": {
            "text/plain": [
              "<keras.callbacks.History at 0x7ff9bb1d0b10>"
            ]
          },
          "metadata": {},
          "execution_count": 55
        }
      ]
    },
    {
      "cell_type": "code",
      "source": [
        "model_loss = pd.DataFrame(model.history.history)\n",
        "model_loss.plot()\n",
        "#Looks like it slightly improved the accuracy, lets check its metrics"
      ],
      "metadata": {
        "colab": {
          "base_uri": "https://localhost:8080/",
          "height": 282
        },
        "id": "5EiKX6e8tTpJ",
        "outputId": "ab411699-bf22-4124-a7fd-9bb43ebfa29c"
      },
      "execution_count": null,
      "outputs": [
        {
          "output_type": "execute_result",
          "data": {
            "text/plain": [
              "<matplotlib.axes._subplots.AxesSubplot at 0x7ff9bb22ffd0>"
            ]
          },
          "metadata": {},
          "execution_count": 56
        },
        {
          "output_type": "display_data",
          "data": {
            "image/png": "[encoded data removed]",
            "text/plain": [
              "<Figure size 432x288 with 1 Axes>"
            ]
          },
          "metadata": {
            "needs_background": "light"
          }
        }
      ]
    },
    {
      "cell_type": "code",
      "source": [
        "#model prediction\n",
        "predictions = model.predict(X_test)\n",
        "from sklearn.metrics import classification_report,confusion_matrix\n",
        "predictions\n"
      ],
      "metadata": {
        "colab": {
          "base_uri": "https://localhost:8080/"
        },
        "id": "eXxxcKgouxqi",
        "outputId": "7894b160-00b7-4857-c589-04c935d46d5a"
      },
      "execution_count": null,
      "outputs": [
        {
          "output_type": "execute_result",
          "data": {
            "text/plain": [
              "array([[0.07446632],\n",
              "       [0.09114119],\n",
              "       [0.3504004 ],\n",
              "       ...,\n",
              "       [0.08388963],\n",
              "       [0.42834798],\n",
              "       [0.39620203]], dtype=float32)"
            ]
          },
          "metadata": {},
          "execution_count": 57
        }
      ]
    },
    {
      "cell_type": "markdown",
      "source": [
        "As this is a classification problem, we need to round it off to either 0 or one to fit within the classes"
      ],
      "metadata": {
        "id": "2jI0ZLgLzsjB"
      }
    },
    {
      "cell_type": "code",
      "source": [
        "#model prediction\n",
        "predictions = (model.predict(X_test) > 0.5).astype(\"int32\")\n",
        "from sklearn.metrics import classification_report,confusion_matrix\n",
        "\n",
        "\n",
        "print('confusion matrix\\n',confusion_matrix(y_test,predictions))\n",
        "print('\\n********************************************************')\n",
        "\n",
        "print('\\nclassification report\\n',classification_report(y_test,predictions))"
      ],
      "metadata": {
        "colab": {
          "base_uri": "https://localhost:8080/"
        },
        "id": "plGfC9Xnvr1a",
        "outputId": "ef7506d9-d352-4f4d-ca40-d319158dd4d2"
      },
      "execution_count": null,
      "outputs": [
        {
          "output_type": "stream",
          "name": "stdout",
          "text": [
            "confusion matrix\n",
            " [[1562  105]\n",
            " [ 342  109]]\n",
            "\n",
            "********************************************************\n",
            "\n",
            "classification report\n",
            "               precision    recall  f1-score   support\n",
            "\n",
            "           0       0.82      0.94      0.87      1667\n",
            "           1       0.51      0.24      0.33       451\n",
            "\n",
            "    accuracy                           0.79      2118\n",
            "   macro avg       0.66      0.59      0.60      2118\n",
            "weighted avg       0.75      0.79      0.76      2118\n",
            "\n"
          ]
        }
      ]
    },
    {
      "cell_type": "markdown",
      "source": [
        "We habe a current model accuracy of 79% using the Adma optimizer which is very good "
      ],
      "metadata": {
        "id": "tElUsHxYz1Hw"
      }
    },
    {
      "cell_type": "markdown",
      "source": [
        "**Lets try out different optimizers**"
      ],
      "metadata": {
        "id": "-GemTdk70D-z"
      }
    },
    {
      "cell_type": "markdown",
      "source": [
        "**RmsProp**"
      ],
      "metadata": {
        "id": "d1NpuJW70Zno"
      }
    },
    {
      "cell_type": "code",
      "source": [
        "# creating an instance\n",
        "model_v3 = Sequential()\n",
        "\n",
        "model_v3.add(Dense(units=12,activation='relu'))\n",
        "model_v3.add(Dense(units=12,activation='relu'))\n",
        "model_v3.add(Dense(units=12,activation='relu'))\n",
        "model_v3.add(Dense(units=12,activation='relu'))\n",
        "\n",
        "\n",
        "# binary classification\n",
        "model_v3.add(Dense(units=1,activation='sigmoid'))\n",
        "\n",
        "\n",
        "model_v3.compile(loss ='binary_crossentropy',optimizer = 'RmsProp')"
      ],
      "metadata": {
        "id": "RDywZbg_0R6K"
      },
      "execution_count": null,
      "outputs": []
    },
    {
      "cell_type": "code",
      "source": [
        "model.fit(x=X_train, y=y_train, epochs=200,validation_data=(X_test, y_test), verbose=1)"
      ],
      "metadata": {
        "colab": {
          "base_uri": "https://localhost:8080/"
        },
        "outputId": "47f9d687-6213-4c9d-b8b9-23e65b94f5c2",
        "id": "EoY_QHeO0R6L"
      },
      "execution_count": null,
      "outputs": [
        {
          "output_type": "stream",
          "name": "stdout",
          "text": [
            "Epoch 1/200\n",
            "155/155 [==============================] - 0s 3ms/step - loss: 0.4532 - val_loss: 0.4857\n",
            "Epoch 2/200\n",
            "155/155 [==============================] - 1s 3ms/step - loss: 0.4509 - val_loss: 0.5026\n",
            "Epoch 3/200\n",
            "155/155 [==============================] - 0s 3ms/step - loss: 0.4552 - val_loss: 0.4904\n",
            "Epoch 4/200\n",
            "155/155 [==============================] - 0s 3ms/step - loss: 0.4562 - val_loss: 0.4808\n",
            "Epoch 5/200\n",
            "155/155 [==============================] - 0s 3ms/step - loss: 0.4543 - val_loss: 0.4877\n",
            "Epoch 6/200\n",
            "155/155 [==============================] - 0s 3ms/step - loss: 0.4521 - val_loss: 0.4846\n",
            "Epoch 7/200\n",
            "155/155 [==============================] - 0s 3ms/step - loss: 0.4550 - val_loss: 0.5100\n",
            "Epoch 8/200\n",
            "155/155 [==============================] - 0s 2ms/step - loss: 0.4540 - val_loss: 0.5092\n",
            "Epoch 9/200\n",
            "155/155 [==============================] - 0s 3ms/step - loss: 0.4542 - val_loss: 0.4855\n",
            "Epoch 10/200\n",
            "155/155 [==============================] - 1s 3ms/step - loss: 0.4530 - val_loss: 0.4899\n",
            "Epoch 11/200\n",
            "155/155 [==============================] - 0s 2ms/step - loss: 0.4517 - val_loss: 0.4889\n",
            "Epoch 12/200\n",
            "155/155 [==============================] - 0s 3ms/step - loss: 0.4521 - val_loss: 0.5075\n",
            "Epoch 13/200\n",
            "155/155 [==============================] - 0s 3ms/step - loss: 0.4523 - val_loss: 0.4963\n",
            "Epoch 14/200\n",
            "155/155 [==============================] - 0s 2ms/step - loss: 0.4496 - val_loss: 0.4964\n",
            "Epoch 15/200\n",
            "155/155 [==============================] - 0s 2ms/step - loss: 0.4525 - val_loss: 0.4929\n",
            "Epoch 16/200\n",
            "155/155 [==============================] - 0s 3ms/step - loss: 0.4520 - val_loss: 0.4910\n",
            "Epoch 17/200\n",
            "155/155 [==============================] - 1s 3ms/step - loss: 0.4515 - val_loss: 0.4992\n",
            "Epoch 18/200\n",
            "155/155 [==============================] - 0s 3ms/step - loss: 0.4499 - val_loss: 0.4843\n",
            "Epoch 19/200\n",
            "155/155 [==============================] - 0s 3ms/step - loss: 0.4516 - val_loss: 0.4976\n",
            "Epoch 20/200\n",
            "155/155 [==============================] - 0s 2ms/step - loss: 0.4495 - val_loss: 0.4870\n",
            "Epoch 21/200\n",
            "155/155 [==============================] - 0s 3ms/step - loss: 0.4494 - val_loss: 0.4963\n",
            "Epoch 22/200\n",
            "155/155 [==============================] - 0s 2ms/step - loss: 0.4520 - val_loss: 0.4980\n",
            "Epoch 23/200\n",
            "155/155 [==============================] - 0s 3ms/step - loss: 0.4505 - val_loss: 0.5133\n",
            "Epoch 24/200\n",
            "155/155 [==============================] - 0s 3ms/step - loss: 0.4504 - val_loss: 0.4892\n",
            "Epoch 25/200\n",
            "155/155 [==============================] - 0s 3ms/step - loss: 0.4509 - val_loss: 0.4969\n",
            "Epoch 26/200\n",
            "155/155 [==============================] - 0s 2ms/step - loss: 0.4547 - val_loss: 0.4808\n",
            "Epoch 27/200\n",
            "155/155 [==============================] - 0s 3ms/step - loss: 0.4537 - val_loss: 0.4900\n",
            "Epoch 28/200\n",
            "155/155 [==============================] - 0s 2ms/step - loss: 0.4524 - val_loss: 0.4962\n",
            "Epoch 29/200\n",
            "155/155 [==============================] - 0s 3ms/step - loss: 0.4502 - val_loss: 0.4979\n",
            "Epoch 30/200\n",
            "155/155 [==============================] - 0s 3ms/step - loss: 0.4502 - val_loss: 0.4989\n",
            "Epoch 31/200\n",
            "155/155 [==============================] - 0s 2ms/step - loss: 0.4522 - val_loss: 0.5042\n",
            "Epoch 32/200\n",
            "155/155 [==============================] - 0s 3ms/step - loss: 0.4486 - val_loss: 0.4982\n",
            "Epoch 33/200\n",
            "155/155 [==============================] - 0s 3ms/step - loss: 0.4507 - val_loss: 0.4934\n",
            "Epoch 34/200\n",
            "155/155 [==============================] - 0s 3ms/step - loss: 0.4519 - val_loss: 0.4889\n",
            "Epoch 35/200\n",
            "155/155 [==============================] - 0s 3ms/step - loss: 0.4498 - val_loss: 0.4897\n",
            "Epoch 36/200\n",
            "155/155 [==============================] - 0s 3ms/step - loss: 0.4515 - val_loss: 0.4959\n",
            "Epoch 37/200\n",
            "155/155 [==============================] - 0s 2ms/step - loss: 0.4519 - val_loss: 0.4868\n",
            "Epoch 38/200\n",
            "155/155 [==============================] - 0s 3ms/step - loss: 0.4515 - val_loss: 0.4951\n",
            "Epoch 39/200\n",
            "155/155 [==============================] - 0s 3ms/step - loss: 0.4492 - val_loss: 0.4984\n",
            "Epoch 40/200\n",
            "155/155 [==============================] - 1s 4ms/step - loss: 0.4498 - val_loss: 0.4882\n",
            "Epoch 41/200\n",
            "155/155 [==============================] - 1s 3ms/step - loss: 0.4510 - val_loss: 0.4867\n",
            "Epoch 42/200\n",
            "155/155 [==============================] - 1s 3ms/step - loss: 0.4484 - val_loss: 0.4900\n",
            "Epoch 43/200\n",
            "155/155 [==============================] - 0s 3ms/step - loss: 0.4559 - val_loss: 0.5052\n",
            "Epoch 44/200\n",
            "155/155 [==============================] - 0s 3ms/step - loss: 0.4515 - val_loss: 0.4936\n",
            "Epoch 45/200\n",
            "155/155 [==============================] - 0s 3ms/step - loss: 0.4503 - val_loss: 0.4938\n",
            "Epoch 46/200\n",
            "155/155 [==============================] - 1s 3ms/step - loss: 0.4502 - val_loss: 0.5001\n",
            "Epoch 47/200\n",
            "155/155 [==============================] - 0s 3ms/step - loss: 0.4485 - val_loss: 0.4923\n",
            "Epoch 48/200\n",
            "155/155 [==============================] - 0s 3ms/step - loss: 0.4495 - val_loss: 0.4973\n",
            "Epoch 49/200\n",
            "155/155 [==============================] - 0s 3ms/step - loss: 0.4502 - val_loss: 0.5100\n",
            "Epoch 50/200\n",
            "155/155 [==============================] - 0s 3ms/step - loss: 0.4510 - val_loss: 0.4932\n",
            "Epoch 51/200\n",
            "155/155 [==============================] - 1s 3ms/step - loss: 0.4511 - val_loss: 0.4906\n",
            "Epoch 52/200\n",
            "155/155 [==============================] - 0s 3ms/step - loss: 0.4490 - val_loss: 0.4880\n",
            "Epoch 53/200\n",
            "155/155 [==============================] - 0s 2ms/step - loss: 0.4496 - val_loss: 0.4895\n",
            "Epoch 54/200\n",
            "155/155 [==============================] - 0s 3ms/step - loss: 0.4506 - val_loss: 0.4892\n",
            "Epoch 55/200\n",
            "155/155 [==============================] - 0s 3ms/step - loss: 0.4501 - val_loss: 0.4967\n",
            "Epoch 56/200\n",
            "155/155 [==============================] - 0s 3ms/step - loss: 0.4505 - val_loss: 0.4906\n",
            "Epoch 57/200\n",
            "155/155 [==============================] - 0s 3ms/step - loss: 0.4489 - val_loss: 0.4937\n",
            "Epoch 58/200\n",
            "155/155 [==============================] - 0s 3ms/step - loss: 0.4489 - val_loss: 0.4979\n",
            "Epoch 59/200\n",
            "155/155 [==============================] - 0s 3ms/step - loss: 0.4505 - val_loss: 0.4934\n",
            "Epoch 60/200\n",
            "155/155 [==============================] - 0s 3ms/step - loss: 0.4479 - val_loss: 0.5007\n",
            "Epoch 61/200\n",
            "155/155 [==============================] - 1s 3ms/step - loss: 0.4495 - val_loss: 0.4901\n",
            "Epoch 62/200\n",
            "155/155 [==============================] - 0s 3ms/step - loss: 0.4496 - val_loss: 0.5003\n",
            "Epoch 63/200\n",
            "155/155 [==============================] - 0s 3ms/step - loss: 0.4501 - val_loss: 0.5003\n",
            "Epoch 64/200\n",
            "155/155 [==============================] - 0s 3ms/step - loss: 0.4493 - val_loss: 0.4968\n",
            "Epoch 65/200\n",
            "155/155 [==============================] - 0s 3ms/step - loss: 0.4486 - val_loss: 0.4915\n",
            "Epoch 66/200\n",
            "155/155 [==============================] - 0s 3ms/step - loss: 0.4484 - val_loss: 0.5063\n",
            "Epoch 67/200\n",
            "155/155 [==============================] - 0s 3ms/step - loss: 0.4486 - val_loss: 0.4947\n",
            "Epoch 68/200\n",
            "155/155 [==============================] - 0s 3ms/step - loss: 0.4512 - val_loss: 0.4830\n",
            "Epoch 69/200\n",
            "155/155 [==============================] - 1s 3ms/step - loss: 0.4503 - val_loss: 0.5006\n",
            "Epoch 70/200\n",
            "155/155 [==============================] - 0s 3ms/step - loss: 0.4487 - val_loss: 0.4929\n",
            "Epoch 71/200\n",
            "155/155 [==============================] - 0s 3ms/step - loss: 0.4457 - val_loss: 0.4915\n",
            "Epoch 72/200\n",
            "155/155 [==============================] - 0s 3ms/step - loss: 0.4487 - val_loss: 0.4889\n",
            "Epoch 73/200\n",
            "155/155 [==============================] - 0s 3ms/step - loss: 0.4474 - val_loss: 0.4909\n",
            "Epoch 74/200\n",
            "155/155 [==============================] - 0s 3ms/step - loss: 0.4505 - val_loss: 0.4925\n",
            "Epoch 75/200\n",
            "155/155 [==============================] - 1s 3ms/step - loss: 0.4487 - val_loss: 0.4914\n",
            "Epoch 76/200\n",
            "155/155 [==============================] - 1s 3ms/step - loss: 0.4475 - val_loss: 0.4946\n",
            "Epoch 77/200\n",
            "155/155 [==============================] - 0s 3ms/step - loss: 0.4494 - val_loss: 0.4905\n",
            "Epoch 78/200\n",
            "155/155 [==============================] - 0s 3ms/step - loss: 0.4468 - val_loss: 0.5024\n",
            "Epoch 79/200\n",
            "155/155 [==============================] - 0s 3ms/step - loss: 0.4495 - val_loss: 0.4950\n",
            "Epoch 80/200\n",
            "155/155 [==============================] - 0s 3ms/step - loss: 0.4476 - val_loss: 0.5095\n",
            "Epoch 81/200\n",
            "155/155 [==============================] - 0s 3ms/step - loss: 0.4501 - val_loss: 0.4965\n",
            "Epoch 82/200\n",
            "155/155 [==============================] - 1s 3ms/step - loss: 0.4491 - val_loss: 0.5003\n",
            "Epoch 83/200\n",
            "155/155 [==============================] - 1s 3ms/step - loss: 0.4470 - val_loss: 0.5022\n",
            "Epoch 84/200\n",
            "155/155 [==============================] - 0s 3ms/step - loss: 0.4476 - val_loss: 0.5012\n",
            "Epoch 85/200\n",
            "155/155 [==============================] - 0s 3ms/step - loss: 0.4455 - val_loss: 0.5011\n",
            "Epoch 86/200\n",
            "155/155 [==============================] - 0s 3ms/step - loss: 0.4479 - val_loss: 0.4926\n",
            "Epoch 87/200\n",
            "155/155 [==============================] - 0s 3ms/step - loss: 0.4479 - val_loss: 0.5157\n",
            "Epoch 88/200\n",
            "155/155 [==============================] - 0s 2ms/step - loss: 0.4461 - val_loss: 0.5011\n",
            "Epoch 89/200\n",
            "155/155 [==============================] - 0s 2ms/step - loss: 0.4481 - val_loss: 0.4938\n",
            "Epoch 90/200\n",
            "155/155 [==============================] - 0s 3ms/step - loss: 0.4469 - val_loss: 0.5125\n",
            "Epoch 91/200\n",
            "155/155 [==============================] - 0s 3ms/step - loss: 0.4459 - val_loss: 0.5035\n",
            "Epoch 92/200\n",
            "155/155 [==============================] - 0s 3ms/step - loss: 0.4474 - val_loss: 0.5000\n",
            "Epoch 93/200\n",
            "155/155 [==============================] - 0s 3ms/step - loss: 0.4466 - val_loss: 0.5051\n",
            "Epoch 94/200\n",
            "155/155 [==============================] - 0s 3ms/step - loss: 0.4492 - val_loss: 0.4952\n",
            "Epoch 95/200\n",
            "155/155 [==============================] - 0s 3ms/step - loss: 0.4471 - val_loss: 0.5011\n",
            "Epoch 96/200\n",
            "155/155 [==============================] - 0s 2ms/step - loss: 0.4473 - val_loss: 0.4970\n",
            "Epoch 97/200\n",
            "155/155 [==============================] - 0s 3ms/step - loss: 0.4477 - val_loss: 0.4965\n",
            "Epoch 98/200\n",
            "155/155 [==============================] - 0s 3ms/step - loss: 0.4502 - val_loss: 0.5004\n",
            "Epoch 99/200\n",
            "155/155 [==============================] - 0s 3ms/step - loss: 0.4479 - val_loss: 0.5152\n",
            "Epoch 100/200\n",
            "155/155 [==============================] - 0s 3ms/step - loss: 0.4461 - val_loss: 0.5113\n",
            "Epoch 101/200\n",
            "155/155 [==============================] - 1s 3ms/step - loss: 0.4469 - val_loss: 0.4969\n",
            "Epoch 102/200\n",
            "155/155 [==============================] - 0s 3ms/step - loss: 0.4450 - val_loss: 0.5057\n",
            "Epoch 103/200\n",
            "155/155 [==============================] - 0s 3ms/step - loss: 0.4465 - val_loss: 0.4941\n",
            "Epoch 104/200\n",
            "155/155 [==============================] - 0s 3ms/step - loss: 0.4480 - val_loss: 0.4966\n",
            "Epoch 105/200\n",
            "155/155 [==============================] - 1s 3ms/step - loss: 0.4471 - val_loss: 0.5001\n",
            "Epoch 106/200\n",
            "155/155 [==============================] - 1s 4ms/step - loss: 0.4467 - val_loss: 0.5033\n",
            "Epoch 107/200\n",
            "155/155 [==============================] - 0s 3ms/step - loss: 0.4459 - val_loss: 0.5030\n",
            "Epoch 108/200\n",
            "155/155 [==============================] - 0s 3ms/step - loss: 0.4472 - val_loss: 0.4910\n",
            "Epoch 109/200\n",
            "155/155 [==============================] - 1s 3ms/step - loss: 0.4474 - val_loss: 0.4957\n",
            "Epoch 110/200\n",
            "155/155 [==============================] - 0s 3ms/step - loss: 0.4444 - val_loss: 0.5008\n",
            "Epoch 111/200\n",
            "155/155 [==============================] - 0s 3ms/step - loss: 0.4457 - val_loss: 0.5106\n",
            "Epoch 112/200\n",
            "155/155 [==============================] - 0s 3ms/step - loss: 0.4468 - val_loss: 0.4992\n",
            "Epoch 113/200\n",
            "155/155 [==============================] - 0s 3ms/step - loss: 0.4466 - val_loss: 0.4965\n",
            "Epoch 114/200\n",
            "155/155 [==============================] - 0s 3ms/step - loss: 0.4463 - val_loss: 0.4978\n",
            "Epoch 115/200\n",
            "155/155 [==============================] - 1s 3ms/step - loss: 0.4466 - val_loss: 0.4975\n",
            "Epoch 116/200\n",
            "155/155 [==============================] - 0s 3ms/step - loss: 0.4444 - val_loss: 0.4994\n",
            "Epoch 117/200\n",
            "155/155 [==============================] - 1s 3ms/step - loss: 0.4489 - val_loss: 0.5105\n",
            "Epoch 118/200\n",
            "155/155 [==============================] - 0s 3ms/step - loss: 0.4495 - val_loss: 0.5067\n",
            "Epoch 119/200\n",
            "155/155 [==============================] - 0s 3ms/step - loss: 0.4458 - val_loss: 0.5043\n",
            "Epoch 120/200\n",
            "155/155 [==============================] - 1s 3ms/step - loss: 0.4464 - val_loss: 0.4973\n",
            "Epoch 121/200\n",
            "155/155 [==============================] - 0s 3ms/step - loss: 0.4464 - val_loss: 0.4962\n",
            "Epoch 122/200\n",
            "155/155 [==============================] - 0s 3ms/step - loss: 0.4445 - val_loss: 0.4967\n",
            "Epoch 123/200\n",
            "155/155 [==============================] - 0s 2ms/step - loss: 0.4442 - val_loss: 0.4959\n",
            "Epoch 124/200\n",
            "155/155 [==============================] - 0s 3ms/step - loss: 0.4443 - val_loss: 0.4941\n",
            "Epoch 125/200\n",
            "155/155 [==============================] - 0s 3ms/step - loss: 0.4471 - val_loss: 0.5090\n",
            "Epoch 126/200\n",
            "155/155 [==============================] - 0s 3ms/step - loss: 0.4464 - val_loss: 0.4980\n",
            "Epoch 127/200\n",
            "155/155 [==============================] - 0s 3ms/step - loss: 0.4437 - val_loss: 0.5189\n",
            "Epoch 128/200\n",
            "155/155 [==============================] - 0s 3ms/step - loss: 0.4459 - val_loss: 0.4969\n",
            "Epoch 129/200\n",
            "155/155 [==============================] - 0s 3ms/step - loss: 0.4448 - val_loss: 0.5045\n",
            "Epoch 130/200\n",
            "155/155 [==============================] - 0s 3ms/step - loss: 0.4452 - val_loss: 0.5041\n",
            "Epoch 131/200\n",
            "155/155 [==============================] - 0s 3ms/step - loss: 0.4444 - val_loss: 0.5069\n",
            "Epoch 132/200\n",
            "155/155 [==============================] - 1s 3ms/step - loss: 0.4441 - val_loss: 0.5077\n",
            "Epoch 133/200\n",
            "155/155 [==============================] - 0s 3ms/step - loss: 0.4441 - val_loss: 0.5046\n",
            "Epoch 134/200\n",
            "155/155 [==============================] - 0s 3ms/step - loss: 0.4460 - val_loss: 0.4983\n",
            "Epoch 135/200\n",
            "155/155 [==============================] - 0s 2ms/step - loss: 0.4450 - val_loss: 0.4965\n",
            "Epoch 136/200\n",
            "155/155 [==============================] - 0s 3ms/step - loss: 0.4425 - val_loss: 0.5120\n",
            "Epoch 137/200\n",
            "155/155 [==============================] - 1s 3ms/step - loss: 0.4468 - val_loss: 0.5099\n",
            "Epoch 138/200\n",
            "155/155 [==============================] - 0s 3ms/step - loss: 0.4448 - val_loss: 0.5065\n",
            "Epoch 139/200\n",
            "155/155 [==============================] - 0s 3ms/step - loss: 0.4459 - val_loss: 0.5031\n",
            "Epoch 140/200\n",
            "155/155 [==============================] - 0s 3ms/step - loss: 0.4456 - val_loss: 0.5116\n",
            "Epoch 141/200\n",
            "155/155 [==============================] - 0s 2ms/step - loss: 0.4455 - val_loss: 0.5040\n",
            "Epoch 142/200\n",
            "155/155 [==============================] - 0s 3ms/step - loss: 0.4457 - val_loss: 0.5151\n",
            "Epoch 143/200\n",
            "155/155 [==============================] - 0s 3ms/step - loss: 0.4438 - val_loss: 0.5080\n",
            "Epoch 144/200\n",
            "155/155 [==============================] - 0s 3ms/step - loss: 0.4475 - val_loss: 0.5162\n",
            "Epoch 145/200\n",
            "155/155 [==============================] - 0s 3ms/step - loss: 0.4441 - val_loss: 0.5049\n",
            "Epoch 146/200\n",
            "155/155 [==============================] - 0s 3ms/step - loss: 0.4444 - val_loss: 0.5046\n",
            "Epoch 147/200\n",
            "155/155 [==============================] - 0s 3ms/step - loss: 0.4454 - val_loss: 0.4957\n",
            "Epoch 148/200\n",
            "155/155 [==============================] - 1s 3ms/step - loss: 0.4433 - val_loss: 0.5079\n",
            "Epoch 149/200\n",
            "155/155 [==============================] - 1s 3ms/step - loss: 0.4437 - val_loss: 0.5031\n",
            "Epoch 150/200\n",
            "155/155 [==============================] - 0s 3ms/step - loss: 0.4424 - val_loss: 0.5025\n",
            "Epoch 151/200\n",
            "155/155 [==============================] - 0s 3ms/step - loss: 0.4473 - val_loss: 0.5057\n",
            "Epoch 152/200\n",
            "155/155 [==============================] - 0s 2ms/step - loss: 0.4434 - val_loss: 0.4992\n",
            "Epoch 153/200\n",
            "155/155 [==============================] - 0s 3ms/step - loss: 0.4441 - val_loss: 0.5041\n",
            "Epoch 154/200\n",
            "155/155 [==============================] - 0s 3ms/step - loss: 0.4437 - val_loss: 0.4995\n",
            "Epoch 155/200\n",
            "155/155 [==============================] - 0s 3ms/step - loss: 0.4452 - val_loss: 0.5019\n",
            "Epoch 156/200\n",
            "155/155 [==============================] - 0s 3ms/step - loss: 0.4444 - val_loss: 0.5036\n",
            "Epoch 157/200\n",
            "155/155 [==============================] - 0s 3ms/step - loss: 0.4445 - val_loss: 0.5168\n",
            "Epoch 158/200\n",
            "155/155 [==============================] - 0s 3ms/step - loss: 0.4442 - val_loss: 0.5106\n",
            "Epoch 159/200\n",
            "155/155 [==============================] - 0s 3ms/step - loss: 0.4439 - val_loss: 0.5002\n",
            "Epoch 160/200\n",
            "155/155 [==============================] - 0s 3ms/step - loss: 0.4444 - val_loss: 0.5006\n",
            "Epoch 161/200\n",
            "155/155 [==============================] - 0s 3ms/step - loss: 0.4443 - val_loss: 0.5146\n",
            "Epoch 162/200\n",
            "155/155 [==============================] - 0s 2ms/step - loss: 0.4429 - val_loss: 0.5078\n",
            "Epoch 163/200\n",
            "155/155 [==============================] - 0s 2ms/step - loss: 0.4420 - val_loss: 0.5105\n",
            "Epoch 164/200\n",
            "155/155 [==============================] - 0s 3ms/step - loss: 0.4420 - val_loss: 0.5004\n",
            "Epoch 165/200\n",
            "155/155 [==============================] - 0s 3ms/step - loss: 0.4440 - val_loss: 0.4986\n",
            "Epoch 166/200\n",
            "155/155 [==============================] - 0s 3ms/step - loss: 0.4426 - val_loss: 0.4983\n",
            "Epoch 167/200\n",
            "155/155 [==============================] - 0s 3ms/step - loss: 0.4441 - val_loss: 0.5115\n",
            "Epoch 168/200\n",
            "155/155 [==============================] - 0s 3ms/step - loss: 0.4417 - val_loss: 0.5147\n",
            "Epoch 169/200\n",
            "155/155 [==============================] - 0s 3ms/step - loss: 0.4424 - val_loss: 0.5156\n",
            "Epoch 170/200\n",
            "155/155 [==============================] - 0s 3ms/step - loss: 0.4442 - val_loss: 0.5195\n",
            "Epoch 171/200\n",
            "155/155 [==============================] - 0s 3ms/step - loss: 0.4439 - val_loss: 0.5022\n",
            "Epoch 172/200\n",
            "155/155 [==============================] - 0s 2ms/step - loss: 0.4437 - val_loss: 0.5078\n",
            "Epoch 173/200\n",
            "155/155 [==============================] - 0s 3ms/step - loss: 0.4454 - val_loss: 0.5010\n",
            "Epoch 174/200\n",
            "155/155 [==============================] - 0s 2ms/step - loss: 0.4419 - val_loss: 0.5035\n",
            "Epoch 175/200\n",
            "155/155 [==============================] - 0s 3ms/step - loss: 0.4420 - val_loss: 0.5205\n",
            "Epoch 176/200\n",
            "155/155 [==============================] - 0s 2ms/step - loss: 0.4425 - val_loss: 0.5168\n",
            "Epoch 177/200\n",
            "155/155 [==============================] - 0s 3ms/step - loss: 0.4435 - val_loss: 0.5054\n",
            "Epoch 178/200\n",
            "155/155 [==============================] - 0s 3ms/step - loss: 0.4453 - val_loss: 0.5026\n",
            "Epoch 179/200\n",
            "155/155 [==============================] - 0s 3ms/step - loss: 0.4443 - val_loss: 0.5128\n",
            "Epoch 180/200\n",
            "155/155 [==============================] - 0s 3ms/step - loss: 0.4440 - val_loss: 0.5204\n",
            "Epoch 181/200\n",
            "155/155 [==============================] - 0s 3ms/step - loss: 0.4440 - val_loss: 0.5051\n",
            "Epoch 182/200\n",
            "155/155 [==============================] - 0s 3ms/step - loss: 0.4447 - val_loss: 0.5039\n",
            "Epoch 183/200\n",
            "155/155 [==============================] - 0s 2ms/step - loss: 0.4430 - val_loss: 0.5155\n",
            "Epoch 184/200\n",
            "155/155 [==============================] - 0s 3ms/step - loss: 0.4423 - val_loss: 0.5028\n",
            "Epoch 185/200\n",
            "155/155 [==============================] - 0s 3ms/step - loss: 0.4431 - val_loss: 0.5073\n",
            "Epoch 186/200\n",
            "155/155 [==============================] - 0s 3ms/step - loss: 0.4428 - val_loss: 0.5070\n",
            "Epoch 187/200\n",
            "155/155 [==============================] - 1s 3ms/step - loss: 0.4438 - val_loss: 0.5109\n",
            "Epoch 188/200\n",
            "155/155 [==============================] - 0s 2ms/step - loss: 0.4440 - val_loss: 0.5031\n",
            "Epoch 189/200\n",
            "155/155 [==============================] - 1s 3ms/step - loss: 0.4402 - val_loss: 0.5122\n",
            "Epoch 190/200\n",
            "155/155 [==============================] - 0s 3ms/step - loss: 0.4421 - val_loss: 0.4995\n",
            "Epoch 191/200\n",
            "155/155 [==============================] - 0s 3ms/step - loss: 0.4439 - val_loss: 0.4951\n",
            "Epoch 192/200\n",
            "155/155 [==============================] - 0s 3ms/step - loss: 0.4424 - val_loss: 0.5099\n",
            "Epoch 193/200\n",
            "155/155 [==============================] - 1s 3ms/step - loss: 0.4416 - val_loss: 0.5154\n",
            "Epoch 194/200\n",
            "155/155 [==============================] - 0s 3ms/step - loss: 0.4420 - val_loss: 0.5237\n",
            "Epoch 195/200\n",
            "155/155 [==============================] - 1s 3ms/step - loss: 0.4418 - val_loss: 0.5088\n",
            "Epoch 196/200\n",
            "155/155 [==============================] - 0s 3ms/step - loss: 0.4431 - val_loss: 0.5086\n",
            "Epoch 197/200\n",
            "155/155 [==============================] - 0s 3ms/step - loss: 0.4417 - val_loss: 0.5078\n",
            "Epoch 198/200\n",
            "155/155 [==============================] - 0s 3ms/step - loss: 0.4407 - val_loss: 0.5145\n",
            "Epoch 199/200\n",
            "155/155 [==============================] - 0s 3ms/step - loss: 0.4449 - val_loss: 0.5035\n",
            "Epoch 200/200\n",
            "155/155 [==============================] - 0s 3ms/step - loss: 0.4421 - val_loss: 0.5030\n"
          ]
        },
        {
          "output_type": "execute_result",
          "data": {
            "text/plain": [
              "<keras.callbacks.History at 0x7ff9bb101850>"
            ]
          },
          "metadata": {},
          "execution_count": 60
        }
      ]
    },
    {
      "cell_type": "code",
      "source": [
        "#model prediction\n",
        "predictions = (model_v3.predict(X_test) > 0.5).astype(\"int32\")\n",
        "from sklearn.metrics import classification_report,confusion_matrix\n",
        "\n",
        "\n",
        "print('confusion matrix\\n',confusion_matrix(y_test,predictions))\n",
        "print('\\n********************************************************')\n",
        "\n",
        "print('\\nclassification report\\n',classification_report(y_test,predictions))"
      ],
      "metadata": {
        "colab": {
          "base_uri": "https://localhost:8080/"
        },
        "id": "mYRJJgXGvryq",
        "outputId": "2e2ae8d8-7b17-4807-e077-c86451c85f65"
      },
      "execution_count": null,
      "outputs": [
        {
          "output_type": "stream",
          "name": "stdout",
          "text": [
            "confusion matrix\n",
            " [[848 819]\n",
            " [265 186]]\n",
            "\n",
            "********************************************************\n",
            "\n",
            "classification report\n",
            "               precision    recall  f1-score   support\n",
            "\n",
            "           0       0.76      0.51      0.61      1667\n",
            "           1       0.19      0.41      0.26       451\n",
            "\n",
            "    accuracy                           0.49      2118\n",
            "   macro avg       0.47      0.46      0.43      2118\n",
            "weighted avg       0.64      0.49      0.53      2118\n",
            "\n"
          ]
        }
      ]
    },
    {
      "cell_type": "markdown",
      "source": [
        "This model had a low accuracy of 49% which is not usable for prediciting "
      ],
      "metadata": {
        "id": "pf7edM-Q0jfC"
      }
    },
    {
      "cell_type": "markdown",
      "source": [
        "### Challenging the Solution"
      ],
      "metadata": {
        "id": "OmAZCryyaZY4"
      }
    },
    {
      "cell_type": "markdown",
      "source": [
        "**AdaGrad**"
      ],
      "metadata": {
        "id": "Gj1vVqLN0l36"
      }
    },
    {
      "cell_type": "code",
      "source": [
        "# creating an instance\n",
        "model_v2 = Sequential()\n",
        "\n",
        "model_v2.add(Dense(units=12,activation='relu'))\n",
        "model_v2.add(Dense(units=12,activation='relu'))\n",
        "model_v2.add(Dense(units=12,activation='relu'))\n",
        "model_v2.add(Dense(units=12,activation='relu'))\n",
        "\n",
        "\n",
        "# binary classification\n",
        "model_v2.add(Dense(units=1,activation='sigmoid'))\n",
        "\n",
        "\n",
        "model_v2.compile(loss ='binary_crossentropy',optimizer = 'AdaGrad')"
      ],
      "metadata": {
        "id": "izVIL_p20qiX"
      },
      "execution_count": null,
      "outputs": []
    },
    {
      "cell_type": "code",
      "source": [
        "model_v2.fit(x=X_train, y=y_train, epochs=200,validation_data=(X_test, y_test), verbose=1)"
      ],
      "metadata": {
        "colab": {
          "base_uri": "https://localhost:8080/"
        },
        "id": "9rRH_Dj00qZG",
        "outputId": "aea2d5a0-6962-4a7c-ffa6-60bfdc188f12"
      },
      "execution_count": null,
      "outputs": [
        {
          "output_type": "stream",
          "name": "stdout",
          "text": [
            "Epoch 1/200\n",
            "155/155 [==============================] - 1s 4ms/step - loss: 0.6544 - val_loss: 0.6371\n",
            "Epoch 2/200\n",
            "155/155 [==============================] - 0s 3ms/step - loss: 0.6325 - val_loss: 0.6169\n",
            "Epoch 3/200\n",
            "155/155 [==============================] - 0s 3ms/step - loss: 0.6163 - val_loss: 0.6004\n",
            "Epoch 4/200\n",
            "155/155 [==============================] - 0s 2ms/step - loss: 0.6028 - val_loss: 0.5859\n",
            "Epoch 5/200\n",
            "155/155 [==============================] - 0s 3ms/step - loss: 0.5910 - val_loss: 0.5732\n",
            "Epoch 6/200\n",
            "155/155 [==============================] - 0s 2ms/step - loss: 0.5809 - val_loss: 0.5623\n",
            "Epoch 7/200\n",
            "155/155 [==============================] - 0s 3ms/step - loss: 0.5727 - val_loss: 0.5533\n",
            "Epoch 8/200\n",
            "155/155 [==============================] - 0s 3ms/step - loss: 0.5663 - val_loss: 0.5463\n",
            "Epoch 9/200\n",
            "155/155 [==============================] - 0s 3ms/step - loss: 0.5615 - val_loss: 0.5409\n",
            "Epoch 10/200\n",
            "155/155 [==============================] - 0s 3ms/step - loss: 0.5580 - val_loss: 0.5367\n",
            "Epoch 11/200\n",
            "155/155 [==============================] - 0s 2ms/step - loss: 0.5554 - val_loss: 0.5336\n",
            "Epoch 12/200\n",
            "155/155 [==============================] - 0s 2ms/step - loss: 0.5535 - val_loss: 0.5312\n",
            "Epoch 13/200\n",
            "155/155 [==============================] - 0s 3ms/step - loss: 0.5521 - val_loss: 0.5294\n",
            "Epoch 14/200\n",
            "155/155 [==============================] - 0s 3ms/step - loss: 0.5511 - val_loss: 0.5280\n",
            "Epoch 15/200\n",
            "155/155 [==============================] - 0s 3ms/step - loss: 0.5504 - val_loss: 0.5269\n",
            "Epoch 16/200\n",
            "155/155 [==============================] - 0s 3ms/step - loss: 0.5499 - val_loss: 0.5260\n",
            "Epoch 17/200\n",
            "155/155 [==============================] - 0s 2ms/step - loss: 0.5495 - val_loss: 0.5253\n",
            "Epoch 18/200\n",
            "155/155 [==============================] - 0s 2ms/step - loss: 0.5491 - val_loss: 0.5248\n",
            "Epoch 19/200\n",
            "155/155 [==============================] - 0s 3ms/step - loss: 0.5489 - val_loss: 0.5244\n",
            "Epoch 20/200\n",
            "155/155 [==============================] - 0s 3ms/step - loss: 0.5487 - val_loss: 0.5240\n",
            "Epoch 21/200\n",
            "155/155 [==============================] - 0s 3ms/step - loss: 0.5485 - val_loss: 0.5237\n",
            "Epoch 22/200\n",
            "155/155 [==============================] - 0s 2ms/step - loss: 0.5483 - val_loss: 0.5234\n",
            "Epoch 23/200\n",
            "155/155 [==============================] - 0s 3ms/step - loss: 0.5482 - val_loss: 0.5231\n",
            "Epoch 24/200\n",
            "155/155 [==============================] - 0s 3ms/step - loss: 0.5480 - val_loss: 0.5229\n",
            "Epoch 25/200\n",
            "155/155 [==============================] - 0s 3ms/step - loss: 0.5479 - val_loss: 0.5227\n",
            "Epoch 26/200\n",
            "155/155 [==============================] - 0s 3ms/step - loss: 0.5478 - val_loss: 0.5225\n",
            "Epoch 27/200\n",
            "155/155 [==============================] - 0s 2ms/step - loss: 0.5477 - val_loss: 0.5224\n",
            "Epoch 28/200\n",
            "155/155 [==============================] - 0s 3ms/step - loss: 0.5475 - val_loss: 0.5222\n",
            "Epoch 29/200\n",
            "155/155 [==============================] - 0s 3ms/step - loss: 0.5474 - val_loss: 0.5221\n",
            "Epoch 30/200\n",
            "155/155 [==============================] - 0s 3ms/step - loss: 0.5473 - val_loss: 0.5219\n",
            "Epoch 31/200\n",
            "155/155 [==============================] - 0s 3ms/step - loss: 0.5472 - val_loss: 0.5218\n",
            "Epoch 32/200\n",
            "155/155 [==============================] - 0s 2ms/step - loss: 0.5471 - val_loss: 0.5217\n",
            "Epoch 33/200\n",
            "155/155 [==============================] - 0s 2ms/step - loss: 0.5471 - val_loss: 0.5216\n",
            "Epoch 34/200\n",
            "155/155 [==============================] - 0s 3ms/step - loss: 0.5470 - val_loss: 0.5215\n",
            "Epoch 35/200\n",
            "155/155 [==============================] - 1s 3ms/step - loss: 0.5469 - val_loss: 0.5214\n",
            "Epoch 36/200\n",
            "155/155 [==============================] - 1s 4ms/step - loss: 0.5468 - val_loss: 0.5213\n",
            "Epoch 37/200\n",
            "155/155 [==============================] - 0s 3ms/step - loss: 0.5467 - val_loss: 0.5212\n",
            "Epoch 38/200\n",
            "155/155 [==============================] - 0s 3ms/step - loss: 0.5466 - val_loss: 0.5211\n",
            "Epoch 39/200\n",
            "155/155 [==============================] - 1s 3ms/step - loss: 0.5465 - val_loss: 0.5210\n",
            "Epoch 40/200\n",
            "155/155 [==============================] - 0s 3ms/step - loss: 0.5464 - val_loss: 0.5209\n",
            "Epoch 41/200\n",
            "155/155 [==============================] - 0s 3ms/step - loss: 0.5463 - val_loss: 0.5208\n",
            "Epoch 42/200\n",
            "155/155 [==============================] - 0s 2ms/step - loss: 0.5462 - val_loss: 0.5207\n",
            "Epoch 43/200\n",
            "155/155 [==============================] - 0s 3ms/step - loss: 0.5462 - val_loss: 0.5207\n",
            "Epoch 44/200\n",
            "155/155 [==============================] - 0s 3ms/step - loss: 0.5461 - val_loss: 0.5206\n",
            "Epoch 45/200\n",
            "155/155 [==============================] - 0s 3ms/step - loss: 0.5460 - val_loss: 0.5205\n",
            "Epoch 46/200\n",
            "155/155 [==============================] - 0s 3ms/step - loss: 0.5459 - val_loss: 0.5204\n",
            "Epoch 47/200\n",
            "155/155 [==============================] - 0s 2ms/step - loss: 0.5458 - val_loss: 0.5204\n",
            "Epoch 48/200\n",
            "155/155 [==============================] - 0s 3ms/step - loss: 0.5458 - val_loss: 0.5203\n",
            "Epoch 49/200\n",
            "155/155 [==============================] - 0s 3ms/step - loss: 0.5457 - val_loss: 0.5202\n",
            "Epoch 50/200\n",
            "155/155 [==============================] - 0s 2ms/step - loss: 0.5456 - val_loss: 0.5201\n",
            "Epoch 51/200\n",
            "155/155 [==============================] - 0s 3ms/step - loss: 0.5455 - val_loss: 0.5201\n",
            "Epoch 52/200\n",
            "155/155 [==============================] - 0s 3ms/step - loss: 0.5455 - val_loss: 0.5200\n",
            "Epoch 53/200\n",
            "155/155 [==============================] - 1s 3ms/step - loss: 0.5454 - val_loss: 0.5199\n",
            "Epoch 54/200\n",
            "155/155 [==============================] - 0s 3ms/step - loss: 0.5453 - val_loss: 0.5199\n",
            "Epoch 55/200\n",
            "155/155 [==============================] - 0s 3ms/step - loss: 0.5452 - val_loss: 0.5198\n",
            "Epoch 56/200\n",
            "155/155 [==============================] - 0s 3ms/step - loss: 0.5452 - val_loss: 0.5197\n",
            "Epoch 57/200\n",
            "155/155 [==============================] - 0s 3ms/step - loss: 0.5451 - val_loss: 0.5197\n",
            "Epoch 58/200\n",
            "155/155 [==============================] - 0s 3ms/step - loss: 0.5450 - val_loss: 0.5196\n",
            "Epoch 59/200\n",
            "155/155 [==============================] - 0s 3ms/step - loss: 0.5450 - val_loss: 0.5195\n",
            "Epoch 60/200\n",
            "155/155 [==============================] - 1s 3ms/step - loss: 0.5449 - val_loss: 0.5195\n",
            "Epoch 61/200\n",
            "155/155 [==============================] - 0s 2ms/step - loss: 0.5448 - val_loss: 0.5194\n",
            "Epoch 62/200\n",
            "155/155 [==============================] - 0s 3ms/step - loss: 0.5447 - val_loss: 0.5193\n",
            "Epoch 63/200\n",
            "155/155 [==============================] - 0s 3ms/step - loss: 0.5447 - val_loss: 0.5193\n",
            "Epoch 64/200\n",
            "155/155 [==============================] - 0s 3ms/step - loss: 0.5446 - val_loss: 0.5192\n",
            "Epoch 65/200\n",
            "155/155 [==============================] - 1s 3ms/step - loss: 0.5445 - val_loss: 0.5191\n",
            "Epoch 66/200\n",
            "155/155 [==============================] - 0s 3ms/step - loss: 0.5445 - val_loss: 0.5191\n",
            "Epoch 67/200\n",
            "155/155 [==============================] - 0s 3ms/step - loss: 0.5444 - val_loss: 0.5190\n",
            "Epoch 68/200\n",
            "155/155 [==============================] - 1s 3ms/step - loss: 0.5444 - val_loss: 0.5190\n",
            "Epoch 69/200\n",
            "155/155 [==============================] - 0s 3ms/step - loss: 0.5443 - val_loss: 0.5189\n",
            "Epoch 70/200\n",
            "155/155 [==============================] - 0s 3ms/step - loss: 0.5442 - val_loss: 0.5188\n",
            "Epoch 71/200\n",
            "155/155 [==============================] - 0s 3ms/step - loss: 0.5442 - val_loss: 0.5188\n",
            "Epoch 72/200\n",
            "155/155 [==============================] - 0s 3ms/step - loss: 0.5441 - val_loss: 0.5187\n",
            "Epoch 73/200\n",
            "155/155 [==============================] - 0s 3ms/step - loss: 0.5441 - val_loss: 0.5187\n",
            "Epoch 74/200\n",
            "155/155 [==============================] - 0s 2ms/step - loss: 0.5440 - val_loss: 0.5186\n",
            "Epoch 75/200\n",
            "155/155 [==============================] - 0s 2ms/step - loss: 0.5440 - val_loss: 0.5186\n",
            "Epoch 76/200\n",
            "155/155 [==============================] - 0s 2ms/step - loss: 0.5439 - val_loss: 0.5185\n",
            "Epoch 77/200\n",
            "155/155 [==============================] - 0s 3ms/step - loss: 0.5438 - val_loss: 0.5185\n",
            "Epoch 78/200\n",
            "155/155 [==============================] - 0s 3ms/step - loss: 0.5438 - val_loss: 0.5184\n",
            "Epoch 79/200\n",
            "155/155 [==============================] - 0s 3ms/step - loss: 0.5437 - val_loss: 0.5184\n",
            "Epoch 80/200\n",
            "155/155 [==============================] - 1s 3ms/step - loss: 0.5437 - val_loss: 0.5183\n",
            "Epoch 81/200\n",
            "155/155 [==============================] - 0s 3ms/step - loss: 0.5436 - val_loss: 0.5183\n",
            "Epoch 82/200\n",
            "155/155 [==============================] - 0s 2ms/step - loss: 0.5436 - val_loss: 0.5182\n",
            "Epoch 83/200\n",
            "155/155 [==============================] - 0s 3ms/step - loss: 0.5435 - val_loss: 0.5182\n",
            "Epoch 84/200\n",
            "155/155 [==============================] - 0s 3ms/step - loss: 0.5435 - val_loss: 0.5181\n",
            "Epoch 85/200\n",
            "155/155 [==============================] - 0s 3ms/step - loss: 0.5434 - val_loss: 0.5181\n",
            "Epoch 86/200\n",
            "155/155 [==============================] - 0s 3ms/step - loss: 0.5434 - val_loss: 0.5180\n",
            "Epoch 87/200\n",
            "155/155 [==============================] - 0s 2ms/step - loss: 0.5433 - val_loss: 0.5180\n",
            "Epoch 88/200\n",
            "155/155 [==============================] - 0s 3ms/step - loss: 0.5433 - val_loss: 0.5179\n",
            "Epoch 89/200\n",
            "155/155 [==============================] - 0s 3ms/step - loss: 0.5432 - val_loss: 0.5179\n",
            "Epoch 90/200\n",
            "155/155 [==============================] - 0s 3ms/step - loss: 0.5432 - val_loss: 0.5178\n",
            "Epoch 91/200\n",
            "155/155 [==============================] - 0s 3ms/step - loss: 0.5431 - val_loss: 0.5178\n",
            "Epoch 92/200\n",
            "155/155 [==============================] - 0s 3ms/step - loss: 0.5431 - val_loss: 0.5177\n",
            "Epoch 93/200\n",
            "155/155 [==============================] - 0s 3ms/step - loss: 0.5430 - val_loss: 0.5177\n",
            "Epoch 94/200\n",
            "155/155 [==============================] - 0s 2ms/step - loss: 0.5430 - val_loss: 0.5176\n",
            "Epoch 95/200\n",
            "155/155 [==============================] - 0s 3ms/step - loss: 0.5429 - val_loss: 0.5176\n",
            "Epoch 96/200\n",
            "155/155 [==============================] - 0s 3ms/step - loss: 0.5429 - val_loss: 0.5175\n",
            "Epoch 97/200\n",
            "155/155 [==============================] - 0s 3ms/step - loss: 0.5428 - val_loss: 0.5175\n",
            "Epoch 98/200\n",
            "155/155 [==============================] - 0s 3ms/step - loss: 0.5428 - val_loss: 0.5174\n",
            "Epoch 99/200\n",
            "155/155 [==============================] - 0s 2ms/step - loss: 0.5427 - val_loss: 0.5174\n",
            "Epoch 100/200\n",
            "155/155 [==============================] - 0s 2ms/step - loss: 0.5427 - val_loss: 0.5173\n",
            "Epoch 101/200\n",
            "155/155 [==============================] - 0s 3ms/step - loss: 0.5426 - val_loss: 0.5173\n",
            "Epoch 102/200\n",
            "155/155 [==============================] - 0s 3ms/step - loss: 0.5426 - val_loss: 0.5173\n",
            "Epoch 103/200\n",
            "155/155 [==============================] - 0s 3ms/step - loss: 0.5425 - val_loss: 0.5172\n",
            "Epoch 104/200\n",
            "155/155 [==============================] - 1s 4ms/step - loss: 0.5425 - val_loss: 0.5172\n",
            "Epoch 105/200\n",
            "155/155 [==============================] - 0s 2ms/step - loss: 0.5424 - val_loss: 0.5171\n",
            "Epoch 106/200\n",
            "155/155 [==============================] - 0s 3ms/step - loss: 0.5424 - val_loss: 0.5171\n",
            "Epoch 107/200\n",
            "155/155 [==============================] - 0s 3ms/step - loss: 0.5423 - val_loss: 0.5170\n",
            "Epoch 108/200\n",
            "155/155 [==============================] - 0s 3ms/step - loss: 0.5423 - val_loss: 0.5170\n",
            "Epoch 109/200\n",
            "155/155 [==============================] - 1s 3ms/step - loss: 0.5422 - val_loss: 0.5169\n",
            "Epoch 110/200\n",
            "155/155 [==============================] - 0s 2ms/step - loss: 0.5422 - val_loss: 0.5169\n",
            "Epoch 111/200\n",
            "155/155 [==============================] - 0s 3ms/step - loss: 0.5422 - val_loss: 0.5169\n",
            "Epoch 112/200\n",
            "155/155 [==============================] - 0s 2ms/step - loss: 0.5421 - val_loss: 0.5168\n",
            "Epoch 113/200\n",
            "155/155 [==============================] - 0s 3ms/step - loss: 0.5421 - val_loss: 0.5168\n",
            "Epoch 114/200\n",
            "155/155 [==============================] - 0s 3ms/step - loss: 0.5420 - val_loss: 0.5167\n",
            "Epoch 115/200\n",
            "155/155 [==============================] - 0s 2ms/step - loss: 0.5420 - val_loss: 0.5167\n",
            "Epoch 116/200\n",
            "155/155 [==============================] - 0s 3ms/step - loss: 0.5419 - val_loss: 0.5166\n",
            "Epoch 117/200\n",
            "155/155 [==============================] - 0s 2ms/step - loss: 0.5419 - val_loss: 0.5166\n",
            "Epoch 118/200\n",
            "155/155 [==============================] - 0s 3ms/step - loss: 0.5418 - val_loss: 0.5166\n",
            "Epoch 119/200\n",
            "155/155 [==============================] - 0s 2ms/step - loss: 0.5418 - val_loss: 0.5165\n",
            "Epoch 120/200\n",
            "155/155 [==============================] - 0s 3ms/step - loss: 0.5417 - val_loss: 0.5165\n",
            "Epoch 121/200\n",
            "155/155 [==============================] - 1s 3ms/step - loss: 0.5417 - val_loss: 0.5164\n",
            "Epoch 122/200\n",
            "155/155 [==============================] - 0s 2ms/step - loss: 0.5417 - val_loss: 0.5164\n",
            "Epoch 123/200\n",
            "155/155 [==============================] - 0s 3ms/step - loss: 0.5416 - val_loss: 0.5163\n",
            "Epoch 124/200\n",
            "155/155 [==============================] - 0s 3ms/step - loss: 0.5416 - val_loss: 0.5163\n",
            "Epoch 125/200\n",
            "155/155 [==============================] - 0s 3ms/step - loss: 0.5415 - val_loss: 0.5163\n",
            "Epoch 126/200\n",
            "155/155 [==============================] - 1s 3ms/step - loss: 0.5415 - val_loss: 0.5162\n",
            "Epoch 127/200\n",
            "155/155 [==============================] - 0s 3ms/step - loss: 0.5414 - val_loss: 0.5162\n",
            "Epoch 128/200\n",
            "155/155 [==============================] - 1s 3ms/step - loss: 0.5414 - val_loss: 0.5161\n",
            "Epoch 129/200\n",
            "155/155 [==============================] - 0s 3ms/step - loss: 0.5414 - val_loss: 0.5161\n",
            "Epoch 130/200\n",
            "155/155 [==============================] - 0s 3ms/step - loss: 0.5413 - val_loss: 0.5161\n",
            "Epoch 131/200\n",
            "155/155 [==============================] - 1s 3ms/step - loss: 0.5413 - val_loss: 0.5160\n",
            "Epoch 132/200\n",
            "155/155 [==============================] - 0s 3ms/step - loss: 0.5412 - val_loss: 0.5160\n",
            "Epoch 133/200\n",
            "155/155 [==============================] - 0s 3ms/step - loss: 0.5412 - val_loss: 0.5159\n",
            "Epoch 134/200\n",
            "155/155 [==============================] - 0s 3ms/step - loss: 0.5411 - val_loss: 0.5159\n",
            "Epoch 135/200\n",
            "155/155 [==============================] - 0s 3ms/step - loss: 0.5411 - val_loss: 0.5159\n",
            "Epoch 136/200\n",
            "155/155 [==============================] - 0s 3ms/step - loss: 0.5410 - val_loss: 0.5158\n",
            "Epoch 137/200\n",
            "155/155 [==============================] - 1s 4ms/step - loss: 0.5410 - val_loss: 0.5158\n",
            "Epoch 138/200\n",
            "155/155 [==============================] - 1s 4ms/step - loss: 0.5410 - val_loss: 0.5157\n",
            "Epoch 139/200\n",
            "155/155 [==============================] - 0s 3ms/step - loss: 0.5409 - val_loss: 0.5157\n",
            "Epoch 140/200\n",
            "155/155 [==============================] - 0s 2ms/step - loss: 0.5409 - val_loss: 0.5157\n",
            "Epoch 141/200\n",
            "155/155 [==============================] - 0s 3ms/step - loss: 0.5408 - val_loss: 0.5156\n",
            "Epoch 142/200\n",
            "155/155 [==============================] - 0s 3ms/step - loss: 0.5408 - val_loss: 0.5156\n",
            "Epoch 143/200\n",
            "155/155 [==============================] - 1s 3ms/step - loss: 0.5408 - val_loss: 0.5155\n",
            "Epoch 144/200\n",
            "155/155 [==============================] - 1s 3ms/step - loss: 0.5407 - val_loss: 0.5155\n",
            "Epoch 145/200\n",
            "155/155 [==============================] - 0s 3ms/step - loss: 0.5407 - val_loss: 0.5155\n",
            "Epoch 146/200\n",
            "155/155 [==============================] - 0s 3ms/step - loss: 0.5406 - val_loss: 0.5154\n",
            "Epoch 147/200\n",
            "155/155 [==============================] - 1s 3ms/step - loss: 0.5406 - val_loss: 0.5154\n",
            "Epoch 148/200\n",
            "155/155 [==============================] - 0s 3ms/step - loss: 0.5405 - val_loss: 0.5154\n",
            "Epoch 149/200\n",
            "155/155 [==============================] - 0s 3ms/step - loss: 0.5405 - val_loss: 0.5153\n",
            "Epoch 150/200\n",
            "155/155 [==============================] - 1s 3ms/step - loss: 0.5405 - val_loss: 0.5153\n",
            "Epoch 151/200\n",
            "155/155 [==============================] - 0s 3ms/step - loss: 0.5404 - val_loss: 0.5152\n",
            "Epoch 152/200\n",
            "155/155 [==============================] - 0s 3ms/step - loss: 0.5404 - val_loss: 0.5152\n",
            "Epoch 153/200\n",
            "155/155 [==============================] - 0s 3ms/step - loss: 0.5403 - val_loss: 0.5151\n",
            "Epoch 154/200\n",
            "155/155 [==============================] - 0s 3ms/step - loss: 0.5403 - val_loss: 0.5151\n",
            "Epoch 155/200\n",
            "155/155 [==============================] - 1s 3ms/step - loss: 0.5403 - val_loss: 0.5151\n",
            "Epoch 156/200\n",
            "155/155 [==============================] - 0s 3ms/step - loss: 0.5402 - val_loss: 0.5150\n",
            "Epoch 157/200\n",
            "155/155 [==============================] - 0s 2ms/step - loss: 0.5402 - val_loss: 0.5150\n",
            "Epoch 158/200\n",
            "155/155 [==============================] - 0s 3ms/step - loss: 0.5401 - val_loss: 0.5150\n",
            "Epoch 159/200\n",
            "155/155 [==============================] - 0s 3ms/step - loss: 0.5401 - val_loss: 0.5149\n",
            "Epoch 160/200\n",
            "155/155 [==============================] - 1s 3ms/step - loss: 0.5400 - val_loss: 0.5149\n",
            "Epoch 161/200\n",
            "155/155 [==============================] - 0s 3ms/step - loss: 0.5400 - val_loss: 0.5148\n",
            "Epoch 162/200\n",
            "155/155 [==============================] - 0s 3ms/step - loss: 0.5400 - val_loss: 0.5148\n",
            "Epoch 163/200\n",
            "155/155 [==============================] - 1s 3ms/step - loss: 0.5399 - val_loss: 0.5148\n",
            "Epoch 164/200\n",
            "155/155 [==============================] - 0s 3ms/step - loss: 0.5399 - val_loss: 0.5147\n",
            "Epoch 165/200\n",
            "155/155 [==============================] - 0s 3ms/step - loss: 0.5398 - val_loss: 0.5147\n",
            "Epoch 166/200\n",
            "155/155 [==============================] - 0s 3ms/step - loss: 0.5398 - val_loss: 0.5147\n",
            "Epoch 167/200\n",
            "155/155 [==============================] - 0s 3ms/step - loss: 0.5398 - val_loss: 0.5146\n",
            "Epoch 168/200\n",
            "155/155 [==============================] - 0s 3ms/step - loss: 0.5397 - val_loss: 0.5146\n",
            "Epoch 169/200\n",
            "155/155 [==============================] - 1s 4ms/step - loss: 0.5397 - val_loss: 0.5145\n",
            "Epoch 170/200\n",
            "155/155 [==============================] - 1s 3ms/step - loss: 0.5396 - val_loss: 0.5145\n",
            "Epoch 171/200\n",
            "155/155 [==============================] - 1s 3ms/step - loss: 0.5396 - val_loss: 0.5145\n",
            "Epoch 172/200\n",
            "155/155 [==============================] - 0s 3ms/step - loss: 0.5396 - val_loss: 0.5144\n",
            "Epoch 173/200\n",
            "155/155 [==============================] - 0s 3ms/step - loss: 0.5395 - val_loss: 0.5144\n",
            "Epoch 174/200\n",
            "155/155 [==============================] - 0s 3ms/step - loss: 0.5395 - val_loss: 0.5144\n",
            "Epoch 175/200\n",
            "155/155 [==============================] - 0s 3ms/step - loss: 0.5394 - val_loss: 0.5143\n",
            "Epoch 176/200\n",
            "155/155 [==============================] - 0s 3ms/step - loss: 0.5394 - val_loss: 0.5143\n",
            "Epoch 177/200\n",
            "155/155 [==============================] - 0s 3ms/step - loss: 0.5394 - val_loss: 0.5142\n",
            "Epoch 178/200\n",
            "155/155 [==============================] - 1s 3ms/step - loss: 0.5393 - val_loss: 0.5142\n",
            "Epoch 179/200\n",
            "155/155 [==============================] - 0s 3ms/step - loss: 0.5393 - val_loss: 0.5142\n",
            "Epoch 180/200\n",
            "155/155 [==============================] - 0s 3ms/step - loss: 0.5392 - val_loss: 0.5141\n",
            "Epoch 181/200\n",
            "155/155 [==============================] - 0s 2ms/step - loss: 0.5392 - val_loss: 0.5141\n",
            "Epoch 182/200\n",
            "155/155 [==============================] - 0s 3ms/step - loss: 0.5391 - val_loss: 0.5140\n",
            "Epoch 183/200\n",
            "155/155 [==============================] - 0s 3ms/step - loss: 0.5391 - val_loss: 0.5140\n",
            "Epoch 184/200\n",
            "155/155 [==============================] - 1s 3ms/step - loss: 0.5391 - val_loss: 0.5140\n",
            "Epoch 185/200\n",
            "155/155 [==============================] - 1s 4ms/step - loss: 0.5390 - val_loss: 0.5139\n",
            "Epoch 186/200\n",
            "155/155 [==============================] - 1s 4ms/step - loss: 0.5390 - val_loss: 0.5139\n",
            "Epoch 187/200\n",
            "155/155 [==============================] - 0s 3ms/step - loss: 0.5389 - val_loss: 0.5139\n",
            "Epoch 188/200\n",
            "155/155 [==============================] - 0s 3ms/step - loss: 0.5389 - val_loss: 0.5138\n",
            "Epoch 189/200\n",
            "155/155 [==============================] - 1s 4ms/step - loss: 0.5389 - val_loss: 0.5138\n",
            "Epoch 190/200\n",
            "155/155 [==============================] - 0s 3ms/step - loss: 0.5388 - val_loss: 0.5137\n",
            "Epoch 191/200\n",
            "155/155 [==============================] - 1s 4ms/step - loss: 0.5388 - val_loss: 0.5137\n",
            "Epoch 192/200\n",
            "155/155 [==============================] - 1s 3ms/step - loss: 0.5387 - val_loss: 0.5137\n",
            "Epoch 193/200\n",
            "155/155 [==============================] - 1s 3ms/step - loss: 0.5387 - val_loss: 0.5136\n",
            "Epoch 194/200\n",
            "155/155 [==============================] - 1s 4ms/step - loss: 0.5387 - val_loss: 0.5136\n",
            "Epoch 195/200\n",
            "155/155 [==============================] - 0s 3ms/step - loss: 0.5386 - val_loss: 0.5136\n",
            "Epoch 196/200\n",
            "155/155 [==============================] - 0s 3ms/step - loss: 0.5386 - val_loss: 0.5135\n",
            "Epoch 197/200\n",
            "155/155 [==============================] - 0s 3ms/step - loss: 0.5385 - val_loss: 0.5135\n",
            "Epoch 198/200\n",
            "155/155 [==============================] - 1s 4ms/step - loss: 0.5385 - val_loss: 0.5134\n",
            "Epoch 199/200\n",
            "155/155 [==============================] - 1s 4ms/step - loss: 0.5385 - val_loss: 0.5134\n",
            "Epoch 200/200\n",
            "155/155 [==============================] - 1s 3ms/step - loss: 0.5384 - val_loss: 0.5134\n"
          ]
        },
        {
          "output_type": "execute_result",
          "data": {
            "text/plain": [
              "<keras.callbacks.History at 0x7ff9bb1711d0>"
            ]
          },
          "metadata": {},
          "execution_count": 63
        }
      ]
    },
    {
      "cell_type": "code",
      "source": [
        "model_loss = pd.DataFrame(model_v2.history.history)\n",
        "model_loss.plot()"
      ],
      "metadata": {
        "colab": {
          "base_uri": "https://localhost:8080/",
          "height": 284
        },
        "id": "cRamE0ws02zM",
        "outputId": "34089a96-f9ee-4d69-a305-d52b0b4978fa"
      },
      "execution_count": null,
      "outputs": [
        {
          "output_type": "execute_result",
          "data": {
            "text/plain": [
              "<matplotlib.axes._subplots.AxesSubplot at 0x7ff9baee0850>"
            ]
          },
          "metadata": {},
          "execution_count": 64
        },
        {
          "output_type": "display_data",
          "data": {
            "image/png": "[encoded data removed]",
            "text/plain": [
              "<Figure size 432x288 with 1 Axes>"
            ]
          },
          "metadata": {
            "needs_background": "light"
          }
        }
      ]
    },
    {
      "cell_type": "code",
      "source": [
        "#model prediction\n",
        "predictions = (model_v2.predict(X_test) > 0.5).astype(\"int32\")\n",
        "from sklearn.metrics import classification_report,confusion_matrix\n",
        "\n",
        "\n",
        "print('confusion matrix\\n',confusion_matrix(y_test,predictions))\n",
        "print('\\n********************************************************')\n",
        "\n",
        "print('\\nclassification report\\n',classification_report(y_test,predictions))"
      ],
      "metadata": {
        "colab": {
          "base_uri": "https://localhost:8080/"
        },
        "id": "LR5UfwHCvrv4",
        "outputId": "563f5974-c081-4ffb-d16b-5b2ed877fb89"
      },
      "execution_count": null,
      "outputs": [
        {
          "output_type": "stream",
          "name": "stdout",
          "text": [
            "confusion matrix\n",
            " [[1667    0]\n",
            " [ 451    0]]\n",
            "\n",
            "********************************************************\n",
            "\n",
            "classification report\n",
            "               precision    recall  f1-score   support\n",
            "\n",
            "           0       0.79      1.00      0.88      1667\n",
            "           1       0.00      0.00      0.00       451\n",
            "\n",
            "    accuracy                           0.79      2118\n",
            "   macro avg       0.39      0.50      0.44      2118\n",
            "weighted avg       0.62      0.79      0.69      2118\n",
            "\n"
          ]
        }
      ]
    },
    {
      "cell_type": "markdown",
      "source": [
        "* The accuracy of this model is 79% which is as high as our initial 400 epoch model, this sounds like the best one\n"
      ],
      "metadata": {
        "id": "pbqd7qB37c1G"
      }
    },
    {
      "cell_type": "markdown",
      "metadata": {
        "id": "xrmHVMVsVS--"
      },
      "source": [
        "## 9. Follow up questions"
      ]
    },
    {
      "cell_type": "markdown",
      "metadata": {
        "id": "HPQviDmNtta8"
      },
      "source": [
        "### a). Did we have the right data?"
      ]
    },
    {
      "cell_type": "markdown",
      "source": [
        "Yes, we had the right data."
      ],
      "metadata": {
        "id": "mD54dv8UbIOl"
      }
    },
    {
      "cell_type": "markdown",
      "metadata": {
        "id": "qjFHK1CKty7o"
      },
      "source": [
        "### b). Do we need other data to answer our question?"
      ]
    },
    {
      "cell_type": "markdown",
      "source": [
        "The data we had was sufficient to answer the question. However we may need more data to train our model for higher accuracy."
      ],
      "metadata": {
        "id": "k4dog4NFbMVO"
      }
    },
    {
      "cell_type": "markdown",
      "metadata": {
        "id": "HSsicSdvt4Zs"
      },
      "source": [
        "### c). Did we have the right question?"
      ]
    },
    {
      "cell_type": "markdown",
      "source": [
        "Yes, we had the right question."
      ],
      "metadata": {
        "id": "qoMfiiZlbbTe"
      }
    },
    {
      "cell_type": "markdown",
      "source": [
        "### Conclusion"
      ],
      "metadata": {
        "id": "Bz99fICumVCo"
      }
    },
    {
      "cell_type": "markdown",
      "source": [
        "Adam optimizer with binary_crossentropy as the loss function had the best f1 score for the classes although the overall f1 score was acceptable with about 76% the f1 score of class 1(claims) was low about 33% thus there is a need for more fine tuning to improve the scores"
      ],
      "metadata": {
        "id": "hFAjO3kZmdkb"
      }
    }
  ]
}